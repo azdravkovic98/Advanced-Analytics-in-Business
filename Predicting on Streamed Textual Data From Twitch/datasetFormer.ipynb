{
 "cells": [
  {
   "cell_type": "code",
   "execution_count": 30,
   "metadata": {},
   "outputs": [],
   "source": [
    "import os\n",
    "import pandas as pd\n",
    "import pyspark"
   ]
  },
  {
   "cell_type": "code",
   "execution_count": 57,
   "metadata": {},
   "outputs": [],
   "source": [
    "os.chdir(\"C:\\\\Users\\\\baris\\\\Desktop\\\\Advanced Analytics\\\\sparkData\")"
   ]
  },
  {
   "cell_type": "code",
   "execution_count": 58,
   "metadata": {},
   "outputs": [
    {
     "data": {
      "text/plain": [
       "'C:\\\\Users\\\\baris\\\\Desktop\\\\Advanced Analytics\\\\sparkData'"
      ]
     },
     "execution_count": 58,
     "metadata": {},
     "output_type": "execute_result"
    }
   ],
   "source": [
    "os.getcwd()"
   ]
  },
  {
   "cell_type": "code",
   "execution_count": 59,
   "metadata": {},
   "outputs": [
    {
     "data": {
      "text/plain": [
       "['C:\\\\Users\\\\baris\\\\Desktop\\\\Advanced Analytics\\\\sparkData\\\\Data-1652879790000',\n",
       " 'C:\\\\Users\\\\baris\\\\Desktop\\\\Advanced Analytics\\\\sparkData\\\\Data-1652879820000',\n",
       " 'C:\\\\Users\\\\baris\\\\Desktop\\\\Advanced Analytics\\\\sparkData\\\\Data-1652879850000',\n",
       " 'C:\\\\Users\\\\baris\\\\Desktop\\\\Advanced Analytics\\\\sparkData\\\\Data-1652879880000',\n",
       " 'C:\\\\Users\\\\baris\\\\Desktop\\\\Advanced Analytics\\\\sparkData\\\\Data-1652879910000',\n",
       " 'C:\\\\Users\\\\baris\\\\Desktop\\\\Advanced Analytics\\\\sparkData\\\\Data-1652879940000',\n",
       " 'C:\\\\Users\\\\baris\\\\Desktop\\\\Advanced Analytics\\\\sparkData\\\\Data-1652879970000',\n",
       " 'C:\\\\Users\\\\baris\\\\Desktop\\\\Advanced Analytics\\\\sparkData\\\\Data-1652880000000',\n",
       " 'C:\\\\Users\\\\baris\\\\Desktop\\\\Advanced Analytics\\\\sparkData\\\\Data-1652880030000',\n",
       " 'C:\\\\Users\\\\baris\\\\Desktop\\\\Advanced Analytics\\\\sparkData\\\\Data-1652880060000',\n",
       " 'C:\\\\Users\\\\baris\\\\Desktop\\\\Advanced Analytics\\\\sparkData\\\\Data-1652880090000',\n",
       " 'C:\\\\Users\\\\baris\\\\Desktop\\\\Advanced Analytics\\\\sparkData\\\\Data-1652880120000',\n",
       " 'C:\\\\Users\\\\baris\\\\Desktop\\\\Advanced Analytics\\\\sparkData\\\\Data-1652880150000',\n",
       " 'C:\\\\Users\\\\baris\\\\Desktop\\\\Advanced Analytics\\\\sparkData\\\\Data-1652880180000',\n",
       " 'C:\\\\Users\\\\baris\\\\Desktop\\\\Advanced Analytics\\\\sparkData\\\\Data-1652880210000',\n",
       " 'C:\\\\Users\\\\baris\\\\Desktop\\\\Advanced Analytics\\\\sparkData\\\\Data-1652880240000',\n",
       " 'C:\\\\Users\\\\baris\\\\Desktop\\\\Advanced Analytics\\\\sparkData\\\\Data-1652880270000',\n",
       " 'C:\\\\Users\\\\baris\\\\Desktop\\\\Advanced Analytics\\\\sparkData\\\\Data-1652880300000',\n",
       " 'C:\\\\Users\\\\baris\\\\Desktop\\\\Advanced Analytics\\\\sparkData\\\\Data-1652880330000',\n",
       " 'C:\\\\Users\\\\baris\\\\Desktop\\\\Advanced Analytics\\\\sparkData\\\\Data-1652880360000',\n",
       " 'C:\\\\Users\\\\baris\\\\Desktop\\\\Advanced Analytics\\\\sparkData\\\\Data-1652880390000',\n",
       " 'C:\\\\Users\\\\baris\\\\Desktop\\\\Advanced Analytics\\\\sparkData\\\\Data-1652880420000',\n",
       " 'C:\\\\Users\\\\baris\\\\Desktop\\\\Advanced Analytics\\\\sparkData\\\\Data-1652880450000',\n",
       " 'C:\\\\Users\\\\baris\\\\Desktop\\\\Advanced Analytics\\\\sparkData\\\\Data-1652880480000',\n",
       " 'C:\\\\Users\\\\baris\\\\Desktop\\\\Advanced Analytics\\\\sparkData\\\\Data-1652880510000',\n",
       " 'C:\\\\Users\\\\baris\\\\Desktop\\\\Advanced Analytics\\\\sparkData\\\\Data-1652880540000',\n",
       " 'C:\\\\Users\\\\baris\\\\Desktop\\\\Advanced Analytics\\\\sparkData\\\\Data-1652880570000',\n",
       " 'C:\\\\Users\\\\baris\\\\Desktop\\\\Advanced Analytics\\\\sparkData\\\\Data-1652880600000',\n",
       " 'C:\\\\Users\\\\baris\\\\Desktop\\\\Advanced Analytics\\\\sparkData\\\\Data-1652880630000',\n",
       " 'C:\\\\Users\\\\baris\\\\Desktop\\\\Advanced Analytics\\\\sparkData\\\\Data-1652880660000',\n",
       " 'C:\\\\Users\\\\baris\\\\Desktop\\\\Advanced Analytics\\\\sparkData\\\\Data-1652880690000',\n",
       " 'C:\\\\Users\\\\baris\\\\Desktop\\\\Advanced Analytics\\\\sparkData\\\\Data-1652880720000',\n",
       " 'C:\\\\Users\\\\baris\\\\Desktop\\\\Advanced Analytics\\\\sparkData\\\\Data-1652880750000',\n",
       " 'C:\\\\Users\\\\baris\\\\Desktop\\\\Advanced Analytics\\\\sparkData\\\\Data-1652880780000',\n",
       " 'C:\\\\Users\\\\baris\\\\Desktop\\\\Advanced Analytics\\\\sparkData\\\\Data-1652880810000',\n",
       " 'C:\\\\Users\\\\baris\\\\Desktop\\\\Advanced Analytics\\\\sparkData\\\\Data-1652880840000',\n",
       " 'C:\\\\Users\\\\baris\\\\Desktop\\\\Advanced Analytics\\\\sparkData\\\\Data-1652880870000',\n",
       " 'C:\\\\Users\\\\baris\\\\Desktop\\\\Advanced Analytics\\\\sparkData\\\\Data-1652880900000',\n",
       " 'C:\\\\Users\\\\baris\\\\Desktop\\\\Advanced Analytics\\\\sparkData\\\\Data-1652880930000',\n",
       " 'C:\\\\Users\\\\baris\\\\Desktop\\\\Advanced Analytics\\\\sparkData\\\\Data-1652880960000',\n",
       " 'C:\\\\Users\\\\baris\\\\Desktop\\\\Advanced Analytics\\\\sparkData\\\\Data-1652880990000',\n",
       " 'C:\\\\Users\\\\baris\\\\Desktop\\\\Advanced Analytics\\\\sparkData\\\\Data-1652881020000',\n",
       " 'C:\\\\Users\\\\baris\\\\Desktop\\\\Advanced Analytics\\\\sparkData\\\\Data-1652881050000',\n",
       " 'C:\\\\Users\\\\baris\\\\Desktop\\\\Advanced Analytics\\\\sparkData\\\\Data-1652881080000',\n",
       " 'C:\\\\Users\\\\baris\\\\Desktop\\\\Advanced Analytics\\\\sparkData\\\\Data-1652881110000',\n",
       " 'C:\\\\Users\\\\baris\\\\Desktop\\\\Advanced Analytics\\\\sparkData\\\\Data-1652881140000',\n",
       " 'C:\\\\Users\\\\baris\\\\Desktop\\\\Advanced Analytics\\\\sparkData\\\\Data-1652881170000',\n",
       " 'C:\\\\Users\\\\baris\\\\Desktop\\\\Advanced Analytics\\\\sparkData\\\\Data-1652881200000',\n",
       " 'C:\\\\Users\\\\baris\\\\Desktop\\\\Advanced Analytics\\\\sparkData\\\\Data-1652881230000',\n",
       " 'C:\\\\Users\\\\baris\\\\Desktop\\\\Advanced Analytics\\\\sparkData\\\\Data-1652881260000',\n",
       " 'C:\\\\Users\\\\baris\\\\Desktop\\\\Advanced Analytics\\\\sparkData\\\\Data-1652881290000',\n",
       " 'C:\\\\Users\\\\baris\\\\Desktop\\\\Advanced Analytics\\\\sparkData\\\\Data-1652881320000',\n",
       " 'C:\\\\Users\\\\baris\\\\Desktop\\\\Advanced Analytics\\\\sparkData\\\\Data-1652881350000',\n",
       " 'C:\\\\Users\\\\baris\\\\Desktop\\\\Advanced Analytics\\\\sparkData\\\\Data-1652881380000',\n",
       " 'C:\\\\Users\\\\baris\\\\Desktop\\\\Advanced Analytics\\\\sparkData\\\\Data-1652881410000',\n",
       " 'C:\\\\Users\\\\baris\\\\Desktop\\\\Advanced Analytics\\\\sparkData\\\\Data-1652881440000',\n",
       " 'C:\\\\Users\\\\baris\\\\Desktop\\\\Advanced Analytics\\\\sparkData\\\\Data-1652881470000',\n",
       " 'C:\\\\Users\\\\baris\\\\Desktop\\\\Advanced Analytics\\\\sparkData\\\\Data-1652881500000',\n",
       " 'C:\\\\Users\\\\baris\\\\Desktop\\\\Advanced Analytics\\\\sparkData\\\\Data-1652881530000',\n",
       " 'C:\\\\Users\\\\baris\\\\Desktop\\\\Advanced Analytics\\\\sparkData\\\\Data-1652881560000',\n",
       " 'C:\\\\Users\\\\baris\\\\Desktop\\\\Advanced Analytics\\\\sparkData\\\\Data-1652881590000',\n",
       " 'C:\\\\Users\\\\baris\\\\Desktop\\\\Advanced Analytics\\\\sparkData\\\\Data-1652881620000',\n",
       " 'C:\\\\Users\\\\baris\\\\Desktop\\\\Advanced Analytics\\\\sparkData\\\\Data-1652881650000',\n",
       " 'C:\\\\Users\\\\baris\\\\Desktop\\\\Advanced Analytics\\\\sparkData\\\\Data-1652881680000',\n",
       " 'C:\\\\Users\\\\baris\\\\Desktop\\\\Advanced Analytics\\\\sparkData\\\\Data-1652881710000',\n",
       " 'C:\\\\Users\\\\baris\\\\Desktop\\\\Advanced Analytics\\\\sparkData\\\\Data-1652881740000',\n",
       " 'C:\\\\Users\\\\baris\\\\Desktop\\\\Advanced Analytics\\\\sparkData\\\\Data-1652881770000',\n",
       " 'C:\\\\Users\\\\baris\\\\Desktop\\\\Advanced Analytics\\\\sparkData\\\\Data-1652881800000',\n",
       " 'C:\\\\Users\\\\baris\\\\Desktop\\\\Advanced Analytics\\\\sparkData\\\\Data-1652881830000',\n",
       " 'C:\\\\Users\\\\baris\\\\Desktop\\\\Advanced Analytics\\\\sparkData\\\\Data-1652881860000',\n",
       " 'C:\\\\Users\\\\baris\\\\Desktop\\\\Advanced Analytics\\\\sparkData\\\\Data-1652881890000',\n",
       " 'C:\\\\Users\\\\baris\\\\Desktop\\\\Advanced Analytics\\\\sparkData\\\\Data-1652881920000',\n",
       " 'C:\\\\Users\\\\baris\\\\Desktop\\\\Advanced Analytics\\\\sparkData\\\\Data-1652881950000',\n",
       " 'C:\\\\Users\\\\baris\\\\Desktop\\\\Advanced Analytics\\\\sparkData\\\\Data-1652881980000',\n",
       " 'C:\\\\Users\\\\baris\\\\Desktop\\\\Advanced Analytics\\\\sparkData\\\\Data-1652882010000',\n",
       " 'C:\\\\Users\\\\baris\\\\Desktop\\\\Advanced Analytics\\\\sparkData\\\\Data-1652882040000',\n",
       " 'C:\\\\Users\\\\baris\\\\Desktop\\\\Advanced Analytics\\\\sparkData\\\\Data-1652882070000',\n",
       " 'C:\\\\Users\\\\baris\\\\Desktop\\\\Advanced Analytics\\\\sparkData\\\\Data-1652882100000',\n",
       " 'C:\\\\Users\\\\baris\\\\Desktop\\\\Advanced Analytics\\\\sparkData\\\\Data-1652882130000',\n",
       " 'C:\\\\Users\\\\baris\\\\Desktop\\\\Advanced Analytics\\\\sparkData\\\\Data-1652882160000',\n",
       " 'C:\\\\Users\\\\baris\\\\Desktop\\\\Advanced Analytics\\\\sparkData\\\\Data-1652882190000',\n",
       " 'C:\\\\Users\\\\baris\\\\Desktop\\\\Advanced Analytics\\\\sparkData\\\\Data-1652882220000',\n",
       " 'C:\\\\Users\\\\baris\\\\Desktop\\\\Advanced Analytics\\\\sparkData\\\\Data-1652882250000',\n",
       " 'C:\\\\Users\\\\baris\\\\Desktop\\\\Advanced Analytics\\\\sparkData\\\\Data-1652882280000',\n",
       " 'C:\\\\Users\\\\baris\\\\Desktop\\\\Advanced Analytics\\\\sparkData\\\\Data-1652882310000',\n",
       " 'C:\\\\Users\\\\baris\\\\Desktop\\\\Advanced Analytics\\\\sparkData\\\\Data-1652882340000',\n",
       " 'C:\\\\Users\\\\baris\\\\Desktop\\\\Advanced Analytics\\\\sparkData\\\\Data-1652882370000',\n",
       " 'C:\\\\Users\\\\baris\\\\Desktop\\\\Advanced Analytics\\\\sparkData\\\\Data-1652882400000',\n",
       " 'C:\\\\Users\\\\baris\\\\Desktop\\\\Advanced Analytics\\\\sparkData\\\\Data-1652882430000',\n",
       " 'C:\\\\Users\\\\baris\\\\Desktop\\\\Advanced Analytics\\\\sparkData\\\\Data-1652882460000',\n",
       " 'C:\\\\Users\\\\baris\\\\Desktop\\\\Advanced Analytics\\\\sparkData\\\\Data-1652882490000',\n",
       " 'C:\\\\Users\\\\baris\\\\Desktop\\\\Advanced Analytics\\\\sparkData\\\\Data-1652882520000',\n",
       " 'C:\\\\Users\\\\baris\\\\Desktop\\\\Advanced Analytics\\\\sparkData\\\\Data-1652882550000',\n",
       " 'C:\\\\Users\\\\baris\\\\Desktop\\\\Advanced Analytics\\\\sparkData\\\\Data-1652882580000',\n",
       " 'C:\\\\Users\\\\baris\\\\Desktop\\\\Advanced Analytics\\\\sparkData\\\\Data-1652882610000',\n",
       " 'C:\\\\Users\\\\baris\\\\Desktop\\\\Advanced Analytics\\\\sparkData\\\\Data-1652882640000',\n",
       " 'C:\\\\Users\\\\baris\\\\Desktop\\\\Advanced Analytics\\\\sparkData\\\\Data-1652882670000',\n",
       " 'C:\\\\Users\\\\baris\\\\Desktop\\\\Advanced Analytics\\\\sparkData\\\\Data-1652882700000',\n",
       " 'C:\\\\Users\\\\baris\\\\Desktop\\\\Advanced Analytics\\\\sparkData\\\\Data-1652882730000',\n",
       " 'C:\\\\Users\\\\baris\\\\Desktop\\\\Advanced Analytics\\\\sparkData\\\\Data-1652882760000',\n",
       " 'C:\\\\Users\\\\baris\\\\Desktop\\\\Advanced Analytics\\\\sparkData\\\\Data-1652882790000',\n",
       " 'C:\\\\Users\\\\baris\\\\Desktop\\\\Advanced Analytics\\\\sparkData\\\\Data-1652882820000',\n",
       " 'C:\\\\Users\\\\baris\\\\Desktop\\\\Advanced Analytics\\\\sparkData\\\\Data-1652882850000',\n",
       " 'C:\\\\Users\\\\baris\\\\Desktop\\\\Advanced Analytics\\\\sparkData\\\\Data-1652882880000',\n",
       " 'C:\\\\Users\\\\baris\\\\Desktop\\\\Advanced Analytics\\\\sparkData\\\\Data-1652882910000',\n",
       " 'C:\\\\Users\\\\baris\\\\Desktop\\\\Advanced Analytics\\\\sparkData\\\\Data-1652882940000',\n",
       " 'C:\\\\Users\\\\baris\\\\Desktop\\\\Advanced Analytics\\\\sparkData\\\\Data-1652882970000',\n",
       " 'C:\\\\Users\\\\baris\\\\Desktop\\\\Advanced Analytics\\\\sparkData\\\\Data-1652883000000',\n",
       " 'C:\\\\Users\\\\baris\\\\Desktop\\\\Advanced Analytics\\\\sparkData\\\\Data-1652883030000',\n",
       " 'C:\\\\Users\\\\baris\\\\Desktop\\\\Advanced Analytics\\\\sparkData\\\\Data-1652883060000',\n",
       " 'C:\\\\Users\\\\baris\\\\Desktop\\\\Advanced Analytics\\\\sparkData\\\\Data-1652883090000',\n",
       " 'C:\\\\Users\\\\baris\\\\Desktop\\\\Advanced Analytics\\\\sparkData\\\\Data-1652883120000']"
      ]
     },
     "execution_count": 59,
     "metadata": {},
     "output_type": "execute_result"
    }
   ],
   "source": [
    "folders = [x[0] for x in os.walk(os.getcwd())][1:]\n",
    "folders"
   ]
  },
  {
   "cell_type": "code",
   "execution_count": 41,
   "metadata": {},
   "outputs": [
    {
     "name": "stdout",
     "output_type": "stream",
     "text": [
      "47\n"
     ]
    }
   ],
   "source": [
    "os.chdir('C:\\\\Users\\\\baris\\\\Desktop\\\\Advanced Analytics\\\\sparkData\\\\Data-1652879790000')\n",
    "os.getcwd()\n",
    "df = spark.read.json('C:\\\\Users\\\\baris\\\\Desktop\\\\Advanced Analytics\\\\sparkData\\\\Data-1652879790000\\\\' + 'part-00000')\n",
    "print(df.count())"
   ]
  },
  {
   "cell_type": "code",
   "execution_count": 43,
   "metadata": {},
   "outputs": [
    {
     "name": "stdout",
     "output_type": "stream",
     "text": [
      "224\n"
     ]
    }
   ],
   "source": [
    "os.chdir('C:\\\\Users\\\\baris\\\\Desktop\\\\Advanced Analytics\\\\sparkData\\\\Data-1652880930000')\n",
    "os.getcwd()\n",
    "df2 = spark.read.json('C:\\\\Users\\\\baris\\\\Desktop\\\\Advanced Analytics\\\\sparkData\\\\Data-1652880930000\\\\' + 'part-00000')\n",
    "print(df2.count())"
   ]
  },
  {
   "cell_type": "code",
   "execution_count": 44,
   "metadata": {},
   "outputs": [
    {
     "data": {
      "text/plain": [
       "271"
      ]
     },
     "execution_count": 44,
     "metadata": {},
     "output_type": "execute_result"
    }
   ],
   "source": [
    "newDf = df.union(df2)"
   ]
  },
  {
   "cell_type": "code",
   "execution_count": 16,
   "metadata": {},
   "outputs": [
    {
     "ename": "NameError",
     "evalue": "name 'folders' is not defined",
     "output_type": "error",
     "traceback": [
      "\u001b[1;31m---------------------------------------------------------------------------\u001b[0m",
      "\u001b[1;31mNameError\u001b[0m                                 Traceback (most recent call last)",
      "\u001b[1;32m<ipython-input-16-edd2e6a53b1e>\u001b[0m in \u001b[0;36m<module>\u001b[1;34m\u001b[0m\n\u001b[0;32m      1\u001b[0m \u001b[0mfinalDf\u001b[0m \u001b[1;33m=\u001b[0m \u001b[1;32mNone\u001b[0m\u001b[1;33m\u001b[0m\u001b[1;33m\u001b[0m\u001b[0m\n\u001b[0;32m      2\u001b[0m \u001b[1;33m\u001b[0m\u001b[0m\n\u001b[1;32m----> 3\u001b[1;33m \u001b[1;32mfor\u001b[0m \u001b[0mi\u001b[0m \u001b[1;32min\u001b[0m \u001b[0mfolders\u001b[0m\u001b[1;33m:\u001b[0m\u001b[1;33m\u001b[0m\u001b[1;33m\u001b[0m\u001b[0m\n\u001b[0m\u001b[0;32m      4\u001b[0m     \u001b[1;32mif\u001b[0m \u001b[0mfinalDf\u001b[0m \u001b[1;33m==\u001b[0m \u001b[1;32mNone\u001b[0m\u001b[1;33m:\u001b[0m\u001b[1;33m\u001b[0m\u001b[1;33m\u001b[0m\u001b[0m\n\u001b[0;32m      5\u001b[0m         \u001b[0mfinalDf\u001b[0m \u001b[1;33m=\u001b[0m \u001b[0mspark\u001b[0m\u001b[1;33m.\u001b[0m\u001b[0mread\u001b[0m\u001b[1;33m.\u001b[0m\u001b[0mjson\u001b[0m\u001b[1;33m(\u001b[0m\u001b[0mi\u001b[0m \u001b[1;33m+\u001b[0m \u001b[1;34m'\\\\part-00000'\u001b[0m\u001b[1;33m)\u001b[0m\u001b[1;33m\u001b[0m\u001b[1;33m\u001b[0m\u001b[0m\n",
      "\u001b[1;31mNameError\u001b[0m: name 'folders' is not defined"
     ]
    }
   ],
   "source": [
    "finalDf = None\n",
    "\n",
    "for i in folders:\n",
    "    if finalDf == None:\n",
    "        finalDf = spark.read.json(i + '\\\\part-00000')\n",
    "        print(finalDf.count())\n",
    "    else:\n",
    "        curDf = spark.read.json(i + '\\\\part-00000')\n",
    "        if len(curDf.columns) == 4:\n",
    "            finalDf = finalDf.union(curDf)\n",
    "        print(finalDf.count())\n"
   ]
  },
  {
   "cell_type": "code",
   "execution_count": 15,
   "metadata": {},
   "outputs": [
    {
     "ename": "NameError",
     "evalue": "name 'finalDf' is not defined",
     "output_type": "error",
     "traceback": [
      "\u001b[1;31m---------------------------------------------------------------------------\u001b[0m",
      "\u001b[1;31mNameError\u001b[0m                                 Traceback (most recent call last)",
      "\u001b[1;32m<ipython-input-15-fa4c07e3aeef>\u001b[0m in \u001b[0;36m<module>\u001b[1;34m\u001b[0m\n\u001b[1;32m----> 1\u001b[1;33m \u001b[0mfinalDf\u001b[0m\u001b[1;33m.\u001b[0m\u001b[0mshow\u001b[0m\u001b[1;33m(\u001b[0m\u001b[1;33m)\u001b[0m\u001b[1;33m\u001b[0m\u001b[1;33m\u001b[0m\u001b[0m\n\u001b[0m",
      "\u001b[1;31mNameError\u001b[0m: name 'finalDf' is not defined"
     ]
    }
   ],
   "source": [
    "finalDf.show()"
   ]
  },
  {
   "cell_type": "code",
   "execution_count": 1,
   "metadata": {},
   "outputs": [
    {
     "name": "stdout",
     "output_type": "stream",
     "text": [
      "Spark NLP version: 3.4.4\n",
      "Apache Spark version: 3.2.1\n"
     ]
    }
   ],
   "source": [
    "import sparknlp\n",
    "spark = sparknlp.start()\n",
    "\n",
    "print(\"Spark NLP version: {}\".format(sparknlp.version()))\n",
    "print(\"Apache Spark version: {}\".format(spark.version))"
   ]
  },
  {
   "cell_type": "code",
   "execution_count": 14,
   "metadata": {},
   "outputs": [],
   "source": [
    "from sparknlp.base import *\n",
    "from sparknlp.annotator import *\n",
    "from pyspark.ml import Pipeline\n",
    "import pandas as pd"
   ]
  },
  {
   "cell_type": "code",
   "execution_count": 68,
   "metadata": {},
   "outputs": [],
   "source": [
    "finalDf.repartition(1).write.csv(\"C:\\\\Users\\\\baris\\\\Desktop\\\\Advanced Analytics\\\\sparkData\\\\finalDf\")"
   ]
  },
  {
   "cell_type": "code",
   "execution_count": 18,
   "metadata": {},
   "outputs": [],
   "source": [
    "df = spark.read.csv(\"C:/Users/baris/Desktop/Advanced_Analytics/sparkData/finalDf/part-00000-9a26325f-9aac-42ae-a673-7446a5891c85-c000.csv\")\n",
    "finalDf= df.selectExpr(\"_c0 as channel\", \"_c1 as datetime\", \"_c2 as message\", \"_c3 as username\")\n"
   ]
  }
 ],
 "metadata": {
  "kernelspec": {
   "display_name": "Python 3",
   "language": "python",
   "name": "python3"
  },
  "language_info": {
   "codemirror_mode": {
    "name": "ipython",
    "version": 3
   },
   "file_extension": ".py",
   "mimetype": "text/x-python",
   "name": "python",
   "nbconvert_exporter": "python",
   "pygments_lexer": "ipython3",
   "version": "3.7.3"
  }
 },
 "nbformat": 4,
 "nbformat_minor": 2
}
