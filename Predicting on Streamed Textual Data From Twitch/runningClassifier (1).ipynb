{
  "nbformat": 4,
  "nbformat_minor": 0,
  "metadata": {
    "colab": {
      "name": "runningClassifier.ipynb",
      "provenance": [],
      "collapsed_sections": []
    },
    "kernelspec": {
      "name": "python3",
      "display_name": "Python 3"
    },
    "language_info": {
      "name": "python"
    }
  },
  "cells": [
    {
      "cell_type": "code",
      "execution_count": 1,
      "metadata": {
        "colab": {
          "base_uri": "https://localhost:8080/"
        },
        "id": "m5CFhjQN_FIO",
        "outputId": "095a534c-5018-4c27-959f-b3b8e6e910c2"
      },
      "outputs": [
        {
          "output_type": "stream",
          "name": "stdout",
          "text": [
            "--2022-05-29 18:23:49--  http://setup.johnsnowlabs.com/colab.sh\n",
            "Resolving setup.johnsnowlabs.com (setup.johnsnowlabs.com)... 51.158.130.125\n",
            "Connecting to setup.johnsnowlabs.com (setup.johnsnowlabs.com)|51.158.130.125|:80... connected.\n",
            "HTTP request sent, awaiting response... 302 Found\n",
            "Location: https://setup.johnsnowlabs.com/colab.sh [following]\n",
            "--2022-05-29 18:23:49--  https://setup.johnsnowlabs.com/colab.sh\n",
            "Connecting to setup.johnsnowlabs.com (setup.johnsnowlabs.com)|51.158.130.125|:443... connected.\n",
            "HTTP request sent, awaiting response... 302 Moved Temporarily\n",
            "Location: https://raw.githubusercontent.com/JohnSnowLabs/spark-nlp/master/scripts/colab_setup.sh [following]\n",
            "--2022-05-29 18:23:50--  https://raw.githubusercontent.com/JohnSnowLabs/spark-nlp/master/scripts/colab_setup.sh\n",
            "Resolving raw.githubusercontent.com (raw.githubusercontent.com)... 185.199.110.133, 185.199.111.133, 185.199.108.133, ...\n",
            "Connecting to raw.githubusercontent.com (raw.githubusercontent.com)|185.199.110.133|:443... connected.\n",
            "HTTP request sent, awaiting response... 200 OK\n",
            "Length: 1603 (1.6K) [text/plain]\n",
            "Saving to: ‘STDOUT’\n",
            "\n",
            "-                     0%[                    ]       0  --.-KB/s               setup Colab for PySpark 3.0.3 and Spark NLP 3.4.4\n",
            "Installing PySpark 3.0.3 and Spark NLP 3.4.4\n",
            "-                   100%[===================>]   1.57K  --.-KB/s    in 0.001s  \n",
            "\n",
            "2022-05-29 18:23:50 (1.85 MB/s) - written to stdout [1603/1603]\n",
            "\n",
            "\u001b[K     |████████████████████████████████| 209.1 MB 61 kB/s \n",
            "\u001b[K     |████████████████████████████████| 145 kB 58.2 MB/s \n",
            "\u001b[K     |████████████████████████████████| 198 kB 69.3 MB/s \n",
            "\u001b[?25h  Building wheel for pyspark (setup.py) ... \u001b[?25l\u001b[?25hdone\n"
          ]
        }
      ],
      "source": [
        "!wget http://setup.johnsnowlabs.com/colab.sh -O - | bash"
      ]
    },
    {
      "cell_type": "code",
      "source": [
        "import sparknlp\n",
        "spark = sparknlp.start()\n",
        "\n",
        "print(\"Spark NLP version: {}\".format(sparknlp.version()))\n",
        "print(\"Apache Spark version: {}\".format(spark.version))"
      ],
      "metadata": {
        "colab": {
          "base_uri": "https://localhost:8080/"
        },
        "id": "ILpIE1Bi_F0j",
        "outputId": "28c00372-a6fe-48c1-d52e-3cc55add8e30"
      },
      "execution_count": 2,
      "outputs": [
        {
          "output_type": "stream",
          "name": "stdout",
          "text": [
            "Spark NLP version: 3.4.4\n",
            "Apache Spark version: 3.0.3\n"
          ]
        }
      ]
    },
    {
      "cell_type": "code",
      "source": [
        "df = spark.read.csv(\"/content/part-00000-9a26325f-9aac-42ae-a673-7446a5891c85-c000.csv\")\n",
        "df.show()"
      ],
      "metadata": {
        "colab": {
          "base_uri": "https://localhost:8080/"
        },
        "id": "M2AG1nOd_Hgt",
        "outputId": "2b912d14-2b2a-445f-ab54-9fb3d2cbfb8b"
      },
      "execution_count": 3,
      "outputs": [
        {
          "output_type": "stream",
          "name": "stdout",
          "text": [
            "+----------+--------------------+--------------------+--------------------+\n",
            "|       _c0|                 _c1|                 _c2|                 _c3|\n",
            "+----------+--------------------+--------------------+--------------------+\n",
            "|#loltyler1|2022-05-18T13:16:...|           PepeLaugh|             chururu|\n",
            "|#asmongold|2022-05-18T13:16:...|there's actually ...|       hotchocolate_|\n",
            "|#asmongold|2022-05-18T13:16:...| How did they sleep?|          tensolin01|\n",
            "|#asmongold|2022-05-18T13:16:...|Hey zack! what ar...|        shadowprides|\n",
            "|#asmongold|2022-05-18T13:16:...|   KEKL HES LAUGHING|           infero_rs|\n",
            "|#asmongold|2022-05-18T13:16:...|               UMMMM|          kekw_typer|\n",
            "|#asmongold|2022-05-18T13:16:...|         Magnum pint|             reset_3|\n",
            "|#asmongold|2022-05-18T13:16:...|       GIGA MEGAPINT|          braybaybay|\n",
            "|#asmongold|2022-05-18T13:16:...|magnum bottle for...|     shadow_slayer84|\n",
            "|#asmongold|2022-05-18T13:16:...|                null|           biozilla_|\n",
            "|#asmongold|2022-05-18T13:16:...|WHAT IS THIS? A P...|    itoldyouitstaken|\n",
            "|#asmongold|2022-05-18T13:16:...|SHE DOENST KNMOW ...|          jon71trick|\n",
            "|#asmongold|2022-05-18T13:16:...|              AAAWGH|           katzkatzz|\n",
            "|#loltyler1|2022-05-18T13:16:...|tyler1B1 PotFrien...|ressurect_harambe...|\n",
            "|#asmongold|2022-05-18T13:16:...|            hard bed|         spallsballs|\n",
            "|#asmongold|2022-05-18T13:16:...|            MEGAPINT|          reaver2828|\n",
            "|#asmongold|2022-05-18T13:16:...|         UUH POOGERS|            guzzedup|\n",
            "|#asmongold|2022-05-18T13:16:...|           Mega poop|            a_alaa99|\n",
            "|#asmongold|2022-05-18T13:16:...|            MEGAPINT|              haltux|\n",
            "|#asmongold|2022-05-18T13:16:...|The picture of th...|           takykardi|\n",
            "+----------+--------------------+--------------------+--------------------+\n",
            "only showing top 20 rows\n",
            "\n"
          ]
        }
      ]
    },
    {
      "cell_type": "code",
      "source": [
        "df = df.selectExpr(\"_c0 as channel\", \"_c1 as datetime\", \"_c2 as message\", \"_c3 as username\")\n",
        "df.printSchema()"
      ],
      "metadata": {
        "colab": {
          "base_uri": "https://localhost:8080/"
        },
        "id": "S7CWECln_TyM",
        "outputId": "5e6fae89-6562-433b-dfd3-6476232087bf"
      },
      "execution_count": 4,
      "outputs": [
        {
          "output_type": "stream",
          "name": "stdout",
          "text": [
            "root\n",
            " |-- channel: string (nullable = true)\n",
            " |-- datetime: string (nullable = true)\n",
            " |-- message: string (nullable = true)\n",
            " |-- username: string (nullable = true)\n",
            "\n"
          ]
        }
      ]
    },
    {
      "cell_type": "code",
      "source": [
        "df.show(n=10,truncate=False)"
      ],
      "metadata": {
        "id": "8ZcdkEI_X-_1",
        "colab": {
          "base_uri": "https://localhost:8080/"
        },
        "outputId": "f3d6a9ae-100d-40aa-c2b5-5b0cf9e66125"
      },
      "execution_count": 5,
      "outputs": [
        {
          "output_type": "stream",
          "name": "stdout",
          "text": [
            "+----------+--------------------------+-----------------------------------------------------------------+---------------+\n",
            "|channel   |datetime                  |message                                                          |username       |\n",
            "+----------+--------------------------+-----------------------------------------------------------------+---------------+\n",
            "|#loltyler1|2022-05-18T13:16:23.552211|PepeLaugh                                                        |chururu        |\n",
            "|#asmongold|2022-05-18T13:16:23.552356|there's actually a bunch of weird ass names for wine bottle sizes|hotchocolate_  |\n",
            "|#asmongold|2022-05-18T13:16:23.552509|How did they sleep?                                              |tensolin01     |\n",
            "|#asmongold|2022-05-18T13:16:23.945155|Hey zack! what are you doing on  @Asmongold channel?             |shadowprides   |\n",
            "|#asmongold|2022-05-18T13:16:24.108031|KEKL HES LAUGHING                                                |infero_rs      |\n",
            "|#asmongold|2022-05-18T13:16:24.108375|UMMMM                                                            |kekw_typer     |\n",
            "|#asmongold|2022-05-18T13:16:24.108639|Magnum pint                                                      |reset_3        |\n",
            "|#asmongold|2022-05-18T13:16:24.270754|GIGA MEGAPINT                                                    |braybaybay     |\n",
            "|#asmongold|2022-05-18T13:16:24.271072|magnum bottle for the megapint                                   |shadow_slayer84|\n",
            "|#asmongold|2022-05-18T13:16:24.271950|null                                                             |biozilla_      |\n",
            "+----------+--------------------------+-----------------------------------------------------------------+---------------+\n",
            "only showing top 10 rows\n",
            "\n"
          ]
        }
      ]
    },
    {
      "cell_type": "code",
      "source": [
        "from sparknlp.base import *\n",
        "from sparknlp.annotator import *\n",
        "from pyspark.ml import Pipeline\n",
        "from pyspark.ml.feature import CountVectorizer\n",
        "from pyspark.ml.feature import HashingTF, IDF, Tokenizer\n",
        "from pyspark.ml.classification import LogisticRegression\n",
        "from pyspark.ml.feature import VectorAssembler\n",
        "from pyspark.ml.feature import StringIndexer\n",
        "import pandas as pd"
      ],
      "metadata": {
        "id": "5yz1F_mk_UEP"
      },
      "execution_count": 50,
      "outputs": []
    },
    {
      "cell_type": "code",
      "source": [
        "pdDf = df.toPandas()\n",
        "pdDf.head()"
      ],
      "metadata": {
        "id": "NTi4knr7luUd",
        "colab": {
          "base_uri": "https://localhost:8080/",
          "height": 206
        },
        "outputId": "9d0c72af-4a61-4022-e410-6f79bf2ce801"
      },
      "execution_count": 10,
      "outputs": [
        {
          "output_type": "execute_result",
          "data": {
            "text/plain": [
              "      channel                    datetime  \\\n",
              "0  #loltyler1  2022-05-18T13:16:23.552211   \n",
              "1  #asmongold  2022-05-18T13:16:23.552356   \n",
              "2  #asmongold  2022-05-18T13:16:23.552509   \n",
              "3  #asmongold  2022-05-18T13:16:23.945155   \n",
              "4  #asmongold  2022-05-18T13:16:24.108031   \n",
              "\n",
              "                                             message       username  \n",
              "0                                          PepeLaugh        chururu  \n",
              "1  there's actually a bunch of weird ass names fo...  hotchocolate_  \n",
              "2                                How did they sleep?     tensolin01  \n",
              "3  Hey zack! what are you doing on  @Asmongold ch...   shadowprides  \n",
              "4                                  KEKL HES LAUGHING      infero_rs  "
            ],
            "text/html": [
              "\n",
              "  <div id=\"df-21baba17-35d1-4e00-b7b2-d5c9ec37a0df\">\n",
              "    <div class=\"colab-df-container\">\n",
              "      <div>\n",
              "<style scoped>\n",
              "    .dataframe tbody tr th:only-of-type {\n",
              "        vertical-align: middle;\n",
              "    }\n",
              "\n",
              "    .dataframe tbody tr th {\n",
              "        vertical-align: top;\n",
              "    }\n",
              "\n",
              "    .dataframe thead th {\n",
              "        text-align: right;\n",
              "    }\n",
              "</style>\n",
              "<table border=\"1\" class=\"dataframe\">\n",
              "  <thead>\n",
              "    <tr style=\"text-align: right;\">\n",
              "      <th></th>\n",
              "      <th>channel</th>\n",
              "      <th>datetime</th>\n",
              "      <th>message</th>\n",
              "      <th>username</th>\n",
              "    </tr>\n",
              "  </thead>\n",
              "  <tbody>\n",
              "    <tr>\n",
              "      <th>0</th>\n",
              "      <td>#loltyler1</td>\n",
              "      <td>2022-05-18T13:16:23.552211</td>\n",
              "      <td>PepeLaugh</td>\n",
              "      <td>chururu</td>\n",
              "    </tr>\n",
              "    <tr>\n",
              "      <th>1</th>\n",
              "      <td>#asmongold</td>\n",
              "      <td>2022-05-18T13:16:23.552356</td>\n",
              "      <td>there's actually a bunch of weird ass names fo...</td>\n",
              "      <td>hotchocolate_</td>\n",
              "    </tr>\n",
              "    <tr>\n",
              "      <th>2</th>\n",
              "      <td>#asmongold</td>\n",
              "      <td>2022-05-18T13:16:23.552509</td>\n",
              "      <td>How did they sleep?</td>\n",
              "      <td>tensolin01</td>\n",
              "    </tr>\n",
              "    <tr>\n",
              "      <th>3</th>\n",
              "      <td>#asmongold</td>\n",
              "      <td>2022-05-18T13:16:23.945155</td>\n",
              "      <td>Hey zack! what are you doing on  @Asmongold ch...</td>\n",
              "      <td>shadowprides</td>\n",
              "    </tr>\n",
              "    <tr>\n",
              "      <th>4</th>\n",
              "      <td>#asmongold</td>\n",
              "      <td>2022-05-18T13:16:24.108031</td>\n",
              "      <td>KEKL HES LAUGHING</td>\n",
              "      <td>infero_rs</td>\n",
              "    </tr>\n",
              "  </tbody>\n",
              "</table>\n",
              "</div>\n",
              "      <button class=\"colab-df-convert\" onclick=\"convertToInteractive('df-21baba17-35d1-4e00-b7b2-d5c9ec37a0df')\"\n",
              "              title=\"Convert this dataframe to an interactive table.\"\n",
              "              style=\"display:none;\">\n",
              "        \n",
              "  <svg xmlns=\"http://www.w3.org/2000/svg\" height=\"24px\"viewBox=\"0 0 24 24\"\n",
              "       width=\"24px\">\n",
              "    <path d=\"M0 0h24v24H0V0z\" fill=\"none\"/>\n",
              "    <path d=\"M18.56 5.44l.94 2.06.94-2.06 2.06-.94-2.06-.94-.94-2.06-.94 2.06-2.06.94zm-11 1L8.5 8.5l.94-2.06 2.06-.94-2.06-.94L8.5 2.5l-.94 2.06-2.06.94zm10 10l.94 2.06.94-2.06 2.06-.94-2.06-.94-.94-2.06-.94 2.06-2.06.94z\"/><path d=\"M17.41 7.96l-1.37-1.37c-.4-.4-.92-.59-1.43-.59-.52 0-1.04.2-1.43.59L10.3 9.45l-7.72 7.72c-.78.78-.78 2.05 0 2.83L4 21.41c.39.39.9.59 1.41.59.51 0 1.02-.2 1.41-.59l7.78-7.78 2.81-2.81c.8-.78.8-2.07 0-2.86zM5.41 20L4 18.59l7.72-7.72 1.47 1.35L5.41 20z\"/>\n",
              "  </svg>\n",
              "      </button>\n",
              "      \n",
              "  <style>\n",
              "    .colab-df-container {\n",
              "      display:flex;\n",
              "      flex-wrap:wrap;\n",
              "      gap: 12px;\n",
              "    }\n",
              "\n",
              "    .colab-df-convert {\n",
              "      background-color: #E8F0FE;\n",
              "      border: none;\n",
              "      border-radius: 50%;\n",
              "      cursor: pointer;\n",
              "      display: none;\n",
              "      fill: #1967D2;\n",
              "      height: 32px;\n",
              "      padding: 0 0 0 0;\n",
              "      width: 32px;\n",
              "    }\n",
              "\n",
              "    .colab-df-convert:hover {\n",
              "      background-color: #E2EBFA;\n",
              "      box-shadow: 0px 1px 2px rgba(60, 64, 67, 0.3), 0px 1px 3px 1px rgba(60, 64, 67, 0.15);\n",
              "      fill: #174EA6;\n",
              "    }\n",
              "\n",
              "    [theme=dark] .colab-df-convert {\n",
              "      background-color: #3B4455;\n",
              "      fill: #D2E3FC;\n",
              "    }\n",
              "\n",
              "    [theme=dark] .colab-df-convert:hover {\n",
              "      background-color: #434B5C;\n",
              "      box-shadow: 0px 1px 3px 1px rgba(0, 0, 0, 0.15);\n",
              "      filter: drop-shadow(0px 1px 2px rgba(0, 0, 0, 0.3));\n",
              "      fill: #FFFFFF;\n",
              "    }\n",
              "  </style>\n",
              "\n",
              "      <script>\n",
              "        const buttonEl =\n",
              "          document.querySelector('#df-21baba17-35d1-4e00-b7b2-d5c9ec37a0df button.colab-df-convert');\n",
              "        buttonEl.style.display =\n",
              "          google.colab.kernel.accessAllowed ? 'block' : 'none';\n",
              "\n",
              "        async function convertToInteractive(key) {\n",
              "          const element = document.querySelector('#df-21baba17-35d1-4e00-b7b2-d5c9ec37a0df');\n",
              "          const dataTable =\n",
              "            await google.colab.kernel.invokeFunction('convertToInteractive',\n",
              "                                                     [key], {});\n",
              "          if (!dataTable) return;\n",
              "\n",
              "          const docLinkHtml = 'Like what you see? Visit the ' +\n",
              "            '<a target=\"_blank\" href=https://colab.research.google.com/notebooks/data_table.ipynb>data table notebook</a>'\n",
              "            + ' to learn more about interactive tables.';\n",
              "          element.innerHTML = '';\n",
              "          dataTable['output_type'] = 'display_data';\n",
              "          await google.colab.output.renderOutput(dataTable, element);\n",
              "          const docLink = document.createElement('div');\n",
              "          docLink.innerHTML = docLinkHtml;\n",
              "          element.appendChild(docLink);\n",
              "        }\n",
              "      </script>\n",
              "    </div>\n",
              "  </div>\n",
              "  "
            ]
          },
          "metadata": {},
          "execution_count": 10
        }
      ]
    },
    {
      "cell_type": "code",
      "source": [
        "pdDf[pdDf.username==\"fossabot\"][ pdDf.channel==\"#asmongold\"].head()\n"
      ],
      "metadata": {
        "id": "y7O9p9bvlPFs",
        "colab": {
          "base_uri": "https://localhost:8080/",
          "height": 262
        },
        "outputId": "60148829-4c72-40fb-c778-44a39a58a3c0"
      },
      "execution_count": 11,
      "outputs": [
        {
          "output_type": "stream",
          "name": "stderr",
          "text": [
            "/usr/local/lib/python3.7/dist-packages/ipykernel_launcher.py:1: UserWarning: Boolean Series key will be reindexed to match DataFrame index.\n",
            "  \"\"\"Entry point for launching an IPython kernel.\n"
          ]
        },
        {
          "output_type": "execute_result",
          "data": {
            "text/plain": [
              "         channel                    datetime  \\\n",
              "968   #asmongold  2022-05-18T13:18:06.751754   \n",
              "1278  #asmongold  2022-05-18T13:18:40.384981   \n",
              "1596  #asmongold  2022-05-18T13:19:22.131524   \n",
              "1601  #asmongold  2022-05-18T13:19:22.458026   \n",
              "1758  #asmongold  2022-05-18T13:19:48.184743   \n",
              "\n",
              "                                                message  username  \n",
              "968   @HavenAU, Please stop one-man spamming. [warning]  fossabot  \n",
              "1278  @jordan_rehbock, Please stop one-man spamming....  fossabot  \n",
              "1596  @bosnianvibe, Please stop one-man spamming. [w...  fossabot  \n",
              "1601  @Stingler7 Asmongold has been live for 18 minu...  fossabot  \n",
              "1758  @BackScratch, Please stop one-man spamming. [w...  fossabot  "
            ],
            "text/html": [
              "\n",
              "  <div id=\"df-65584ca2-dbcb-432d-a7c3-ecf678c37e9f\">\n",
              "    <div class=\"colab-df-container\">\n",
              "      <div>\n",
              "<style scoped>\n",
              "    .dataframe tbody tr th:only-of-type {\n",
              "        vertical-align: middle;\n",
              "    }\n",
              "\n",
              "    .dataframe tbody tr th {\n",
              "        vertical-align: top;\n",
              "    }\n",
              "\n",
              "    .dataframe thead th {\n",
              "        text-align: right;\n",
              "    }\n",
              "</style>\n",
              "<table border=\"1\" class=\"dataframe\">\n",
              "  <thead>\n",
              "    <tr style=\"text-align: right;\">\n",
              "      <th></th>\n",
              "      <th>channel</th>\n",
              "      <th>datetime</th>\n",
              "      <th>message</th>\n",
              "      <th>username</th>\n",
              "    </tr>\n",
              "  </thead>\n",
              "  <tbody>\n",
              "    <tr>\n",
              "      <th>968</th>\n",
              "      <td>#asmongold</td>\n",
              "      <td>2022-05-18T13:18:06.751754</td>\n",
              "      <td>@HavenAU, Please stop one-man spamming. [warning]</td>\n",
              "      <td>fossabot</td>\n",
              "    </tr>\n",
              "    <tr>\n",
              "      <th>1278</th>\n",
              "      <td>#asmongold</td>\n",
              "      <td>2022-05-18T13:18:40.384981</td>\n",
              "      <td>@jordan_rehbock, Please stop one-man spamming....</td>\n",
              "      <td>fossabot</td>\n",
              "    </tr>\n",
              "    <tr>\n",
              "      <th>1596</th>\n",
              "      <td>#asmongold</td>\n",
              "      <td>2022-05-18T13:19:22.131524</td>\n",
              "      <td>@bosnianvibe, Please stop one-man spamming. [w...</td>\n",
              "      <td>fossabot</td>\n",
              "    </tr>\n",
              "    <tr>\n",
              "      <th>1601</th>\n",
              "      <td>#asmongold</td>\n",
              "      <td>2022-05-18T13:19:22.458026</td>\n",
              "      <td>@Stingler7 Asmongold has been live for 18 minu...</td>\n",
              "      <td>fossabot</td>\n",
              "    </tr>\n",
              "    <tr>\n",
              "      <th>1758</th>\n",
              "      <td>#asmongold</td>\n",
              "      <td>2022-05-18T13:19:48.184743</td>\n",
              "      <td>@BackScratch, Please stop one-man spamming. [w...</td>\n",
              "      <td>fossabot</td>\n",
              "    </tr>\n",
              "  </tbody>\n",
              "</table>\n",
              "</div>\n",
              "      <button class=\"colab-df-convert\" onclick=\"convertToInteractive('df-65584ca2-dbcb-432d-a7c3-ecf678c37e9f')\"\n",
              "              title=\"Convert this dataframe to an interactive table.\"\n",
              "              style=\"display:none;\">\n",
              "        \n",
              "  <svg xmlns=\"http://www.w3.org/2000/svg\" height=\"24px\"viewBox=\"0 0 24 24\"\n",
              "       width=\"24px\">\n",
              "    <path d=\"M0 0h24v24H0V0z\" fill=\"none\"/>\n",
              "    <path d=\"M18.56 5.44l.94 2.06.94-2.06 2.06-.94-2.06-.94-.94-2.06-.94 2.06-2.06.94zm-11 1L8.5 8.5l.94-2.06 2.06-.94-2.06-.94L8.5 2.5l-.94 2.06-2.06.94zm10 10l.94 2.06.94-2.06 2.06-.94-2.06-.94-.94-2.06-.94 2.06-2.06.94z\"/><path d=\"M17.41 7.96l-1.37-1.37c-.4-.4-.92-.59-1.43-.59-.52 0-1.04.2-1.43.59L10.3 9.45l-7.72 7.72c-.78.78-.78 2.05 0 2.83L4 21.41c.39.39.9.59 1.41.59.51 0 1.02-.2 1.41-.59l7.78-7.78 2.81-2.81c.8-.78.8-2.07 0-2.86zM5.41 20L4 18.59l7.72-7.72 1.47 1.35L5.41 20z\"/>\n",
              "  </svg>\n",
              "      </button>\n",
              "      \n",
              "  <style>\n",
              "    .colab-df-container {\n",
              "      display:flex;\n",
              "      flex-wrap:wrap;\n",
              "      gap: 12px;\n",
              "    }\n",
              "\n",
              "    .colab-df-convert {\n",
              "      background-color: #E8F0FE;\n",
              "      border: none;\n",
              "      border-radius: 50%;\n",
              "      cursor: pointer;\n",
              "      display: none;\n",
              "      fill: #1967D2;\n",
              "      height: 32px;\n",
              "      padding: 0 0 0 0;\n",
              "      width: 32px;\n",
              "    }\n",
              "\n",
              "    .colab-df-convert:hover {\n",
              "      background-color: #E2EBFA;\n",
              "      box-shadow: 0px 1px 2px rgba(60, 64, 67, 0.3), 0px 1px 3px 1px rgba(60, 64, 67, 0.15);\n",
              "      fill: #174EA6;\n",
              "    }\n",
              "\n",
              "    [theme=dark] .colab-df-convert {\n",
              "      background-color: #3B4455;\n",
              "      fill: #D2E3FC;\n",
              "    }\n",
              "\n",
              "    [theme=dark] .colab-df-convert:hover {\n",
              "      background-color: #434B5C;\n",
              "      box-shadow: 0px 1px 3px 1px rgba(0, 0, 0, 0.15);\n",
              "      filter: drop-shadow(0px 1px 2px rgba(0, 0, 0, 0.3));\n",
              "      fill: #FFFFFF;\n",
              "    }\n",
              "  </style>\n",
              "\n",
              "      <script>\n",
              "        const buttonEl =\n",
              "          document.querySelector('#df-65584ca2-dbcb-432d-a7c3-ecf678c37e9f button.colab-df-convert');\n",
              "        buttonEl.style.display =\n",
              "          google.colab.kernel.accessAllowed ? 'block' : 'none';\n",
              "\n",
              "        async function convertToInteractive(key) {\n",
              "          const element = document.querySelector('#df-65584ca2-dbcb-432d-a7c3-ecf678c37e9f');\n",
              "          const dataTable =\n",
              "            await google.colab.kernel.invokeFunction('convertToInteractive',\n",
              "                                                     [key], {});\n",
              "          if (!dataTable) return;\n",
              "\n",
              "          const docLinkHtml = 'Like what you see? Visit the ' +\n",
              "            '<a target=\"_blank\" href=https://colab.research.google.com/notebooks/data_table.ipynb>data table notebook</a>'\n",
              "            + ' to learn more about interactive tables.';\n",
              "          element.innerHTML = '';\n",
              "          dataTable['output_type'] = 'display_data';\n",
              "          await google.colab.output.renderOutput(dataTable, element);\n",
              "          const docLink = document.createElement('div');\n",
              "          docLink.innerHTML = docLinkHtml;\n",
              "          element.appendChild(docLink);\n",
              "        }\n",
              "      </script>\n",
              "    </div>\n",
              "  </div>\n",
              "  "
            ]
          },
          "metadata": {},
          "execution_count": 11
        }
      ]
    },
    {
      "cell_type": "code",
      "source": [
        "count=pdDf.groupby(['username','channel'])['message'].count().reset_index(name='count') \\\n",
        "                             .sort_values(['count'], ascending=False) \n",
        "count.head()"
      ],
      "metadata": {
        "colab": {
          "base_uri": "https://localhost:8080/",
          "height": 206
        },
        "id": "A2t68qlRyfHC",
        "outputId": "a580d7ae-aac5-49d8-f3a5-72e0d860d91d"
      },
      "execution_count": 48,
      "outputs": [
        {
          "output_type": "execute_result",
          "data": {
            "text/plain": [
              "           username     channel  count\n",
              "3457       fossabot  #loltyler1    400\n",
              "3456       fossabot  #asmongold    136\n",
              "909       based_one  #loltyler1    118\n",
              "5355  kekw_spammer_  #loltyler1    112\n",
              "7595         orkx10  #asmongold     96"
            ],
            "text/html": [
              "\n",
              "  <div id=\"df-6516cf88-9c54-43c2-a234-a862b89a7d8e\">\n",
              "    <div class=\"colab-df-container\">\n",
              "      <div>\n",
              "<style scoped>\n",
              "    .dataframe tbody tr th:only-of-type {\n",
              "        vertical-align: middle;\n",
              "    }\n",
              "\n",
              "    .dataframe tbody tr th {\n",
              "        vertical-align: top;\n",
              "    }\n",
              "\n",
              "    .dataframe thead th {\n",
              "        text-align: right;\n",
              "    }\n",
              "</style>\n",
              "<table border=\"1\" class=\"dataframe\">\n",
              "  <thead>\n",
              "    <tr style=\"text-align: right;\">\n",
              "      <th></th>\n",
              "      <th>username</th>\n",
              "      <th>channel</th>\n",
              "      <th>count</th>\n",
              "    </tr>\n",
              "  </thead>\n",
              "  <tbody>\n",
              "    <tr>\n",
              "      <th>3457</th>\n",
              "      <td>fossabot</td>\n",
              "      <td>#loltyler1</td>\n",
              "      <td>400</td>\n",
              "    </tr>\n",
              "    <tr>\n",
              "      <th>3456</th>\n",
              "      <td>fossabot</td>\n",
              "      <td>#asmongold</td>\n",
              "      <td>136</td>\n",
              "    </tr>\n",
              "    <tr>\n",
              "      <th>909</th>\n",
              "      <td>based_one</td>\n",
              "      <td>#loltyler1</td>\n",
              "      <td>118</td>\n",
              "    </tr>\n",
              "    <tr>\n",
              "      <th>5355</th>\n",
              "      <td>kekw_spammer_</td>\n",
              "      <td>#loltyler1</td>\n",
              "      <td>112</td>\n",
              "    </tr>\n",
              "    <tr>\n",
              "      <th>7595</th>\n",
              "      <td>orkx10</td>\n",
              "      <td>#asmongold</td>\n",
              "      <td>96</td>\n",
              "    </tr>\n",
              "  </tbody>\n",
              "</table>\n",
              "</div>\n",
              "      <button class=\"colab-df-convert\" onclick=\"convertToInteractive('df-6516cf88-9c54-43c2-a234-a862b89a7d8e')\"\n",
              "              title=\"Convert this dataframe to an interactive table.\"\n",
              "              style=\"display:none;\">\n",
              "        \n",
              "  <svg xmlns=\"http://www.w3.org/2000/svg\" height=\"24px\"viewBox=\"0 0 24 24\"\n",
              "       width=\"24px\">\n",
              "    <path d=\"M0 0h24v24H0V0z\" fill=\"none\"/>\n",
              "    <path d=\"M18.56 5.44l.94 2.06.94-2.06 2.06-.94-2.06-.94-.94-2.06-.94 2.06-2.06.94zm-11 1L8.5 8.5l.94-2.06 2.06-.94-2.06-.94L8.5 2.5l-.94 2.06-2.06.94zm10 10l.94 2.06.94-2.06 2.06-.94-2.06-.94-.94-2.06-.94 2.06-2.06.94z\"/><path d=\"M17.41 7.96l-1.37-1.37c-.4-.4-.92-.59-1.43-.59-.52 0-1.04.2-1.43.59L10.3 9.45l-7.72 7.72c-.78.78-.78 2.05 0 2.83L4 21.41c.39.39.9.59 1.41.59.51 0 1.02-.2 1.41-.59l7.78-7.78 2.81-2.81c.8-.78.8-2.07 0-2.86zM5.41 20L4 18.59l7.72-7.72 1.47 1.35L5.41 20z\"/>\n",
              "  </svg>\n",
              "      </button>\n",
              "      \n",
              "  <style>\n",
              "    .colab-df-container {\n",
              "      display:flex;\n",
              "      flex-wrap:wrap;\n",
              "      gap: 12px;\n",
              "    }\n",
              "\n",
              "    .colab-df-convert {\n",
              "      background-color: #E8F0FE;\n",
              "      border: none;\n",
              "      border-radius: 50%;\n",
              "      cursor: pointer;\n",
              "      display: none;\n",
              "      fill: #1967D2;\n",
              "      height: 32px;\n",
              "      padding: 0 0 0 0;\n",
              "      width: 32px;\n",
              "    }\n",
              "\n",
              "    .colab-df-convert:hover {\n",
              "      background-color: #E2EBFA;\n",
              "      box-shadow: 0px 1px 2px rgba(60, 64, 67, 0.3), 0px 1px 3px 1px rgba(60, 64, 67, 0.15);\n",
              "      fill: #174EA6;\n",
              "    }\n",
              "\n",
              "    [theme=dark] .colab-df-convert {\n",
              "      background-color: #3B4455;\n",
              "      fill: #D2E3FC;\n",
              "    }\n",
              "\n",
              "    [theme=dark] .colab-df-convert:hover {\n",
              "      background-color: #434B5C;\n",
              "      box-shadow: 0px 1px 3px 1px rgba(0, 0, 0, 0.15);\n",
              "      filter: drop-shadow(0px 1px 2px rgba(0, 0, 0, 0.3));\n",
              "      fill: #FFFFFF;\n",
              "    }\n",
              "  </style>\n",
              "\n",
              "      <script>\n",
              "        const buttonEl =\n",
              "          document.querySelector('#df-6516cf88-9c54-43c2-a234-a862b89a7d8e button.colab-df-convert');\n",
              "        buttonEl.style.display =\n",
              "          google.colab.kernel.accessAllowed ? 'block' : 'none';\n",
              "\n",
              "        async function convertToInteractive(key) {\n",
              "          const element = document.querySelector('#df-6516cf88-9c54-43c2-a234-a862b89a7d8e');\n",
              "          const dataTable =\n",
              "            await google.colab.kernel.invokeFunction('convertToInteractive',\n",
              "                                                     [key], {});\n",
              "          if (!dataTable) return;\n",
              "\n",
              "          const docLinkHtml = 'Like what you see? Visit the ' +\n",
              "            '<a target=\"_blank\" href=https://colab.research.google.com/notebooks/data_table.ipynb>data table notebook</a>'\n",
              "            + ' to learn more about interactive tables.';\n",
              "          element.innerHTML = '';\n",
              "          dataTable['output_type'] = 'display_data';\n",
              "          await google.colab.output.renderOutput(dataTable, element);\n",
              "          const docLink = document.createElement('div');\n",
              "          docLink.innerHTML = docLinkHtml;\n",
              "          element.appendChild(docLink);\n",
              "        }\n",
              "      </script>\n",
              "    </div>\n",
              "  </div>\n",
              "  "
            ]
          },
          "metadata": {},
          "execution_count": 48
        }
      ]
    },
    {
      "cell_type": "code",
      "source": [
        "count.plot.box()\n",
        "count.describe()"
      ],
      "metadata": {
        "colab": {
          "base_uri": "https://localhost:8080/",
          "height": 548
        },
        "id": "IlWj_npeObNA",
        "outputId": "7e90101c-0b5b-426f-b3ce-d494e696c58f"
      },
      "execution_count": 25,
      "outputs": [
        {
          "output_type": "execute_result",
          "data": {
            "text/plain": [
              "              count\n",
              "count  11706.000000\n",
              "mean       3.561165\n",
              "std        7.035060\n",
              "min        0.000000\n",
              "25%        1.000000\n",
              "50%        2.000000\n",
              "75%        3.000000\n",
              "max      400.000000"
            ],
            "text/html": [
              "\n",
              "  <div id=\"df-19440a08-9afc-47d3-bcec-405ad12dac17\">\n",
              "    <div class=\"colab-df-container\">\n",
              "      <div>\n",
              "<style scoped>\n",
              "    .dataframe tbody tr th:only-of-type {\n",
              "        vertical-align: middle;\n",
              "    }\n",
              "\n",
              "    .dataframe tbody tr th {\n",
              "        vertical-align: top;\n",
              "    }\n",
              "\n",
              "    .dataframe thead th {\n",
              "        text-align: right;\n",
              "    }\n",
              "</style>\n",
              "<table border=\"1\" class=\"dataframe\">\n",
              "  <thead>\n",
              "    <tr style=\"text-align: right;\">\n",
              "      <th></th>\n",
              "      <th>count</th>\n",
              "    </tr>\n",
              "  </thead>\n",
              "  <tbody>\n",
              "    <tr>\n",
              "      <th>count</th>\n",
              "      <td>11706.000000</td>\n",
              "    </tr>\n",
              "    <tr>\n",
              "      <th>mean</th>\n",
              "      <td>3.561165</td>\n",
              "    </tr>\n",
              "    <tr>\n",
              "      <th>std</th>\n",
              "      <td>7.035060</td>\n",
              "    </tr>\n",
              "    <tr>\n",
              "      <th>min</th>\n",
              "      <td>0.000000</td>\n",
              "    </tr>\n",
              "    <tr>\n",
              "      <th>25%</th>\n",
              "      <td>1.000000</td>\n",
              "    </tr>\n",
              "    <tr>\n",
              "      <th>50%</th>\n",
              "      <td>2.000000</td>\n",
              "    </tr>\n",
              "    <tr>\n",
              "      <th>75%</th>\n",
              "      <td>3.000000</td>\n",
              "    </tr>\n",
              "    <tr>\n",
              "      <th>max</th>\n",
              "      <td>400.000000</td>\n",
              "    </tr>\n",
              "  </tbody>\n",
              "</table>\n",
              "</div>\n",
              "      <button class=\"colab-df-convert\" onclick=\"convertToInteractive('df-19440a08-9afc-47d3-bcec-405ad12dac17')\"\n",
              "              title=\"Convert this dataframe to an interactive table.\"\n",
              "              style=\"display:none;\">\n",
              "        \n",
              "  <svg xmlns=\"http://www.w3.org/2000/svg\" height=\"24px\"viewBox=\"0 0 24 24\"\n",
              "       width=\"24px\">\n",
              "    <path d=\"M0 0h24v24H0V0z\" fill=\"none\"/>\n",
              "    <path d=\"M18.56 5.44l.94 2.06.94-2.06 2.06-.94-2.06-.94-.94-2.06-.94 2.06-2.06.94zm-11 1L8.5 8.5l.94-2.06 2.06-.94-2.06-.94L8.5 2.5l-.94 2.06-2.06.94zm10 10l.94 2.06.94-2.06 2.06-.94-2.06-.94-.94-2.06-.94 2.06-2.06.94z\"/><path d=\"M17.41 7.96l-1.37-1.37c-.4-.4-.92-.59-1.43-.59-.52 0-1.04.2-1.43.59L10.3 9.45l-7.72 7.72c-.78.78-.78 2.05 0 2.83L4 21.41c.39.39.9.59 1.41.59.51 0 1.02-.2 1.41-.59l7.78-7.78 2.81-2.81c.8-.78.8-2.07 0-2.86zM5.41 20L4 18.59l7.72-7.72 1.47 1.35L5.41 20z\"/>\n",
              "  </svg>\n",
              "      </button>\n",
              "      \n",
              "  <style>\n",
              "    .colab-df-container {\n",
              "      display:flex;\n",
              "      flex-wrap:wrap;\n",
              "      gap: 12px;\n",
              "    }\n",
              "\n",
              "    .colab-df-convert {\n",
              "      background-color: #E8F0FE;\n",
              "      border: none;\n",
              "      border-radius: 50%;\n",
              "      cursor: pointer;\n",
              "      display: none;\n",
              "      fill: #1967D2;\n",
              "      height: 32px;\n",
              "      padding: 0 0 0 0;\n",
              "      width: 32px;\n",
              "    }\n",
              "\n",
              "    .colab-df-convert:hover {\n",
              "      background-color: #E2EBFA;\n",
              "      box-shadow: 0px 1px 2px rgba(60, 64, 67, 0.3), 0px 1px 3px 1px rgba(60, 64, 67, 0.15);\n",
              "      fill: #174EA6;\n",
              "    }\n",
              "\n",
              "    [theme=dark] .colab-df-convert {\n",
              "      background-color: #3B4455;\n",
              "      fill: #D2E3FC;\n",
              "    }\n",
              "\n",
              "    [theme=dark] .colab-df-convert:hover {\n",
              "      background-color: #434B5C;\n",
              "      box-shadow: 0px 1px 3px 1px rgba(0, 0, 0, 0.15);\n",
              "      filter: drop-shadow(0px 1px 2px rgba(0, 0, 0, 0.3));\n",
              "      fill: #FFFFFF;\n",
              "    }\n",
              "  </style>\n",
              "\n",
              "      <script>\n",
              "        const buttonEl =\n",
              "          document.querySelector('#df-19440a08-9afc-47d3-bcec-405ad12dac17 button.colab-df-convert');\n",
              "        buttonEl.style.display =\n",
              "          google.colab.kernel.accessAllowed ? 'block' : 'none';\n",
              "\n",
              "        async function convertToInteractive(key) {\n",
              "          const element = document.querySelector('#df-19440a08-9afc-47d3-bcec-405ad12dac17');\n",
              "          const dataTable =\n",
              "            await google.colab.kernel.invokeFunction('convertToInteractive',\n",
              "                                                     [key], {});\n",
              "          if (!dataTable) return;\n",
              "\n",
              "          const docLinkHtml = 'Like what you see? Visit the ' +\n",
              "            '<a target=\"_blank\" href=https://colab.research.google.com/notebooks/data_table.ipynb>data table notebook</a>'\n",
              "            + ' to learn more about interactive tables.';\n",
              "          element.innerHTML = '';\n",
              "          dataTable['output_type'] = 'display_data';\n",
              "          await google.colab.output.renderOutput(dataTable, element);\n",
              "          const docLink = document.createElement('div');\n",
              "          docLink.innerHTML = docLinkHtml;\n",
              "          element.appendChild(docLink);\n",
              "        }\n",
              "      </script>\n",
              "    </div>\n",
              "  </div>\n",
              "  "
            ]
          },
          "metadata": {},
          "execution_count": 25
        },
        {
          "output_type": "display_data",
          "data": {
            "text/plain": [
              "<Figure size 432x288 with 1 Axes>"
            ],
            "image/png": "[encoded data removed]"
          },
          "metadata": {
            "needs_background": "light"
          }
        }
      ]
    },
    {
      "cell_type": "code",
      "source": [
        "# actual content is inside description column\n",
        "document = DocumentAssembler()\\\n",
        "    .setInputCol(\"message\")\\\n",
        "    .setOutputCol(\"document\")\n",
        "    \n",
        "# we can also use sentence detector here \n",
        "# if we want to train on and get predictions for each sentence\n",
        "# downloading pretrained embeddings\n",
        "use = UniversalSentenceEncoder.pretrained()\\\n",
        " .setInputCols([\"document\"])\\\n",
        " .setOutputCol(\"sentence_embeddings\")  \n",
        "\n",
        "#tokenizer = Tokenizer(inputCol=\"username\", outputCol=\"user\")\n",
        "# wordsData = tokenizer.transform(dfSmall)\n",
        "\n",
        "#hashingTF = HashingTF(inputCol=tokenizer.getOutputCol(), outputCol=\"rawFeatures\")\n",
        "# featurizedData = hashingTF.transform(wordsData)\n",
        "# alternatively, CountVectorizer can also be used to get term frequency vectors\n",
        "\n",
        "#idf = IDF(inputCol=hashingTF.getOutputCol(), outputCol=\"features\")\n",
        "\n",
        "#assembler = VectorAssembler(inputCols=[\"features\", \"class\"],outputCol=\"finFeatures\")\n",
        "#idfModel = idf.fit(featurizedData)\n",
        "#rescaledData = idfModel.transform(featurizedData)\n",
        "\n",
        "# the classes/labels/categories are in category column\n",
        "classsifierdl = ClassifierDLApproach()\\\n",
        "  .setInputCols([\"sentence_embeddings\"])\\\n",
        "  .setOutputCol(\"class\")\\\n",
        "  .setLabelColumn(\"channel\")\\\n",
        "  .setMaxEpochs(5)\\\n",
        "  .setEnableOutputLogs(True)\n",
        "\n",
        "#dt = DecisionTreeClassifier(labelCol=\"channel\", featuresCol=\"finFeatures\")\n",
        "\n",
        "use_clf_pipeline = Pipeline(\n",
        "    stages = [\n",
        "        document,\n",
        "        use,\n",
        "        #tokenizer,\n",
        "        #hashingTF,\n",
        "        #idf,\n",
        "        classsifierdl\n",
        "        #assembler,\n",
        "        #dt\n",
        "    ])"
      ],
      "metadata": {
        "id": "MXsviAru_XW1",
        "colab": {
          "base_uri": "https://localhost:8080/"
        },
        "outputId": "661c182d-a250-4470-f4e3-e23138a955b9"
      },
      "execution_count": 24,
      "outputs": [
        {
          "output_type": "stream",
          "name": "stdout",
          "text": [
            "tfhub_use download started this may take some time.\n",
            "Approximate size to download 923.7 MB\n",
            "[OK!]\n"
          ]
        }
      ]
    },
    {
      "cell_type": "code",
      "source": [
        "trainDataset, valDataset, testDataset = df.randomSplit([0.6, 0.2, 0.2])"
      ],
      "metadata": {
        "id": "qmmyX_Pa_o62"
      },
      "execution_count": 91,
      "outputs": []
    },
    {
      "cell_type": "code",
      "source": [
        "\n",
        "doc=document.transform(df)\n",
        "encoded=use.transform(doc[doc.username=='fossabot'])\n",
        "encoded.show(truncate=False)"
      ],
      "metadata": {
        "colab": {
          "base_uri": "https://localhost:8080/"
        },
        "id": "cN4WI3QZT-N_",
        "outputId": "154d3522-6e57-4e9c-e6eb-47088c30c351"
      },
      "execution_count": 45,
      "outputs": [
        {
          "output_type": "stream",
          "name": "stdout",
          "text": [
            "+----------+--------------------------+-------------------------------------------------------------------+--------+-------------------------------------------------------------------------------------------------------------+---------------------------------------------------------------------------------------------------------------------------------------------------------------------------------------------------------------------------------------------------------------------------------------------------------------------------------------------------------------------------------------------------------------------------------------------------------------------------------------------------------------------------------------------------------------------------------------------------------------------------------------------------------------------------------------------------------------------------------------------------------------------------------------------------------------------------------------------------------------------------------------------------------------------------------------------------------------------------------------------------------------------------------------------------------------------------------------------------------------------------------------------------------------------------------------------------------------------------------------------------------------------------------------------------------------------------------------------------------------------------------------------------------------------------------------------------------------------------------------------------------------------------------------------------------------------------------------------------------------------------------------------------------------------------------------------------------------------------------------------------------------------------------------------------------------------------------------------------------------------------------------------------------------------------------------------------------------------------------------------------------------------------------------------------------------------------------------------------------------------------------------------------------------------------------------------------------------------------------------------------------------------------------------------------------------------------------------------------------------------------------------------------------------------------------------------------------------------------------------------------------------------------------------------------------------------------------------------------------------------------------------------------------------------------------------------------------------------------------------------------------------------------------------------------------------------------------------------------------------------------------------------------------------------------------------------------------------------------------------------------------------------------------------------------------------------------------------------------------------------------------------------------------------------------------------------------------------------------------------------------------------------------------------------------------------------------------------------------------------------------------------------------------------------------------------------------------------------------------------------------------------------------------------------------------------------------------------------------------------------------------------------------------------------------------------------------------------------------------------------------------------------------------------------------------------------------------------------------------------------------------------------------------------------------------------------------------------------------------------------------------------------------------------------------------------------------------------------------------------------------------------------------------------------------------------------------------------------------------------------------------------------------------------------------------------------------------------------------------------------------------------------------------------------------------------------------------------------------------------------------------------------------------------------------------------------------------------------------------------------------------------------------------------------------------------------------------------------------------------------------------------------------------------------------------------------------------------------------------------------------------------------------------------------------------------------------------------------------------------------------------------------------------------------------------------------------------------------------------------------------------------------------------------------------------------------------------------------------------------------------------------------------------------------------------------------------------------------------------------------------------------------------------------------------------------------------------------------------------------------------------------------------------------------------------------------------------------------------------------------------------------------------------------------------------------------------------------------------------------------------------------------------------------------------------------------------------------------------------------------------------------------------------------------------------------------------------------------------------------------------------------------------------------------------------------------------------------------------------------------------------------------------------------------------------------------------------------------------------------------------------------------------------------------------------------------------------------------------------------------------------------------------------------------------------------------------------------------------------------------------------------------------------------------------------------------------------------------------------------------------------------------------------------------------------------------------------------------------------------------------------------------------------------------------------------------------------------------------------------------------------------------------------------------------------------------------------------------------------------------------------------------------------------------------------------------------------------------------------------------------------------------------------------------------------------------------------------------------------------------------------------------------------------------------------------+\n",
            "|channel   |datetime                  |message                                                            |username|document                                                                                                     |sentence_embeddings                                                                                                                                                                                                                                                                                                                                                                                                                                                                                                                                                                                                                                                                                                                                                                                                                                                                                                                                                                                                                                                                                                                                                                                                                                                                                                                                                                                                                                                                                                                                                                                                                                                                                                                                                                                                                                                                                                                                                                                                                                                                                                                                                                                                                                                                                                                                                                                                                                                                                                                                                                                                                                                                                                                                                                                                                                                                                                                                                                                                                                                                                                                                                                                                                                                                                                                                                                                                                                                                                                                                                                                                                                                                                                                                                                                                                                                                                                                                                                                                                                                                                                                                                                                                                                                                                                                                                                                                                                                                                                                                                                                                                                                                                                                                                                                                                                                                                                                                                                                                                                                                                                                                                                                                                                                                                                                                                                                                                                                                                                                                                                                                                                                                                                                                                                                                                                                                                                                                                                                                                                                                                                                                                                                                                                                                                                                                                                                                                                                                                                                                                                                                                                                                                                                                                                                                                                                                                                                                                                                                                                                                                                                                                                                                                                                                                            |\n",
            "+----------+--------------------------+-------------------------------------------------------------------+--------+-------------------------------------------------------------------------------------------------------------+---------------------------------------------------------------------------------------------------------------------------------------------------------------------------------------------------------------------------------------------------------------------------------------------------------------------------------------------------------------------------------------------------------------------------------------------------------------------------------------------------------------------------------------------------------------------------------------------------------------------------------------------------------------------------------------------------------------------------------------------------------------------------------------------------------------------------------------------------------------------------------------------------------------------------------------------------------------------------------------------------------------------------------------------------------------------------------------------------------------------------------------------------------------------------------------------------------------------------------------------------------------------------------------------------------------------------------------------------------------------------------------------------------------------------------------------------------------------------------------------------------------------------------------------------------------------------------------------------------------------------------------------------------------------------------------------------------------------------------------------------------------------------------------------------------------------------------------------------------------------------------------------------------------------------------------------------------------------------------------------------------------------------------------------------------------------------------------------------------------------------------------------------------------------------------------------------------------------------------------------------------------------------------------------------------------------------------------------------------------------------------------------------------------------------------------------------------------------------------------------------------------------------------------------------------------------------------------------------------------------------------------------------------------------------------------------------------------------------------------------------------------------------------------------------------------------------------------------------------------------------------------------------------------------------------------------------------------------------------------------------------------------------------------------------------------------------------------------------------------------------------------------------------------------------------------------------------------------------------------------------------------------------------------------------------------------------------------------------------------------------------------------------------------------------------------------------------------------------------------------------------------------------------------------------------------------------------------------------------------------------------------------------------------------------------------------------------------------------------------------------------------------------------------------------------------------------------------------------------------------------------------------------------------------------------------------------------------------------------------------------------------------------------------------------------------------------------------------------------------------------------------------------------------------------------------------------------------------------------------------------------------------------------------------------------------------------------------------------------------------------------------------------------------------------------------------------------------------------------------------------------------------------------------------------------------------------------------------------------------------------------------------------------------------------------------------------------------------------------------------------------------------------------------------------------------------------------------------------------------------------------------------------------------------------------------------------------------------------------------------------------------------------------------------------------------------------------------------------------------------------------------------------------------------------------------------------------------------------------------------------------------------------------------------------------------------------------------------------------------------------------------------------------------------------------------------------------------------------------------------------------------------------------------------------------------------------------------------------------------------------------------------------------------------------------------------------------------------------------------------------------------------------------------------------------------------------------------------------------------------------------------------------------------------------------------------------------------------------------------------------------------------------------------------------------------------------------------------------------------------------------------------------------------------------------------------------------------------------------------------------------------------------------------------------------------------------------------------------------------------------------------------------------------------------------------------------------------------------------------------------------------------------------------------------------------------------------------------------------------------------------------------------------------------------------------------------------------------------------------------------------------------------------------------------------------------------------------------------------------------------------------------------------------------------------------------------------------------------------------------------------------------------------------------------------------------------------------------------------------------------------------------------------------------------------------------------------------------------------------------------------------------------------------------------------------+\n",
            "|#loltyler1|2022-05-18T13:16:30.818536|@anxul https://www.op.gg/summoners/kr/BIG%20TONKA%20T              |fossabot|[[document, 0, 52, @anxul https://www.op.gg/summoners/kr/BIG%20TONKA%20T, [sentence -> 0], []]]              |[[sentence_embeddings, 0, 52, @anxul https://www.op.gg/summoners/kr/BIG%20TONKA%20T, [sentence -> 0, token -> @anxul https://www.op.gg/summoners/kr/BIG%20TONKA%20T, pieceId -> -1, isWordStart -> true], [0.024453692, 0.03896055, -0.023020707, 0.047682814, 0.03132409, 0.0139451, -0.06012876, -0.07531994, -0.078401506, 0.0351926, 0.02815352, -0.0667094, -0.05817134, 0.015272904, -0.07401896, -0.0018795123, -0.0021126738, -0.04139579, -0.009452428, -0.029964397, -0.04572412, 0.039193947, -0.04130771, -0.050159723, -0.032759123, 0.077503994, -0.00290732, -0.09076204, -0.05360854, 2.0385842E-4, -1.8565332E-5, -7.371169E-4, -0.05632953, -0.012237904, -0.04994016, -0.004198152, 0.013135936, 0.015111868, 0.052726783, 0.00406609, 0.03753208, 8.7832403E-4, 0.072944954, 0.018591246, 0.036458205, 0.030897465, -0.07019971, 0.03345759, 0.024419038, -0.018968446, 0.029772753, 0.010404857, 0.020156814, -0.003266273, 0.087013744, -0.076956086, 0.009130658, -0.018893912, -0.015825193, -0.04462404, 0.0018590322, -0.03012068, 0.026555073, -0.057381026, 0.04721206, -0.07047482, 0.064607, 0.06055666, 0.06096711, 0.007851919, -0.06991965, 1.1966773E-4, -0.031514432, -0.07139832, -0.03373083, 0.021635054, -0.016397987, 0.048354026, -0.0385805, -0.024729142, 0.039875045, -0.072487295, 0.002328857, -0.037536025, 0.012355792, 0.038269565, 0.0024141702, 0.008264374, 0.02332696, -0.085493036, 0.045740336, 0.0056464067, -0.025567472, -0.012868665, 0.060362283, -0.008483949, -0.059795506, 0.015186395, 0.014625263, 0.052578963, -0.0107635185, -0.04588131, -0.055252355, 0.047849778, -0.033721942, -0.019749308, -0.031516243, 0.0048509426, 0.038845748, 0.01603951, -0.058407594, 0.0139176175, 0.07340113, 9.1038167E-4, -0.0666475, 0.05040063, 0.050453935, -0.09081187, 0.046426263, 0.013562147, 0.013418111, -0.03209852, -0.01664209, -0.039348394, -0.00959115, -0.08178856, -0.020108612, -0.027308034, 0.016338274, 0.007530344, 0.036552973, -0.01400224, 0.021532984, 0.050904002, -0.063227005, -0.010793459, 0.013414429, -0.009862202, 0.08998024, 0.0027381808, -0.021262283, -0.012423135, -0.06415571, 0.026993586, 0.0018022927, 0.0061696675, -9.209806E-4, 0.035814155, 0.031407803, -0.05240547, 0.06549793, -0.08107609, 0.06533032, -0.04041497, -0.015999982, -0.015313426, 0.019091949, -0.058201946, 0.0034959998, -0.06246249, -0.09011895, -0.014621168, 0.01789798, 0.0375622, 0.020428183, -0.03142849, -0.046011727, -0.030247387, -0.01688183, 0.026681263, -0.0379123, 0.015922349, 0.005302648, 0.025268788, 0.08249809, -0.02840897, 0.036101382, -0.031100864, -0.07820805, 0.06438906, -0.06646834, -0.02269793, 0.034343313, -0.042092327, 0.07368602, -0.038589817, 0.032334685, -0.02383193, 0.07646244, 0.023935337, 0.025927637, -0.03058411, 0.041805003, -0.0056384224, -0.029355451, -0.08574255, -4.6629127E-4, 0.008272008, -0.048934594, -0.0021006956, 0.03778483, -0.022880701, 0.04317236, 0.064162225, 0.021421328, -0.040570952, 0.050575923, 0.06625802, -0.05741382, 0.048712783, 0.08798597, 0.06566682, 0.002337916, 0.07201536, -0.031990528, -0.0647463, 0.0369972, -0.021770041, -0.07592754, 0.05087142, 0.033925008, -0.013129315, 0.01891443, 0.029207509, 0.006053504, -0.039328348, -0.036253747, -0.0379121, -0.023500562, 0.030812725, -0.014887716, 0.038269147, 0.058673605, 5.921196E-4, -0.012918828, 0.036327276, 0.034671612, 0.07199306, -0.0014446108, -0.06385758, 0.04447909, 0.05469913, 0.008614135, 0.039184477, -0.03904919, 0.015292663, -0.03526041, 0.0657248, -0.050004993, -0.021867678, -0.025260236, 0.038126133, 0.069327705, 0.0047393017, 0.05639208, -0.033942897, -0.0027060285, 0.060384706, -0.049253743, 0.08243498, 0.013448522, -0.03015302, -0.030134924, 0.023231506, -0.053201213, -0.055579253, 0.0010045093, 0.002373033, -0.027197696, -0.011324387, 0.052352868, 0.018241592, -0.06701899, 0.050802346, -0.074750975, -0.043330166, 0.011436835, -0.03480037, -0.034034554, -0.054978896, -0.0066411346, -0.03208271, -3.5543172E-4, -0.03931382, -0.048441224, 0.0056214184, 0.005248792, -0.010392383, 0.016922323, -0.0070785377, 0.031969946, -0.084558554, 0.04656389, -0.057370648, -0.0078623, 0.025834758, -0.03203825, 0.025598837, -0.044627625, -0.03812907, -0.030115355, -0.00952735, -0.037308376, 0.057382222, 0.044056293, -0.024051014, 0.082387775, 0.025795378, 0.052716713, -0.05092216, 0.08100515, -0.002599159, -0.0014985609, 0.040106818, -0.018859558, -0.010753121, -0.05119464, 0.010021641, -0.009386571, -0.05537549, 0.04018562, -0.0138524985, 0.03923647, -0.0044503305, -0.0116126435, 0.061202645, 0.0069336807, -0.066694, 0.06979075, -0.024760015, 0.002105899, -9.980989E-4, 0.02202688, -0.037994865, -0.003269211, 0.027116453, 0.07019354, 0.078840084, 0.009599897, -0.08713575, -0.008316855, 0.027668795, -0.037900906, 0.0076217693, -0.024244875, 0.06699456, -0.056019347, 0.05570507, 0.053519037, 0.04047364, -0.012628803, -0.053244002, 0.048002854, 0.0358303, -0.032421283, 0.040405456, -0.03061733, 0.041165743, -0.011306147, -0.009028581, -0.030009411, 0.013077784, 0.012125364, 0.024725143, 0.0076623536, 0.052279398, -0.035585567, 0.08834817, -0.06360183, 0.084257565, -0.03374651, -0.0508009, -0.044969555, 0.018084709, 0.013085709, 0.062118962, -0.022294382, -0.03873039, 0.048210528, 0.05135799, 0.042722803, 0.0023261805, -0.05208899, 0.06992726, 0.00231306, -0.023729408, 0.06619914, -0.06437388, -0.06980577, -0.03825807, -0.038015023, 0.06347339, -0.04055829, 0.003115014, -0.050411068, 0.0063110976, -0.04331005, 0.032239884, -0.041605294, 0.021318853, -0.022525417, -0.012618151, -0.0731032, 0.04078581, 0.06619197, 0.046003245, -0.060564734, -0.0719101, -0.013475325, 0.021570897, -0.06666244, -0.046315305, -5.862944E-4, 0.0035848874, 0.04377242, 0.029310208, 0.020125708, -0.026990503, -0.012087069, -0.029635858, -0.03765212, -0.010920562, 0.046107356, -0.07281421, 0.028380785, 0.032632988, -0.040077753, 0.04517288, 0.043925058, 0.032520045, 0.07802431, 0.0482366, 0.07058953, -0.01182794, -0.073198535, 0.03968956, -0.04860951, 2.4821938E-4, -0.029489601, -0.053363968, 0.018535286, -0.07128657, -0.0236, -0.06771712, -0.04917215, -0.0077663916, 0.041999333, 0.049714644, 0.087722264, -0.007636805, 0.07457157, -0.06411278, -0.052859247, 0.043467212, 0.058194343, -0.021181323, 0.091716915, 0.0391769, -0.06030263, 0.0093482835, 0.009160939, -0.044107, -0.03254365, -0.037855227, 0.070236765, -0.031462193, 0.02127779, -0.03552479, 0.079049364, 0.036664706, -0.031288303, -0.06926545, -0.018668046, 0.05543841, 0.0035696472, 0.055855025, -0.08543916, 0.052026406, 0.061435793, -0.0496212, 0.009215278, 0.026747607, -0.055011947, 0.02944825, -0.0075554033, -0.08228164, 0.04667286, -0.08072491, -0.09055302, 0.04394216, -0.049961906, 0.020111516, 0.022984307, 0.002262166, -0.0043678316, 0.002624001, 0.07812871, -0.053841293, 0.02658063, -0.0061353697, 0.07878594, -0.07581857, -0.0054685813, -0.057061456, 0.022010455, -0.027845876, 0.04334067, -0.077525795, 0.08786207, 0.0076506143, -0.08899891, -0.076200776]]]                                                                  |\n",
            "|#loltyler1|2022-05-18T13:16:40.120419|@blackmes, ACCOUNTS: BIG TONKA T is currently Master I 113 LP      |fossabot|[[document, 0, 60, @blackmes, ACCOUNTS: BIG TONKA T is currently Master I 113 LP, [sentence -> 0], []]]      |[[sentence_embeddings, 0, 60, @blackmes, ACCOUNTS: BIG TONKA T is currently Master I 113 LP, [sentence -> 0, token -> @blackmes, ACCOUNTS: BIG TONKA T is currently Master I 113 LP, pieceId -> -1, isWordStart -> true], [-0.020519825, 0.053931084, -0.026059791, -0.04365142, -0.04890454, -0.028004514, 0.021334458, 2.2344469E-4, -0.055254877, 0.009767404, 0.076596364, -0.03213213, -0.067391746, 0.06572643, 8.893708E-4, 0.06831303, -0.023429591, -0.0066657886, -0.006851984, -0.081803195, 0.08263052, 0.026213165, -0.0068198144, -0.048738606, -0.06661366, 0.04860136, -0.072509736, -0.017008914, -0.083900645, 0.08650701, -0.06034273, -0.023738906, -0.036033493, -0.020387871, 0.07405303, 0.081727065, 0.030330399, 0.025880706, 0.025357999, -0.08964694, -0.011658119, -0.063286096, -0.064096995, 0.040996104, 0.022454023, 0.04035222, -0.011750114, -0.010936847, 0.05011731, 0.04989657, -0.038722586, -0.07363265, 0.057875402, 0.057646006, 0.055922683, 0.017346155, 0.012305241, -0.07298888, -0.043772172, -0.033785604, 0.06448217, -0.005636502, 0.08301755, 0.015282685, -0.005327691, -0.052699372, 0.017068116, 0.075716384, -0.048782952, -1.0614694E-4, -0.062762804, -0.03879315, -0.049707692, -0.05634089, 0.06111253, 0.033181533, -0.034288295, 0.035298172, -0.07609066, 0.014334546, 0.078278825, -0.016833162, -0.010427375, 0.079958625, -0.09685351, 0.0061632167, 0.08698416, -0.03359014, 0.024145596, -0.031672593, 0.013418799, 0.014112277, -0.046896864, -0.055568285, -0.025675843, 0.01752489, -0.07856709, 0.024758918, -0.040952757, 0.07238878, 0.083659835, -0.05311638, -0.057806764, -0.016007466, 0.0530522, -4.7038816E-4, -0.052663993, 0.06621429, 0.046315923, 0.03553314, 0.01877581, -0.01841258, -0.012167785, -0.020900497, -0.024876015, -0.060460337, 0.0018490835, -0.07591435, -0.019810786, 0.059111767, -0.009887647, 0.066039294, 0.018478261, 0.06971173, 0.021153016, -0.0065668025, 0.041643977, -0.048889898, -0.036885753, 0.031058699, -0.042137593, 0.005183075, 0.036377396, 0.017570723, -0.025668561, -0.03190428, 0.06372907, -0.022008317, 0.05104924, -0.0056988406, -0.06646031, -0.04038484, -0.058235172, -7.9764886E-4, -0.035932265, 0.07275175, 0.06463725, 0.07688159, -0.009708026, 0.012724397, -0.05029099, -0.041621603, 0.034712493, -0.051741004, -0.015714237, -0.014816115, -0.026806498, -0.016815374, -0.024359286, 0.0039481632, -0.04123223, 0.06771321, 0.0025742732, -0.037048995, 0.010685765, 0.05877983, 0.055106018, 0.03751406, -0.009630886, 0.041763242, 0.0736617, -0.022483826, 0.05186409, -0.0660185, 0.064095475, 0.010590402, -0.01258287, -0.053805202, -0.04281777, 0.05890345, -0.06449827, -0.00974661, 0.0464542, 0.028317468, 0.037135303, 0.035308078, 0.037435226, 0.022780932, 0.018371396, -0.029728878, 0.036714956, -0.001401867, -0.00529717, -0.047170874, 0.022746885, -0.045848873, 0.057039455, 0.03667255, 0.08799954, 0.08085873, -0.058038455, 0.06908741, -0.02793992, 0.048142623, 0.009471081, -0.008030348, -0.022133164, -0.035373483, 0.0335202, 0.0557709, 0.051824294, -0.023328125, 0.010782466, -0.038278993, 0.02832719, -0.05608103, -0.036608227, 0.033162616, -0.021307085, 0.060031697, 0.0096761, 0.02918745, -0.030559605, -0.0026823247, 0.013852436, 0.0055248938, -2.86262E-4, 0.028903691, -0.024342148, 0.020868402, 0.020502973, -0.010489107, 0.0026156404, 0.035419885, 0.043622497, 0.0470973, 0.0024867042, 0.07831745, -0.019260593, 0.0021163663, 0.07870062, -0.016703105, 0.025672264, -0.026749894, -0.049037594, -0.09034313, 0.04104379, 0.04394175, 0.012586369, -0.04074114, 8.6627115E-4, -0.019748937, -0.04130075, -0.02839651, -0.025582723, 0.021830734, -0.004257968, -0.017955936, -0.064475365, -0.03862253, -0.0011115758, 0.07243056, 0.04038989, -0.07079194, -0.0020360579, -0.033990614, 0.050471332, 0.051188156, 0.0058420347, 0.03859298, -0.051005557, 0.0884768, -0.062783115, 0.040812746, -0.06055817, 0.05376781, 0.049353957, 0.030178787, 0.007074874, -0.06705407, -0.044245664, -0.017466834, -0.011157755, 0.012621074, -0.08218514, -0.011011876, -0.07286169, -0.0100305965, 0.028663091, 0.061808284, -0.09028697, -0.038528927, -0.0399735, -0.014068971, -0.033623908, -0.042458527, 0.041236475, -0.0024587633, -0.025804471, 0.03987086, 0.020457096, -0.04630298, -0.04414688, 0.070068814, 0.05176176, -0.062226772, -0.058890354, -0.0042276625, 0.06963317, 0.019659994, 0.0583937, -0.019583205, -0.010182072, 0.03479528, 0.041117508, 0.03888386, 0.027954187, -0.041700643, 0.009915888, -0.056232676, -0.0022459105, -0.037015468, -0.009543968, -0.06575304, 0.025080914, 0.052811738, 0.054811716, 0.004094595, 3.1775679E-4, 0.04188431, -0.015275764, -0.05103601, 0.02158631, -0.08672632, 0.028081264, -0.032819986, -0.03535523, 0.044616513, -0.00797259, -0.03489223, -0.043179147, -0.044271503, 0.053786654, 0.038115907, 0.06990541, 0.062107284, -0.03455239, 0.02673638, 0.061975665, -0.0048304955, 0.004469822, 0.043743752, 0.09224103, 0.03276778, -0.043423053, 0.047772966, 0.046255164, 0.075001076, 0.025658352, -0.047697116, -0.09122131, -0.061552145, -0.022396421, -0.0036025806, 0.013120543, -0.059820596, -0.02693837, 0.06019706, 0.012447992, 0.05543445, -0.02057253, 0.039542492, -0.017930897, 0.05518083, 0.05854024, -0.0056525106, -0.01655184, 0.024234544, -0.059715774, 0.06949518, -0.020470684, -0.04931352, 0.01910139, 0.047637027, 0.029980917, -0.03942392, 0.038973335, 0.030818855, -0.08940014, 0.044191387, 0.0032179323, -0.022164581, 0.018351536, 0.002503228, 0.07568272, -0.063474275, -0.009164652, -0.010595068, 0.013364893, -0.037490286, -0.006947632, 0.028614739, -0.068619415, -0.0025144182, 0.013683948, -0.058603853, 0.029363155, 0.0208566, -0.044281647, 0.06518499, 0.035215188, -0.024406897, -0.034109343, -0.07290291, 0.06395403, 0.002372298, 0.013468708, 0.060962755, 0.01644671, 0.013629042, -0.008451479, 0.008000165, 0.05100059, -0.077676244, 0.05084111, 0.025870042, -0.0413556, 0.03255003, 0.026816264, -0.04549264, 0.009876903, -0.040423494, 0.024565749, 0.0145334825, 0.06142895, 0.037021812, -0.0067765443, 0.06823962, 0.052055985, 0.045539327, 0.015266234, -0.04700847, -0.014889201, 0.008308792, -0.00538972, 0.028451186, 0.05445585, 0.010530965, 0.06424348, 0.009604023, 0.033113718, 0.04461357, 0.04809502, -0.039934825, 0.01610638, 0.038560007, 0.039157927, 0.078480065, -0.071440466, -0.06777646, -0.019188296, 0.007971976, -0.035310496, -0.041253157, 0.030645784, -9.207463E-4, -0.0072191143, -0.044868615, -0.047986448, 0.03965384, 0.026488481, -0.08362556, -0.009566239, 0.070352, 0.076828465, -0.017955843, -0.050322726, 0.01064153, -0.06385761, 0.0227993, 0.041284755, 4.001829E-4, 0.020651199, -0.015144865, -0.013959594, 0.008571626, 0.061851017, 0.035153884, -0.05431538, -0.042029433, -0.02823819, 0.025741532, -0.057892926, 0.074106455, 0.025219114, -0.0044118585, 0.09343431, 0.013769338, 0.008187715, 0.0062165055, -0.0024054372, -0.087901816, -0.015256466, 0.0283314, 0.042267144, -0.033136923, -0.0035455765, -0.069895335, 0.027290093, 0.0449443, -0.06622421, -0.022950424]]]                                       |\n",
            "|#loltyler1|2022-05-18T13:16:48.723914|@FrazeHD, ACCOUNTS: BIG TONKA T is currently Master I 113 LP       |fossabot|[[document, 0, 59, @FrazeHD, ACCOUNTS: BIG TONKA T is currently Master I 113 LP, [sentence -> 0], []]]       |[[sentence_embeddings, 0, 59, @FrazeHD, ACCOUNTS: BIG TONKA T is currently Master I 113 LP, [sentence -> 0, token -> @FrazeHD, ACCOUNTS: BIG TONKA T is currently Master I 113 LP, pieceId -> -1, isWordStart -> true], [-0.026432604, 0.055534393, -0.030694915, -0.03421897, -0.018006813, -0.030860502, 0.011431729, 9.069325E-5, -0.045613024, 0.019457536, 0.08272563, -0.011513368, -0.0572407, 0.07503418, -0.008410742, 0.06780826, 0.014264528, -0.014973288, -0.037512753, -0.07918166, 0.083616786, 0.01304198, -0.007688797, -0.03608637, -0.057666354, 0.0655909, -0.06985668, -0.030413482, -0.08353439, 0.079119556, -0.061506666, -0.024004312, -0.049571868, -0.023591999, 0.054209255, 0.08018259, 0.017537814, 0.0068208273, 0.021482872, -0.087605245, -0.049656466, -0.06562038, -0.069646925, 0.022552565, 0.02803226, 0.049564622, -0.0276344, -0.01097024, 0.03669483, 0.0467549, -0.02974161, -0.060449243, 0.04219223, 0.05973159, 0.052626338, 0.01925511, 0.02700184, -0.08382348, -0.042915896, -0.03282139, 0.06626333, -0.0109555, 0.08808964, 0.0012406798, -0.013433656, -0.058424503, 0.002199872, 0.07649721, -0.033783045, -0.006203986, -0.074517205, -0.037646323, -0.033476923, -0.056980386, 0.043859176, 0.035575952, -0.028884908, 0.036009133, -0.074009135, 0.01839636, 0.08698286, 0.0072584096, -0.008098022, 0.07533014, -0.096084066, 0.019404113, 0.08819592, -0.03596567, 0.017666275, -0.036810506, 0.016255027, 0.022087708, -0.068775155, -0.059196975, -0.028177371, 0.00530832, -0.062338557, 0.03503032, -0.041373927, 0.06463071, 0.0853112, -0.06037955, -0.054242704, -0.017482216, 0.0564072, 0.0015167379, -0.071406096, 0.06564743, 0.055072885, 0.061116897, 0.013867023, -0.021670032, -0.0043605557, -0.020953521, -0.01898805, -0.033374414, -0.0010194888, -0.073053434, -0.020170284, 0.06455337, -0.01563878, 0.0690231, 0.013080518, 0.07527245, 0.02274803, -6.03559E-4, 0.049044102, -0.02757043, -0.043743853, 0.015063279, -0.03650382, 0.014206786, 0.041021466, 0.011541851, -0.022353927, -0.03380446, 0.07227618, -0.02125984, 0.04947921, -0.003662265, -0.07253051, -0.041683313, -0.05160557, 0.0017198223, -0.022071427, 0.06545945, 0.05708726, 0.085230626, 0.006389456, 0.008081203, -0.054933712, -0.043323066, 0.039277542, -0.050872806, -0.017334104, -0.009758371, -0.023005258, -0.031391792, -0.017970432, 0.008134458, -0.027886622, 0.060378056, 0.0019648063, -0.041996606, -0.01840636, 0.0541062, 0.047301006, 0.009051172, -0.0031019486, 0.044684883, 0.08201485, -0.020076705, 0.042373043, -0.054619346, 0.049943395, -0.006697079, -0.018141966, -0.0749545, -0.046865147, 0.05881659, -0.06207203, -0.040930588, 0.04715121, 0.041264102, 0.01617438, 0.04450964, 0.04867646, 0.032516006, 0.01728748, -0.051001236, 0.008040074, -0.004455198, -0.0048656026, -0.048179366, 0.028318778, -0.042888355, 0.06253841, 0.019214058, 0.09652817, 0.079707734, -0.05463851, 0.051636074, -0.037103567, 0.047311254, 0.031166352, -0.009262824, -0.006933705, -0.039179288, 0.02275855, 0.057058964, 0.05390747, -0.03196992, 0.001491015, -0.021601496, 0.03394934, -0.054768097, -0.01892796, 0.025003117, -0.0066455025, 0.047819324, 0.0022368564, 0.036367126, -0.04682611, -0.042976376, -0.008019879, 0.017537516, -0.0147086065, 0.0331842, -0.013029446, 0.022138804, 0.025952706, -0.012057747, 0.012360855, 0.018913174, 0.03405705, 0.032391503, 0.013016731, 0.0681277, -0.005286286, 0.008628021, 0.06333406, -0.0014222261, 0.024552915, -0.008364665, -0.060724348, -0.09399416, 0.06292452, 0.037080526, 0.010612293, 0.010625102, -0.008438151, -0.03581036, -0.054076273, -0.021221343, -0.043363165, 0.012445963, 0.0057059773, -0.016331516, -0.03886633, -0.044092637, 0.028181374, 0.061994657, 0.032012764, -0.076515354, 0.028355414, -0.045107972, 0.043919418, 0.06045736, 0.0071876193, 0.02791194, -0.05100004, 0.09291591, -0.054078043, 0.02884153, -0.056408346, 0.044668395, 0.013743062, 0.012623169, -0.03789751, -0.06351551, -0.03654276, -0.00600871, -0.010107667, -0.012517339, -0.0861195, -0.020704858, -0.07874986, -0.001760014, 0.020515908, 0.05449757, -0.08278887, -0.04073061, -0.037996672, -0.010884354, -0.016899865, -0.04547864, 0.023749059, -0.0015509469, -0.061711643, 0.04473318, 0.021623222, -0.03364995, -0.050110597, 0.062784925, 0.03697048, -0.08275842, -0.060029626, -0.0028171414, 0.07917341, 0.0058686445, 0.05258305, -0.015789973, -0.019578444, 0.033507198, 0.024054097, 0.034322407, 0.022899512, -0.044874996, 0.0017140568, -0.053209182, -0.011805339, -0.043984782, -0.024031792, -0.072319195, 0.011463309, 0.04622062, 0.05568956, 0.020569324, -0.029872227, 0.045461636, -0.009261856, -0.036571994, 0.008428653, -0.08198095, 0.024045466, -0.024522869, -0.03856745, 0.05022863, -0.010497524, -0.0368779, -0.038687356, -0.038106393, 0.06264517, 0.04791043, 0.07005134, 0.061721776, -0.013486727, 0.024163276, 0.06810549, -0.033574864, 0.015521972, 0.052469537, 0.08321063, 0.025869362, -0.031599462, 0.055437364, 0.03770111, 0.060110044, 0.047230177, -0.049036168, -0.09121551, -0.046286978, -0.01883993, -0.020450205, 0.0037931672, -0.049309954, -0.021173151, 0.047167055, 0.02672688, 0.05294757, -0.018478043, 0.043184657, -0.002510439, 0.049856685, 0.06438857, -0.015766175, -0.020882107, 0.03166627, -0.06623245, 0.06579253, -0.023615649, -0.06271376, 0.050955694, 0.034359086, 0.032106716, -0.050179064, 0.040805425, 0.02149384, -0.08892868, 0.030791724, 0.012885969, 0.0059187673, 0.033182275, 0.01686917, 0.07947756, -0.044026528, -0.011032426, -0.024226762, 0.022234151, -0.027967341, -0.015279068, 0.029272066, -0.07351642, 0.004486271, 0.010009969, -0.064168006, 0.011341572, 0.026564917, -0.03216739, 0.049596287, 0.04779649, -0.041637167, -0.063362524, -0.06336802, 0.039268404, 0.013779287, 0.017989852, 0.055549707, 0.033627927, 0.014264397, -0.0031042998, 0.029782616, 0.061124235, -0.07124876, 0.038250785, 0.030622844, -0.042244773, 0.022943905, 0.021362444, -0.049059123, 0.0117787095, -0.042217422, 0.032954324, -0.0035466724, 0.052674, 0.050783526, 0.002097067, 0.06890466, 0.0437242, 0.04579711, 0.0084943455, -0.05867928, -0.030371018, -0.01108359, 0.025192527, 0.04141799, 0.078251556, 0.016064405, 0.05970871, -0.0052187857, 0.0332645, 0.033180945, 0.049519613, -0.034688946, 0.012092028, 0.025227634, 0.02820639, 0.07994616, -0.073762186, -0.07698995, -0.04658795, 0.0067099445, -0.045008287, -0.06834229, 0.030139612, -0.006369258, -0.013263469, -0.05297831, -0.040107105, 0.055450276, 0.023273598, -0.08426763, -0.012214007, 0.05612171, 0.08094552, -0.04419702, -0.045458503, -0.0014493801, -0.047237918, 0.017035365, 0.04025221, 0.009778439, 0.020087201, -0.03890088, -0.013652804, 0.0045305514, 0.07070651, 0.04135725, -0.060364164, -0.041660875, -0.023181817, 0.006194013, -0.06609622, 0.05826271, 0.010513377, -5.675366E-5, 0.09063607, 0.015133885, 6.842114E-4, 0.009202114, -0.009306639, -0.08118266, -0.010091827, 0.052887976, 0.022491239, -0.032562386, 0.017875837, -0.07007966, 0.028840775, 0.06290565, -0.058491934, -0.007439583]]]                                                       |\n",
            "|#loltyler1|2022-05-18T13:17:02.861670|@kugoyakko1, ACCOUNTS: BIG TONKA T is currently Master I 113 LP    |fossabot|[[document, 0, 62, @kugoyakko1, ACCOUNTS: BIG TONKA T is currently Master I 113 LP, [sentence -> 0], []]]    |[[sentence_embeddings, 0, 62, @kugoyakko1, ACCOUNTS: BIG TONKA T is currently Master I 113 LP, [sentence -> 0, token -> @kugoyakko1, ACCOUNTS: BIG TONKA T is currently Master I 113 LP, pieceId -> -1, isWordStart -> true], [-0.022025188, 0.054066595, -0.023937838, -0.042909674, -0.03203829, -0.03689881, 0.017757572, -0.0107478285, -0.049614128, -0.0048326813, 0.08002953, -0.0052711056, -0.046986736, 0.061335288, -0.0058154757, 0.06157633, -0.023092741, -0.043430753, -0.019965528, -0.07741773, 0.08427466, 0.02427783, 3.8869206E-5, -0.043513075, -0.07041748, 0.049567357, -0.05606226, -0.030769812, -0.08560855, 0.080984496, -0.06472542, -0.024938721, -0.058993634, -0.02214133, 0.070693195, 0.07808528, 0.0046721213, 0.027246729, 0.029069005, -0.08439144, -0.01387281, -0.062856644, -0.049571164, 0.03361517, 0.025490075, 0.045231692, -0.008665655, -0.011384533, 0.038175102, 0.05163932, -0.04801889, -0.06442954, 0.045714393, 0.069316976, 0.04444017, 0.02748288, 0.008026231, -0.06782051, -0.045748826, -0.022407003, 0.048840616, -0.0164407, 0.08597529, 0.0061513414, -0.0105337845, -0.054560043, 0.019728946, 0.0818683, -0.056638703, -0.0060816645, -0.049325734, -0.020081956, -0.02281697, -0.059868127, 0.048204444, 0.03829794, -0.024608456, 0.037470736, -0.067660004, -1.7535473E-4, 0.08659588, -0.021085203, 0.012723935, 0.06827808, -0.09960511, 0.0038030033, 0.08668383, -0.0397893, 0.04639583, -0.037105985, 0.027612489, 0.030214913, -0.05250872, -0.06873466, -0.014444334, 0.021474335, -0.066058785, 0.015076287, -0.037661746, 0.08132301, 0.08682876, -0.047236755, -0.050663486, -0.013789896, 0.044989493, -0.012888217, -0.07073749, 0.06041532, 0.05151069, 0.04103954, 0.024834447, -0.03294029, 0.0013008519, -0.023512084, -0.01761957, -0.04637427, -0.004451191, -0.069916464, -0.018386817, 0.07432144, -2.2244947E-4, 0.058286183, -0.004675594, 0.06886636, 0.02731797, -0.0067642354, 0.032136586, -0.05079742, -0.053476784, 0.005728195, -0.0562364, -0.0044136005, 0.058801137, 0.02927911, -0.04260349, -0.042452957, 0.055766687, -0.00864845, 0.051743187, -0.011136696, -0.049616136, -0.05418844, -0.041659825, 0.012169951, -0.04791598, 0.06129347, 0.07101228, 0.072742485, -0.013479105, -0.0027201322, -0.028109062, -0.041528977, 0.03137148, -0.050155953, -0.02356386, -0.026928538, -0.007991025, -0.020413538, -0.004350564, 0.013166999, -0.036290266, 0.051910453, -3.83297E-4, -0.040748302, -0.022766765, 0.046161484, 0.06683679, 0.014754331, -0.007726387, 0.031900357, 0.08410386, -0.025723467, 0.052699216, -0.06250085, 0.06030346, 0.0075458884, -0.037913565, -0.061193198, -0.045787483, 0.03273796, -0.06684026, -0.026425911, 0.062281646, 0.034919422, 0.02416215, 0.03481111, 0.03896041, 0.025249613, 0.037171617, -0.033864968, 0.014437958, -0.015796814, -0.0053981375, -0.056485206, 0.023975104, -0.04717505, 0.056426536, 0.022636658, 0.082390085, 0.064485766, -0.070757315, 0.06264559, -0.027561236, 0.063349746, 0.019064283, -0.009588636, 0.027282849, -0.021384925, 0.037675325, 0.056669414, 0.050946224, -0.03858002, -0.026543908, -0.031027203, 0.03391089, -0.018070303, -0.03843054, 0.007794643, -0.017734367, 0.022981456, -1.804293E-4, 0.05124307, -0.019394008, -0.015070148, 0.008743866, 0.0046562795, 0.0027423648, 0.050092854, -0.027166119, 0.028557807, 0.027920801, 0.024066681, -0.027201826, 0.012886813, 0.023444695, 0.045559656, -0.003308885, 0.07647739, -0.028828781, 0.008619182, 0.0738508, -0.020495212, 0.012930106, -0.018279137, -0.046134092, -0.09653405, 0.043586645, 0.050030537, 0.0173512, 0.0039099464, -0.016126113, -0.0342483, -0.030551631, -0.022795778, -0.021725677, 0.004558741, -0.019037005, -0.028034987, -0.06553676, -0.027585845, 0.020982495, 0.045732565, 0.016775524, -0.07359604, 0.010596571, -0.05050115, 0.03341836, 0.05105422, 0.023395447, 0.023292556, -0.026689, 0.08590021, -0.04515402, 0.051050927, -0.055311598, 0.05939035, 0.038356427, 0.021040937, 0.010807497, -0.06849145, -0.05741084, 0.0025157684, -0.01673368, 8.722387E-4, -0.089563176, -0.0263092, -0.07502596, -0.0013901179, 0.03806164, 0.050869275, -0.08860724, -0.050617706, -0.050362762, -0.01631976, -0.023783207, -0.04769674, 0.024383599, 0.01489361, -0.03631786, 0.043248165, 0.026143603, -0.025562923, -0.060098186, 0.06546046, 0.046817392, -0.069927536, -0.058829937, -0.009988545, 0.079240344, 0.013878508, 0.07137564, -0.013700527, -0.011847602, 0.021018304, 0.038990855, 0.046805512, 0.014831424, -0.04167158, 0.020270322, -0.048119057, 0.009691116, -0.021152792, -0.032225244, -0.07643242, 0.0066803945, 0.04346534, 0.04558727, 0.006509903, -0.029062435, 0.05259909, 0.006149089, -0.044123143, 0.0116716875, -0.09239992, 0.03842932, -0.01825742, -0.033685043, 0.046791192, -0.0011594045, -0.032028362, -0.050564975, -0.031091617, 0.05064983, 0.024075136, 0.06657168, 0.05306653, -0.023330593, 0.043162014, 0.059945792, -0.014734623, 0.017440028, 0.06244673, 0.08815663, 0.032460038, -0.022466606, 0.06153475, 0.03336398, 0.072941266, 0.035183866, -0.039368495, -0.08589445, -0.05387208, -0.014426975, -0.0065754373, 0.023730218, -0.066160925, -0.031276163, 0.053798333, 0.025524678, 0.054652035, -0.016974729, 0.03503003, -0.035252184, 0.044082534, 0.06641654, 0.019971643, -0.026135907, 0.037272934, -0.05713449, 0.06417964, -0.03926402, -0.069550015, 0.04235941, 0.056383893, 0.024209935, -0.04142856, 0.046096757, 0.025089094, -0.0848758, 0.056193393, 0.020403033, 0.01683785, 0.040405836, 0.010896233, 0.065578066, -0.037643604, 0.01935048, -0.0091196075, 0.0092154285, -0.058471307, -0.005466062, 0.014714448, -0.08453689, 0.030269518, 0.011494812, -0.059930246, 0.045687854, 0.0092388885, -0.05721083, 0.059972044, 0.020081831, -0.03557097, -0.050671626, -0.06815629, 0.063257314, 0.003849425, 0.035342496, 0.044773404, 0.008932849, 0.039525613, -0.0062051686, 0.026570957, 0.052114725, -0.07545949, 0.041325305, 0.029039143, -0.048174743, 0.046583, 0.025474632, -0.023941023, 0.014162885, -0.046440616, 0.026786532, 0.003682524, 0.04894508, 0.014817398, -0.0032006053, 0.06769448, 0.056881584, 0.036501214, 0.002119588, -0.06825164, -0.019034775, -0.008317193, 0.0039493917, 0.031335775, 0.075650886, 0.023768848, 0.06611385, -2.0950809E-4, 0.043500163, 0.037562493, 0.06357908, -0.028836504, 0.015276475, 0.040235277, 0.033388186, 0.082496345, -0.06577915, -0.07443301, -0.03764857, 0.008748154, -0.04284566, -0.058929946, 0.033653315, 0.010603454, -4.0569128E-5, -0.03820184, -0.040614564, 0.05239585, 0.0048960447, -0.086371616, -0.02264746, 0.07244056, 0.07443869, -0.02138932, -0.054755915, -0.0030757082, -0.056084163, 0.021103522, 0.041550413, 0.037109304, 0.019156346, -0.04016374, -0.013971191, 0.023545042, 0.060531363, 0.032507107, -0.062378317, -0.05800054, -0.015731454, 0.027801156, -0.052501034, 0.07164166, 0.013764941, -0.02977266, 0.09162141, 0.008347446, 0.009932967, 0.012864555, 0.011877853, -0.073797725, -0.013794084, 0.024971664, 0.021671047, -0.042619336, 0.0045501916, -0.072930954, 0.028661456, 0.045897152, -0.05903941, -0.023073623]]]                           |\n",
            "|#loltyler1|2022-05-18T13:17:10.260095|@brostav, the stream is currently at a ~1-min delay                |fossabot|[[document, 0, 50, @brostav, the stream is currently at a ~1-min delay, [sentence -> 0], []]]                |[[sentence_embeddings, 0, 50, @brostav, the stream is currently at a ~1-min delay, [sentence -> 0, token -> @brostav, the stream is currently at a ~1-min delay, pieceId -> -1, isWordStart -> true], [0.022014324, -0.0016949254, -0.05570026, 0.0029531934, 0.0031289593, -0.019157628, -0.026419764, 0.04383784, -0.031045387, 0.034643773, 0.03418095, 0.03348566, 0.0325836, 0.08682021, -0.028025957, 0.0019725645, -0.01711517, -0.016712908, 0.05723316, 0.009008647, 0.050519824, -0.055687938, -0.013541166, -0.030660184, 0.030308224, -0.07918289, -0.019010076, -0.053289637, -0.0505887, 0.052223105, 0.019065473, -0.033544544, -0.055921048, -0.055011526, -0.022244237, -0.03409351, 0.040120088, -0.041610166, 0.04367004, 0.015110987, -0.059008785, 0.03721838, 0.0731938, -0.02879782, -0.02327548, 0.004582506, 0.0069761975, -0.02505537, -0.020058256, -0.02405753, 0.05807686, 0.014303769, 0.0240001, -0.010498581, 0.05503442, 0.0325326, 0.0625126, 0.055421587, 0.027977237, 0.012922342, -0.08114513, -0.033475462, 0.074497476, -0.06406282, -0.009691617, -0.06538689, -0.0069539873, -0.069807224, -0.03003237, -0.008393341, -0.017436752, -0.06717783, 0.015387629, -0.028445007, 0.021840466, -0.027020693, -0.036397614, 0.0064677354, -0.04799309, -0.06962532, -0.035596244, 0.015828248, 0.008497246, -0.043370165, -0.084826484, -0.036371395, 0.010910993, -0.086617894, 0.027372211, -0.01901212, 0.046871673, 0.027744634, -0.087829694, -0.021233004, 0.026156705, -0.024446372, 0.047976855, 0.08056651, -0.008608348, 0.05471067, -0.029366987, -0.012076256, 0.041574243, -5.118222E-4, 0.034107063, 0.060664676, 0.025248269, 0.06224385, 0.010223635, 0.074296586, 0.018366197, -0.07676659, -0.04544166, 0.027578138, -0.062304754, 0.014434421, 0.01706329, -0.050996568, 0.06900248, -0.031652804, -0.026896825, -0.038229417, -0.049068637, 0.04899027, 0.03287097, -4.45778E-4, 0.059540644, 0.0338074, -0.010184854, 0.035550486, 0.016130835, 0.026025925, -0.010987933, 7.6474133E-4, -0.010569388, -0.08768987, 0.027298432, -0.04850755, 0.04175664, 0.016015658, -0.027025044, -0.0054535, -0.041335832, -0.06408912, -0.034001507, 0.017088817, 0.015084208, 0.08805305, 0.041655518, 0.024471646, -0.007514123, -0.04734535, 0.040672675, -0.04645125, -0.029825488, 0.009815527, 0.068726934, -0.06679504, 0.029426223, 0.05654556, -0.04483956, -0.0050785956, -0.018609073, 0.007957786, -0.035668783, 0.019669754, 0.09193616, 0.0067331693, 0.016254053, -0.047489475, -0.056052033, -0.08694391, 0.014376908, 0.013976745, 0.004227036, 0.06500038, 0.012780313, -0.073949814, -0.065863736, -0.04121678, -0.0021784345, -0.015748389, 0.021613326, 0.046937086, -0.0054174163, 0.031382505, 0.03355549, 0.048668873, -0.050553784, -6.003645E-4, -0.017337224, 0.020438448, -0.0234924, -0.07905708, 0.03395898, -0.044783443, 0.041606855, -0.016833242, 0.086750954, -0.04732031, -0.035572995, 0.032984857, 0.015736032, 0.089560606, -0.004579952, -0.01461282, 0.065194085, -0.024996981, 0.05084433, -0.05562027, 0.03235385, 0.084352605, 0.042404953, -0.003256652, 0.06723198, -0.051140625, -0.011788748, -0.050817568, 0.026296208, -0.0019590822, 0.011806312, 0.08625701, -0.06276986, -0.010535743, -0.0076766475, 0.028201228, 0.07339592, 0.051301964, 0.019978106, 0.029072465, 0.05649106, -0.03533282, 0.033188626, -0.06803217, 0.049059708, -0.0010636782, 0.015072868, 0.06833144, -0.017628213, -0.018654961, -0.04571489, 0.048714224, 0.028757218, -0.073789604, -0.035604835, -0.025918493, 0.0056020035, -0.043553926, -0.0068221116, 0.013067068, -0.017620793, -0.06257066, -0.08105457, -0.0016770259, -0.011877561, -0.06434136, -0.055755924, -0.016564282, -0.046163164, -0.046822578, 0.056317747, -0.078683086, 0.0014095203, -0.018287783, 0.03421499, -0.082504764, -0.0037240346, 0.013157688, -0.0349073, -0.053245526, -0.048869316, 0.07803766, 0.015214668, 0.008984905, -0.04727551, -0.054846194, -0.07215771, 0.07434838, -0.078047365, -0.062705725, 0.022539116, -0.01234974, -0.011382029, -0.0066826055, -0.07755908, -0.07424576, -0.07188817, -0.03042416, 0.048405617, -0.008111744, 0.045717992, 0.0019059835, -0.049410444, -0.035262417, -0.044147767, -0.015823975, 0.015731303, -0.028040903, -0.02802123, 0.04467648, -8.5401273E-4, -7.774431E-4, 0.034186654, -0.0010216043, 0.06949486, -0.034935027, -0.074060686, 0.012510521, 0.04428976, 0.027036868, 0.07307389, 0.04180456, 0.04723816, 0.025775852, -0.046604108, 0.008643458, -0.0065350356, 0.020505412, 0.006645936, -0.074686386, -0.04697767, 0.024050975, -0.013439443, -0.08176525, 0.0017349335, 0.011342525, -0.077929415, -0.039076015, 0.0088811675, -0.042557664, -0.022079267, -0.049945846, 0.0023618476, -0.014905837, 0.013066788, -0.025463047, -0.0040805778, 0.046246666, 0.05379411, -0.077603795, 0.06815307, -0.045223128, 0.035158955, 0.0524026, 0.0053619845, -0.046397477, 0.07012144, 0.0453468, -0.04506118, -0.072137654, 0.01657487, 0.02446728, -0.028139427, 0.027412515, -0.0065643983, 0.046436545, -0.027542178, 0.033403773, -0.038680628, 0.0478564, -0.07861855, -0.026032146, 0.070146486, -0.034076784, -0.041002348, -0.0729736, 0.0046299803, 0.057449825, 0.011167312, 0.061182767, 0.0178908, -0.010151549, -0.04410306, 0.04559796, 0.01878112, 0.060621765, 0.05167317, 0.0034225483, -0.026757425, 0.06251391, 0.014305981, 0.05273789, 0.06457764, 0.012986903, -0.044659715, -0.039469477, -0.014189729, -0.027761824, -0.083586566, -0.045863956, -0.0013543332, 0.08574038, 0.016942427, -0.05323616, 0.05706712, 0.0019755617, -0.044927996, 0.017707657, -0.028644042, 0.023684543, -4.3306878E-4, 0.05532505, -0.011432996, -0.024159465, -0.010434295, -0.078058526, 0.056525372, -0.07806779, -0.0392719, 0.060434062, 0.072154894, -0.084221944, -0.087037645, 0.045948662, -0.07953111, -0.02689023, 0.004980672, 0.013080059, 0.021184383, 0.042757437, 0.0153620755, 0.0065963594, 0.069420785, -0.009790671, 0.0016673942, 0.005016087, -0.047959078, 0.06546027, -0.018066928, -0.012164666, 0.06799781, 0.06658437, 0.02405041, 0.06718194, -0.034011766, 0.02960995, -0.08413492, -0.048377335, 0.03392198, -0.03488445, -0.024865232, -0.06977287, 0.05952865, -0.047596917, -0.017092025, -0.020494264, 0.03639947, 0.05823622, 0.069214925, -0.03325196, 0.041268375, 0.029669013, 0.05512835, -0.017774789, -0.027726052, 0.07589079, 0.049776547, 0.0016773863, 0.075633824, 0.03729234, 0.01349396, -0.07493114, -0.025941484, -0.024974544, -0.00297461, -0.009339676, 0.029726101, 0.013785667, -0.020953568, 0.011306643, -0.043780655, -0.0651282, 0.008603444, 0.056757577, 0.09220607, 0.01718119, -0.05751513, 0.0127284005, 0.04498246, -0.028405732, 0.063667245, -0.041727446, -0.0580274, -0.04730524, -0.008009514, 0.012244212, 0.010722221, 0.059721153, -0.061081696, 0.041723046, -0.04442541, -0.023489429, -0.06458125, -0.032173995, 0.0023698027, 0.04712936, 0.05889263, 0.04930706, 0.08695661, 0.0051175337, -0.031189458, -0.034302704, -0.048242383, 0.007285904, -0.062487528, -0.022192527, 0.06471818, -0.05285358, 0.05021714, 0.081783526, -0.020764975, -0.0074137603]]]                                        |\n",
            "|#loltyler1|2022-05-18T13:17:15.178463|@animationkings, ACCOUNTS: BIG TONKA T is currently Master I 113 LP|fossabot|[[document, 0, 66, @animationkings, ACCOUNTS: BIG TONKA T is currently Master I 113 LP, [sentence -> 0], []]]|[[sentence_embeddings, 0, 66, @animationkings, ACCOUNTS: BIG TONKA T is currently Master I 113 LP, [sentence -> 0, token -> @animationkings, ACCOUNTS: BIG TONKA T is currently Master I 113 LP, pieceId -> -1, isWordStart -> true], [-0.025546482, 0.049696892, -0.02898421, -0.036345858, -0.035887282, -0.021653347, 0.030888898, -0.005132363, -0.056067962, 0.0052744676, 0.07907277, -0.010148157, -0.055889048, 0.077287674, -0.011109604, 0.06790621, -0.016798211, -0.0058102407, -0.025804626, -0.08043475, 0.0827846, 0.01294742, -0.014498508, -0.029740624, -0.069451116, 0.048476543, -0.07245532, -0.021941666, -0.084136, 0.08837769, -0.0657645, -0.034843687, -0.04513232, -0.029703116, 0.06485904, 0.07678855, 0.018802483, 0.029568573, 0.03837005, -0.08751228, -0.02706417, -0.052254923, -0.062173743, 0.03547191, 0.035327516, 0.04845274, -0.016956473, -0.003418068, 0.044865757, 0.050237603, -0.04052649, -0.06382608, 0.049390428, 0.05342343, 0.05492476, 0.026139682, 0.01397845, -0.0739879, -0.03937973, -0.046100482, 0.06938153, -0.0138918, 0.08284601, 0.0018680475, -0.016765421, -0.051444344, 0.020593014, 0.0787364, -0.053804636, 4.2690258E-4, -0.06021705, -0.036269654, -0.04018229, -0.06323422, 0.06695514, 0.026910732, -0.028614875, 0.031282138, -0.06895361, 0.010868774, 0.079602666, -0.015697228, -0.018256187, 0.07723914, -0.09819018, -0.004471934, 0.08525835, -0.054460198, 0.022387097, -0.034807317, 0.026136428, 0.023702761, -0.06706743, -0.052162852, -0.021348761, 0.022600522, -0.07134762, 0.015023186, -0.038469512, 0.08179303, 0.08706437, -0.051798347, -0.051084373, -0.0069327317, 0.04475657, -0.0040765665, -0.05372967, 0.062324632, 0.061053123, 0.050895978, 0.024123788, -0.019276261, -0.0049775206, -0.014434394, -0.0193265, -0.06033083, 0.011793882, -0.075995825, -0.024878016, 0.053725313, -0.010276533, 0.06428711, 0.0139672095, 0.07122397, 0.024535237, -0.00946891, 0.038904354, -0.04297616, -0.04305321, 0.027688626, -0.041093763, -0.014774177, 0.029918356, 0.022266751, -0.025270835, -0.04070831, 0.058080826, -0.009842289, 0.052646436, 0.004246638, -0.072918594, -0.041976567, -0.052435223, 0.0069231456, -0.042337004, 0.06316748, 0.05577705, 0.07689052, -0.007500931, 0.0055970065, -0.047603656, -0.043941002, 0.03505321, -0.055038176, -0.016440172, -0.010237118, -0.022043876, -0.035059955, -0.019577548, -0.0012920583, -0.036968373, 0.06703914, 0.0018219824, -0.043451328, -0.017348994, 0.04945183, 0.048461974, 0.028593808, -0.022013217, 0.03867162, 0.078864396, -0.017466592, 0.03888559, -0.05170975, 0.061881922, 2.53762E-4, -0.013990779, -0.048490603, -0.04698915, 0.06535165, -0.059401833, -0.01790836, 0.05283288, 0.02912177, 0.022094866, 0.046674505, 0.034224235, 0.034148213, 0.023233771, -0.033654395, 0.009031835, -0.026529724, -0.027517466, -0.05755149, 0.023437625, -0.046116915, 0.0696021, 0.019496046, 0.093309395, 0.07800915, -0.06572057, 0.060063936, -0.026139613, 0.05081699, 0.021487042, 0.005493722, -0.0071312226, -0.024766643, 0.025487848, 0.06292197, 0.049599305, -0.035385173, -0.0034286415, -0.027008558, 0.022642503, -0.05456228, -0.034883734, 0.008715851, -0.006939183, 0.04654223, 0.002667361, 0.04119483, -0.038468033, -0.014913263, -0.0077871396, 0.0236171, -0.0020442167, 0.05139677, -0.026673233, 0.034771632, 0.0075110793, -0.0026872605, 0.014683906, 0.00544657, 0.04643219, 0.042237733, -0.006809744, 0.07633956, -0.026532497, 0.018578527, 0.06356026, -0.015814092, 0.015685553, -0.035529137, -0.057964318, -0.091780744, 0.027201718, 0.03529153, 0.025198264, -0.014305976, -0.0055410457, -0.032625616, -0.049511008, -0.0093201855, -0.041440047, 0.022844784, 0.0249359, -0.022065366, -0.0657011, -0.035719987, 0.021794679, 0.06460706, 0.026478423, -0.07418696, 0.0045663537, -0.046799704, 0.044316288, 0.045444515, 0.012967449, 0.023310246, -0.044521514, 0.089484334, -0.058566768, 0.04062143, -0.050155118, 0.05741803, 0.032737188, 0.026907064, -0.018292842, -0.059950896, -0.036975455, -0.011947261, -0.009723911, 0.014596344, -0.08801726, -0.016577145, -0.08047064, 0.005397755, 0.029226262, 0.060162615, -0.08686343, -0.03655072, -0.04294146, -0.02017909, -0.022411738, -0.04120628, 0.030333977, -0.0066790883, -0.027438901, 0.038759544, 0.028852677, -0.039230455, -0.048825983, 0.0628469, 0.050161462, -0.07157601, -0.056395642, 0.0013251131, 0.076884344, 0.0122261755, 0.06258765, -0.024414029, -0.019045433, 0.03201661, 0.03574381, 0.043043356, 0.019885521, -0.0488645, 0.01711694, -0.036352556, -0.0031877032, -0.028013151, -0.015081961, -0.07150572, 0.015533687, 0.042105913, 0.062421218, 0.00974802, -0.01801818, 0.043743964, -0.018410278, -0.055851344, 0.020702697, -0.08413457, 0.029965155, -0.034230888, -0.038552724, 0.048352633, 2.673574E-4, -0.03420847, -0.04906215, -0.037753273, 0.06550662, 0.0323229, 0.076856196, 0.065341756, -0.020452661, 0.035738777, 0.06330129, -0.018401682, 0.009243064, 0.048199724, 0.08567966, 0.042522844, -0.02939303, 0.038652513, 0.043055706, 0.069095165, 0.027804453, -0.04578549, -0.09217126, -0.055636913, -0.023788882, -0.007268795, 0.004889147, -0.061161976, -0.013990632, 0.055227876, 0.026085164, 0.062485788, -0.014512148, 0.044652082, -0.016459305, 0.058192566, 0.06591515, -0.007232103, -0.018818099, 0.019586043, -0.072594956, 0.058284253, -0.019948002, -0.060872182, 0.04360808, 0.028853465, 0.012869113, -0.05299321, 0.041800644, 0.015850455, -0.08476282, 0.038544774, 0.009673199, -0.0070772003, 0.031995848, -0.004603772, 0.06231873, -0.05901714, -0.021428943, -0.011979881, 0.0084699355, -0.026040215, -0.010766859, 0.010657213, -0.074316725, 0.0055271205, 0.009704604, -0.06808507, 0.03060269, 0.01349225, -0.049218703, 0.05656495, 0.019957414, -0.021302884, -0.04677222, -0.07201748, 0.058513764, 0.004207961, 0.007382399, 0.050765187, 0.0029221931, 0.0098254755, -0.005644017, 0.007646923, 0.06395008, -0.08207589, 0.048353147, 0.027735485, -0.04438566, 0.028118042, 0.020682156, -0.04707043, 0.017971281, -0.038228236, 0.015374593, 0.0038356995, 0.053785544, 0.030305782, 0.0035523023, 0.06921055, 0.05458383, 0.03771606, 0.0029526248, -0.05517363, -0.012503223, -0.007905847, 0.01257437, 0.03109557, 0.072764605, 0.011188877, 0.06347281, 0.0037718832, 0.036504682, 0.04892409, 0.053909402, -0.02243201, 0.02106786, 0.05280145, 0.03097952, 0.08181175, -0.075558335, -0.068977505, -0.040000994, -0.003852599, -0.038919594, -0.055055626, 0.032578174, -0.011224142, -0.014210692, -0.04030675, -0.043179408, 0.050192654, 0.017667502, -0.08521473, -0.011659339, 0.06923243, 0.07980335, -0.025383446, -0.055117585, 0.008330812, -0.058791995, 0.0147051485, 0.033935938, -0.0027491057, -0.015660811, -0.023725059, -0.015947115, 0.0067581115, 0.061923176, 0.045149982, -0.063666396, -0.04256991, -0.008917035, 1.5532992E-4, -0.0664888, 0.06001716, 0.02524502, 0.0010483074, 0.094986975, 0.011161217, 0.006803414, 0.017172258, 1.2377708E-4, -0.07897633, -0.016527602, 0.035535324, 0.039672524, -0.041728385, 0.0033040624, -0.062764935, 0.029419152, 0.06862325, -0.06834857, -0.030437086]]]               |\n",
            "|#loltyler1|2022-05-18T13:17:24.373572|@Zacknado44, ACCOUNTS: BIG TONKA T is currently Master I 113 LP    |fossabot|[[document, 0, 62, @Zacknado44, ACCOUNTS: BIG TONKA T is currently Master I 113 LP, [sentence -> 0], []]]    |[[sentence_embeddings, 0, 62, @Zacknado44, ACCOUNTS: BIG TONKA T is currently Master I 113 LP, [sentence -> 0, token -> @Zacknado44, ACCOUNTS: BIG TONKA T is currently Master I 113 LP, pieceId -> -1, isWordStart -> true], [-0.0339884, 0.044877652, -0.02146983, -0.028131016, -0.04263379, -0.0079271, 0.02228352, -0.0122066215, -0.057664514, 0.02327274, 0.084167205, -0.0033816502, -0.046265822, 0.08356137, 0.008506899, 0.07021085, 0.012441608, -0.024880825, 3.878707E-4, -0.079794854, 0.08560141, 0.020736685, -0.004959495, -0.04375137, -0.058244396, 0.05531894, -0.064702936, -0.024438085, -0.081737325, 0.078986555, -0.055175383, -0.031379227, -0.05198443, -0.014483659, 0.06017476, 0.08382866, 0.014946435, 0.014638854, 0.025705924, -0.08080116, -0.023139281, -0.06907769, -0.06651043, 0.030059025, 0.033005897, 0.045793746, -0.025242416, 9.535514E-4, 0.03211603, 0.060671125, -0.03078056, -0.066765524, 0.027620131, 0.06713461, 0.054917622, 0.031316385, 0.009672255, -0.06603389, -0.05948006, -0.021667412, 0.07741115, -0.014596038, 0.086176634, -0.0056896177, -0.00762692, -0.036170945, 0.03764258, 0.08268091, -0.03210833, -0.008573412, -0.07183264, -0.026329128, -0.04060877, -0.054921612, 0.054915242, 0.048007205, -0.012408979, 0.04566931, -0.06288987, 0.026127912, 0.077469684, -0.008603613, -0.021182008, 0.07529614, -0.09369577, 0.0042996523, 0.08485406, -0.05693254, 0.016122071, -0.04110184, 0.014505813, 0.03607899, -0.05000684, -0.052122988, -0.030278228, 0.0032451826, -0.06243488, 0.037067413, -0.036060754, 0.08550784, 0.09263303, -0.064718634, -0.05417478, -0.027336618, 0.04594194, -0.008344625, -0.062438253, 0.05286659, 0.058392435, 0.02788309, 0.012900593, -0.041294936, -0.002212332, -0.012214676, -0.009232913, -0.052025873, 0.028281067, -0.07464598, -0.03904678, 0.05143517, 9.861042E-4, 0.06857914, 0.0042321007, 0.06608206, 0.0039377254, 0.002745268, 0.038307544, -0.020664368, -0.052926794, 0.019851776, -0.05470396, 0.0067675295, 0.053828493, 0.020720424, -0.012277429, -0.034529157, 0.055490814, 1.1414422E-4, 0.048620775, -0.00549024, -0.06287521, -0.056454062, -0.046335693, -0.013683892, -0.0193559, 0.052458044, 0.070542656, 0.068477534, 0.0011193559, 0.008307769, -0.031079926, -0.040215824, 0.034245737, -0.04467779, -0.008037636, -0.025454326, -0.032258198, 0.0064344397, -0.010314202, 0.0019413874, -0.032470897, 0.047480837, -0.0016679867, -0.024600254, 0.0067866864, 0.055790253, 0.07173362, 0.019850764, -0.016363025, 0.04423844, 0.08567251, 7.2332984E-4, 0.05350875, -0.030357646, 0.060439713, 0.01290858, -0.016018601, -0.05805722, -0.04814763, 0.0605369, -0.058965415, -0.035783377, 0.06836928, 0.027202269, 0.042764004, 0.030603977, 0.04067015, 0.014963064, 0.04851943, -0.0530251, 0.021720434, -0.0048572277, 3.8962846E-4, -0.047657844, 0.022996726, -0.053304806, 0.069264874, 0.02174523, 0.09570489, 0.06768997, -0.04078553, 0.054406784, -0.030955343, 0.05564223, 0.0350256, -0.008713193, 0.012043246, -0.01873186, 0.03154188, 0.05717046, 0.05550286, -0.03801329, 1.4309431E-4, -5.3377385E-4, 0.025034834, -0.037859727, -0.039413184, 0.025846446, -0.019298589, 0.040001925, -0.013371635, 0.037959453, -0.02129864, -0.018765343, 0.003604476, 0.021772753, -0.019525634, 0.04782313, -0.037521955, 0.02462383, 0.010108089, 0.0020751404, -0.02145448, 0.016565196, 0.01388733, 0.046096083, 0.0091831405, 0.07444283, -0.029264037, 0.0068428, 0.07322921, -0.016708532, 0.033781275, -0.039400294, -0.051674392, -0.08391406, 0.039209954, 0.026156629, -0.012080862, -0.020394864, -2.525513E-4, -0.02895977, -0.043275002, -0.030074375, -0.017972512, 0.033718593, -0.009920853, -0.018524364, -0.05862183, -0.05519732, 0.017639305, 0.066488884, 0.014112602, -0.07076823, 0.023654375, -0.04395934, 0.049226265, 0.047095962, 0.0066803256, 0.008341695, -0.017632455, 0.090946265, -0.041952543, 0.053938612, -0.05683074, 0.04737176, 0.0070317723, 0.0051122895, -0.030806664, -0.05910609, -0.041767597, -0.010640131, -0.0047324775, 0.02666974, -0.0895037, -0.03932061, -0.08261912, 0.0040598875, -0.0036395898, 0.06306394, -0.08730544, -0.047749422, -0.013942817, -0.03432858, -0.0059877452, -0.04286038, 0.012689404, 0.010921074, -0.0379436, 0.03523964, 0.030030742, -0.029898342, -0.03415887, 0.059109204, 0.043557532, -0.0571263, -0.05683863, -0.008666266, 0.08077704, 0.0043475423, 0.06973911, -0.009601788, -0.0036076773, 0.018294714, 0.045947865, 0.061602708, 0.016407717, -0.048942145, 0.009508711, -0.044023663, 0.008968854, -0.04242162, -0.02676365, -0.07861664, -0.0012701835, 0.05842182, 0.07415607, 0.021888342, -0.023950817, 0.0496669, -0.0038247483, -0.038256843, 0.0038850803, -0.0883927, 0.044444885, -0.021390898, -0.039320596, 0.05258512, -0.0076104947, -0.031456422, -0.048770014, -0.029039698, 0.06765921, 0.031281844, 0.07471559, 0.06248028, -0.020451257, 0.042443477, 0.07304732, -0.026479645, 0.017952489, 0.033527654, 0.08570217, 0.038235802, -0.033000197, 0.06173531, 0.016899377, 0.07364209, 0.03552201, -0.06493191, -0.08944925, -0.05862269, -0.010714879, -0.0020739816, 0.007957934, -0.04292325, -0.031203344, 0.053886436, 0.026187645, 0.052792914, -5.902701E-4, 0.0351197, -0.021282109, 0.048800368, 0.052741416, 0.004921944, -0.0116984425, 0.034818098, -0.064104155, 0.055699274, -0.02335296, -0.059389092, 0.051386002, 0.037163947, 0.033948272, -0.04165137, 0.07241342, -3.192212E-4, -0.086339206, 0.04868427, -0.012882856, 0.019436482, 0.019721087, 0.009130836, 0.08001893, -0.041925546, 0.006086282, -0.019715095, 0.020578431, -0.039175898, -0.019932983, 0.02953245, -0.08077199, -0.0043354253, 0.0031903996, -0.061437648, 0.031356834, 0.0037212318, -0.042513326, 0.060768235, -1.3591872E-4, -0.0038020273, -0.048501246, -0.071307704, 0.056919232, 0.021017155, 0.027263375, 0.047226354, 0.0024252695, 0.020002283, -0.011717965, 0.034834336, 0.040471118, -0.07950175, 0.047025286, 0.013702907, -0.044057272, 0.02580987, 0.02334568, -0.02980397, 0.019008232, -0.051921368, 0.031714555, -0.0087273, 0.04433259, 0.03247036, 0.007791781, 0.073623374, 0.055305142, 0.044328585, -0.01646239, -0.045139056, -0.020668209, -0.011956643, 0.0145708695, 0.053219687, 0.067647494, 0.01712343, 0.060900368, -0.01942449, 0.031524416, 0.027731037, 0.04757538, -0.056320686, 0.020797573, 0.042726547, 0.04219736, 0.084854074, -0.0740541, -0.07809069, -0.026507152, -0.004480238, -0.025292423, -0.052692354, 0.036228314, -0.027521195, -0.00979306, -0.057629425, -0.044023454, 0.051418796, 0.018836131, -0.08621211, -0.030027421, 0.06799012, 0.07713559, -0.03356401, -0.060463894, 0.011328849, -0.061894182, 0.024761122, 0.028930876, 0.009255325, -0.017765755, -0.03500168, -0.0036935613, -0.007827747, 0.06347579, 0.036664274, -0.07030065, -0.030226385, -0.020097427, 0.01925354, -0.059436463, 0.058100525, -0.005768218, 0.001242422, 0.09260774, 0.00444384, 0.008816764, 0.023413405, -0.013513659, -0.0760407, 0.0012450315, 0.036360767, 0.04698883, -0.04910438, -0.013403771, -0.080588594, 0.034003567, 0.06677029, -0.06595908, -0.009996059]]]                                   |\n",
            "|#loltyler1|2022-05-18T13:17:33.511656|@mcspicyfriedrice https://www.op.gg/summoners/kr/BIG%20TONKA%20T   |fossabot|[[document, 0, 63, @mcspicyfriedrice https://www.op.gg/summoners/kr/BIG%20TONKA%20T, [sentence -> 0], []]]   |[[sentence_embeddings, 0, 63, @mcspicyfriedrice https://www.op.gg/summoners/kr/BIG%20TONKA%20T, [sentence -> 0, token -> @mcspicyfriedrice https://www.op.gg/summoners/kr/BIG%20TONKA%20T, pieceId -> -1, isWordStart -> true], [0.023927443, 0.0284129, -0.059362553, 0.041146044, 0.050493654, 0.014547435, -0.056665175, -0.07564658, -0.07632587, 0.05275925, 0.024032285, -0.049651843, -0.052831326, 0.00879095, -0.071007594, 4.960161E-4, -0.026077677, -0.0158105, 0.007857448, -0.032647572, -0.057024393, 0.050511383, -0.034470554, -0.061871167, -0.06092273, 0.08313864, -0.03583116, -0.0979047, -0.031608663, 0.028846847, -0.024241257, -0.02657163, -0.07762818, 0.0019697407, -0.05132403, 0.011755221, 0.016189435, 0.06685129, 0.035916794, -0.005787164, 0.026846955, -0.021973306, 0.07040391, 0.026386099, 0.05851909, 0.026194695, -0.0636098, 0.034635082, -0.0014103156, -0.047663845, 0.030456731, 0.009759209, 0.039043542, -0.035810664, 0.0901624, -0.06919234, 0.021171609, -0.008888902, -0.053334516, -1.931107E-4, 0.0059209755, -0.04336584, 0.041749496, -0.06255075, 0.021918729, -0.051536333, 0.06931377, 0.042254515, 0.028684942, -0.008777202, -0.07002246, 0.010822534, -0.00596375, -0.03897053, -0.03372408, -0.0055634216, -0.013104346, 0.040755723, -0.007503318, -0.050794996, 0.034813665, -0.066148944, 0.012148424, 0.03036435, 0.017752314, 0.016716337, 0.049291734, 0.00241748, 0.02421574, -0.08691924, 0.053061835, -0.0061320155, -0.042274192, 0.0072606113, 0.04372994, -0.034379758, -0.020231487, -0.033274323, 9.1375725E-5, 0.040896285, -0.0232617, -0.019660175, -0.06256655, 0.034073334, -0.03492581, -0.002664288, -0.028087636, 0.025888288, 0.030212332, -0.0065986416, -0.06331572, 0.029610127, 0.07267966, -0.0035984488, -0.06989276, 0.0111983735, 0.06103759, -0.09846688, 0.06592222, -0.03283159, 0.028235305, -0.061673086, 0.0071213124, -0.036766797, -0.021503331, -0.08929416, -0.0057809334, -0.049476475, 2.4534711E-5, -0.0116906315, 0.046979647, -0.003936567, -0.008692471, 0.060185548, -0.06059212, -0.010458144, 0.023446342, -0.015852235, 0.09427362, -0.04078338, -0.024463717, -0.030855482, -0.057626437, 0.039426763, -0.0013748036, 0.030412724, -0.0020578406, 0.044866472, 0.0132487, -0.03440759, 0.040012363, -0.08955841, 0.048916, -0.040907837, -0.034149416, -0.0041928776, 0.020995885, -0.045804877, -0.025090119, -0.057573043, -0.09719269, 0.012623935, 0.001497896, 0.03969032, 0.018917779, -0.019077284, -0.04551093, -0.06178246, -0.038817495, 0.043877956, -0.007933026, 0.0019103008, -0.042542674, -4.5951357E-4, 0.0626994, -0.023635374, 0.023040934, -0.020577386, -0.073933944, 0.057630762, -0.06554522, -0.0054582516, 0.031540558, -0.026045112, 0.07112704, -0.014249172, 0.043076787, -0.057592906, 0.0661866, 0.020316977, 0.022592181, 0.0059078517, 0.05180414, 0.025053637, -0.021920338, -0.094981, -0.024683932, 0.02732186, -0.011671885, 0.006778161, 0.064043574, -0.0043337704, 0.048105, 0.05814421, -0.006341669, -0.045805976, 0.06657504, 0.057132114, -0.063216984, 0.03906347, 0.09540377, 0.05340168, 0.015058333, 0.07015484, -0.02870467, -0.040484186, 0.03998809, -0.035918653, -0.085982785, 0.050214864, 0.03406385, -0.053887833, 0.037025064, 0.04573496, 0.028051026, -0.027639175, 0.0022313066, -0.0317831, -0.0074041653, 0.046695843, -0.022158219, 0.010022993, 0.035049714, -0.0016765036, 0.0073266644, 0.037567437, 0.04644622, 0.037357107, 0.00387685, -0.06396309, 0.044273004, 0.07241879, 0.036479972, 0.01059242, -0.028101848, 0.02919009, -0.027626304, 0.045265708, -0.044663418, -0.025505785, -0.026794223, 0.02500872, 0.060672283, 0.008712329, 0.05505016, -0.047136553, 0.010498198, 0.06239044, -0.048548225, 0.08515458, 0.027926708, -0.008354662, -0.019370044, -0.0015779195, -0.059703276, -0.054337982, -0.027520083, -3.5519042E-4, -0.06422045, 0.015006805, 0.02505142, 0.05250438, -0.06083045, 0.039450664, -0.06791526, -0.032311026, 0.016693527, -0.006606355, -0.050624724, -0.070163295, -0.023067795, -0.07181221, 0.025461322, -0.06507296, -0.011813835, 0.0029933192, -0.0022498614, 0.013588525, 0.016995458, -0.018037613, 0.03517926, -0.08287066, 0.058101173, -0.04669734, 0.021506513, -0.002235804, -0.033342298, 0.017819408, -0.05526788, -0.04648152, -0.05383033, 0.027265504, -0.04254996, 0.034002423, 0.01891776, -0.003805295, 0.08481758, 0.02130113, 0.06222981, -0.033582665, 0.085114986, -0.010869514, -0.017330209, 0.021297138, -0.026791304, -0.020450404, -0.055611115, 0.021631358, -0.05164248, -0.03348015, 0.033774454, -0.044827763, -0.007873775, -0.012695892, -0.033177327, 0.05866092, 0.036628738, -0.057253826, 0.06288751, -0.05327427, -0.009360081, 0.021335058, -0.011319487, -0.041529477, -0.0091259545, 0.044755228, 0.06599203, 0.08579547, 0.009648736, -0.086427376, 0.034527875, 0.026334625, -0.047238864, 0.005526479, -0.0035127583, 0.0632026, -0.04364591, 0.05558895, 0.05556988, -0.017428044, 0.014072809, -0.05672151, 0.05955487, 0.060946397, -0.007445128, 0.034035623, -0.05751429, 0.038125847, -0.0040767924, -0.0061011985, -0.018556459, -0.0034771075, 0.02625821, 8.897046E-4, 0.040662747, 0.026090646, -0.016304664, 0.091635294, -0.08002544, 0.09216886, -0.049604993, -0.0055820225, -0.013008225, -0.024815474, 0.02646113, 0.03720089, -0.020041049, -0.065915845, -0.0018779421, 0.056801934, 0.039802317, -0.002386303, -0.0056260647, 0.05869931, -0.00793007, -0.051121667, 0.046000604, -0.066599734, -0.074747875, -0.01287796, -0.018293995, 0.013435856, -0.033149835, 0.02519049, -0.015297152, 0.01412381, -0.0045393747, 0.06056768, -0.016909825, -0.017894259, -0.029035844, 0.0042513185, -0.074783504, 0.039368246, 0.077748284, 0.063448094, -0.065107085, -0.042985152, -0.006987827, 0.008999384, -0.058308456, -0.048065733, 0.0096392725, 0.005331679, 0.035003, 0.056144364, 0.050022844, -0.026004707, 0.035728473, -0.035462152, -0.045129135, 0.013460554, 0.042070776, -0.020653278, 0.040366717, 0.014618345, -0.030352749, 0.048323732, 0.07360585, 0.024200158, 0.0833227, 0.04644271, 0.06546659, -0.054049868, -0.073018566, 0.05225262, -0.033397082, -0.020303678, -0.0042130626, -0.026981236, 0.020297693, -0.046135794, -0.0076442827, -0.05969987, -0.038939346, -0.008335116, 0.05690472, 0.029002415, 0.09159767, 0.015022038, 0.056207497, -0.062283408, -0.029909192, 0.04929251, 0.06016205, -0.030391468, 0.09947459, 0.033736695, -0.034467965, 0.03501928, 0.024191432, -0.033810817, -0.0017873251, -0.035611134, 0.061870974, -0.027680226, 0.03295619, -0.013136885, 0.08913896, 0.05360725, -0.012265988, -0.061372314, 0.00562174, -0.0037728494, -0.011487837, 0.029990828, -0.08785887, 0.059421685, 0.06446662, -0.052418627, -0.021636918, -0.025129959, -0.042029902, 0.015266401, -0.016079403, -0.073031716, 0.06210303, -0.08331016, -0.096600376, -0.012657934, -0.06962997, 0.013742806, 0.019661225, -0.0019365406, -0.01853052, -0.018802756, 0.07195972, -0.02326234, 0.042317044, -0.0083001135, 0.0812947, -0.06984117, 0.014121151, -0.0125777675, -0.0058769123, 0.010435324, 0.05541859, -0.05864277, 0.093137145, 0.018915337, -0.09053992, -0.06773179]]]|\n",
            "|#loltyler1|2022-05-18T13:17:36.217243|@kimmanalastas1, ACCOUNTS: BIG TONKA T is currently Master I 113 LP|fossabot|[[document, 0, 66, @kimmanalastas1, ACCOUNTS: BIG TONKA T is currently Master I 113 LP, [sentence -> 0], []]]|[[sentence_embeddings, 0, 66, @kimmanalastas1, ACCOUNTS: BIG TONKA T is currently Master I 113 LP, [sentence -> 0, token -> @kimmanalastas1, ACCOUNTS: BIG TONKA T is currently Master I 113 LP, pieceId -> -1, isWordStart -> true], [-0.041946307, 0.060340896, -0.029516613, -0.044455133, -0.043143515, -0.023605146, 0.008468511, 0.014602082, -0.042399466, 0.017349536, 0.084594026, 1.2325305E-4, -0.07068385, 0.08478232, 0.01773975, 0.05459786, -0.019013746, -0.011734049, -0.004813215, -0.07927986, 0.08127361, -0.0014887024, 0.018409224, -0.055098925, -0.06633279, 0.06386884, -0.073367074, -0.012711522, -0.08086327, 0.08134591, -0.04933422, -0.031794596, -0.06652288, -0.024614157, 0.07417608, 0.069353014, 0.029592412, 0.0040950137, 0.020595793, -0.07855143, -0.03537795, -0.042428453, -0.0489622, 0.013601212, 0.0154894665, 0.041296557, -7.602964E-4, -0.035846863, 0.03520395, 0.06546898, -0.026342487, -0.0704546, 0.051902287, 0.0526358, 0.050651718, 0.04403591, 0.03246568, -0.07557046, -0.06532794, -0.03315696, 0.059693646, -0.008516025, 0.08883358, -0.0036894388, 0.009960924, -0.047187414, 0.002965658, 0.076149456, -0.039853785, -1.610591E-4, -0.05707484, -0.042908818, -0.028898383, -0.07403881, 0.051507037, 0.056668285, -0.009558563, 0.037914407, -0.067101076, -9.1609237E-4, 0.0773304, 0.020494632, 0.016465219, 0.06028522, -0.09619755, -0.0035206112, 0.07732527, -0.044520885, 0.030386722, -0.037177585, 0.029093174, 0.022819318, -0.06750067, -0.044566665, -0.027796973, 0.03412067, -0.068355314, 0.041657943, -0.037393913, 0.060704894, 0.08900676, -0.047909148, -0.049990058, -0.016779639, 0.056793395, 0.013222803, -0.058213618, 0.07670008, 0.06013219, 0.05195536, 0.024476534, -0.035863176, -0.013291995, -0.019558065, -0.014722181, -0.039971244, -0.0041122255, -0.061713144, -0.05017598, 0.06280522, -0.011633387, 0.07027541, 0.042168368, 0.073821194, 0.02518615, -0.0044166283, 0.061807808, -0.026817864, -0.044088554, 0.01885217, -0.028993174, -0.0051248176, 0.04325836, 0.015239481, -0.017441671, -0.017836837, 0.05805415, -0.02613384, 0.036131814, 0.017719045, -0.066310726, -0.03860954, -0.050249133, -0.040727798, -0.03511014, 0.06577903, 0.05011512, 0.08512936, 0.018224983, -0.0014797653, -0.041921902, -0.039798062, 0.0371011, -0.062370565, -0.018759614, -0.037935205, -0.04650323, -0.03646436, -0.014202801, 0.0023074984, -0.030140035, 0.04881594, -0.01286998, -0.04160542, 0.007076392, 0.056878448, 0.07088457, 0.037056815, -0.008135985, 0.04853515, 0.060590547, -0.036728628, 0.061180636, -0.07105889, 0.062927015, -0.003261282, -0.026652513, -0.06482116, -0.043665834, 0.060430627, -0.05507577, -0.019105729, 0.03665508, 0.044021126, 0.037141424, 0.05113084, 0.040570103, 0.010944896, 0.025870146, -0.057803784, 0.013393856, 5.080804E-4, -0.005865326, -0.041128367, 0.02520687, -0.0332536, 0.05018259, 0.018432545, 0.09399877, 0.055726517, -0.06880036, 0.052882757, -0.027409822, 0.056737356, 0.0056675887, 0.0033212826, -0.012713557, -0.018621534, 0.028306695, 0.04319947, 0.04492113, -0.043518655, -0.0063489713, -0.019919157, 0.027268719, -0.064637564, -0.03570441, 0.016231678, 0.0052317507, 0.052055325, 0.01061039, 0.020101689, -0.044372562, -0.02672994, 0.011281215, -0.0056610354, 0.02110972, 0.020097278, -0.04626061, 0.0066604274, 0.04350278, -0.030793587, 0.015829302, -7.8838645E-4, 0.036804214, 0.03490685, 3.2238112E-4, 0.06288867, -0.0120794475, 0.0070713987, 0.07572162, -0.015655216, 0.024605155, -0.040076368, -0.05797712, -0.08955847, 0.054038767, 0.04412734, 0.011717404, -9.6649723E-4, -0.024688974, -0.040511135, -0.073976815, 0.0027737846, -0.049264766, -0.011455264, 0.0060264617, -0.023484947, -0.05073166, -0.057268288, 0.042987227, 0.068624794, 0.027352557, -0.06745877, 0.023099627, -0.036286782, 0.030348336, 0.06458606, 0.018931607, 0.0112426765, -0.06538868, 0.091591105, -0.04677651, 0.027460014, -0.060373124, 0.015191604, 0.026185289, 0.017123166, -0.009756503, -0.07040871, -0.046285816, 0.017722547, -0.013077285, -0.0057150177, -0.08104552, -0.033044253, -0.082445726, -0.019085808, 0.043110047, 0.045257054, -0.08853312, -0.054260693, -0.023990637, -0.020666417, -0.014258604, -0.021003453, 0.024526019, 0.0035656157, -0.02734174, 0.04001932, 0.02114745, -0.053813253, -0.027206872, 0.047561463, 0.053675655, -0.07425417, -0.06679644, -4.9067684E-4, 0.07433481, 0.01333797, 0.0615054, -0.015374324, -0.0065908306, 0.033391226, 0.043855667, 0.049711563, 0.019421866, -0.046258155, 0.007977216, -0.06025361, -0.0043460876, -0.035661396, -0.021132173, -0.07948763, 0.029606272, 0.043907, 0.050749272, 0.009100362, -0.010662985, 0.03176656, -0.0020174917, -0.046699516, 0.013698425, -0.065576896, 0.031106805, -0.023532443, -0.03731023, 0.043518037, -0.0053325193, -0.04612949, -0.036814407, -0.032566242, 0.05087775, 0.04543932, 0.07647414, 0.04550105, -0.024136493, 0.035309415, 0.061867453, -0.03753378, 0.02168429, 0.054513883, 0.07914945, 0.013959811, -0.033368815, 0.033718575, 0.0466263, 0.064547986, 0.05958405, -0.056738246, -0.08960671, -0.0608996, -0.012284645, -0.012026126, -0.0026841422, -0.050425746, -0.029032428, 0.04568399, 0.017048351, 0.04518668, -0.028370783, 0.03719234, -0.008888902, 0.059919827, 0.062637456, -0.02594366, 0.0038779539, 0.045091033, -0.046437863, 0.070499696, -0.017550291, -0.057055026, 0.056000333, 0.030885577, 0.021423204, -0.040225357, 0.04185576, 0.010206245, -0.08446221, 0.022734623, -0.002944094, -0.009643, 0.023756804, -0.018692143, 0.06898401, -0.05017436, -0.034867536, -0.015131996, 1.16649455E-4, -0.046706, -0.0053205364, 0.022893123, -0.059731457, -0.011341835, 0.01585359, -0.06672585, 0.027195994, 0.024891697, -0.022648264, 0.046841737, 0.048585057, -0.0392275, -0.058592554, -0.0665266, 0.07987668, -0.001517805, -0.01064924, 0.050794564, -0.0032587002, 0.014395284, -0.0045457426, 0.013616074, 0.052413747, -0.05985, 0.04238358, 0.01249887, -0.032583807, 0.025314054, 0.008610806, -0.057637822, 0.011629862, -0.04671131, 0.039716706, 0.017447773, 0.06769729, 0.022305917, -1.9974013E-4, 0.07688562, 0.056140106, 0.0396846, -0.00788029, -0.054873116, -9.112634E-6, 0.012032253, -0.0048260572, 0.030599648, 0.06683741, 0.029394343, 0.05910695, -0.00974706, 0.034027617, 0.060306866, 0.066646606, -0.03390391, -0.014659528, 0.034489475, 0.011898485, 0.074427836, -0.06497984, -0.05832334, -0.027635394, -0.004089185, -0.048316933, -0.049644783, 0.027413603, -0.023859136, -0.001579175, -0.063809425, -0.039327655, 0.05644858, 0.00464311, -0.07993057, -0.020381086, 0.07910755, 0.086056314, -0.037883412, -0.046785593, 0.0041418634, -0.067581005, 0.03294181, 0.05305029, -0.008848426, 0.021335695, -0.047711235, 0.0073169707, 0.0032038332, 0.06593038, 0.03454173, -0.04673664, -0.042493954, -0.024452263, 0.015089914, -0.07201198, 0.06275686, 0.026788972, 0.019129233, 0.08852914, 0.005538617, -1.806549E-4, 0.016200287, 8.07466E-4, -0.08097678, -0.02100585, 0.028300328, 0.027953755, -0.022755612, 0.0114087295, -0.066343844, 0.022806397, 0.058459975, -0.044568527, -0.029025221]]]                |\n",
            "|#loltyler1|2022-05-18T13:17:47.695979|@74BiBi https://www.op.gg/summoners/kr/BIG%20TONKA%20T             |fossabot|[[document, 0, 53, @74BiBi https://www.op.gg/summoners/kr/BIG%20TONKA%20T, [sentence -> 0], []]]             |[[sentence_embeddings, 0, 53, @74BiBi https://www.op.gg/summoners/kr/BIG%20TONKA%20T, [sentence -> 0, token -> @74BiBi https://www.op.gg/summoners/kr/BIG%20TONKA%20T, pieceId -> -1, isWordStart -> true], [0.02712619, 0.04282328, -0.05546182, 0.047888327, 0.04834714, 0.05286472, -0.051911425, -0.060387168, -0.05907248, 0.06997087, 0.017416937, -0.038431, -0.051027905, -0.008314675, -0.061902553, 0.013211977, -0.032818835, -0.02214494, 0.013704671, -0.05084286, -0.02240285, 0.0243532, -0.061643824, -0.07868785, -0.028586712, 0.07761048, -0.0102234855, -0.09006095, -0.05690502, 0.01933085, -0.025475249, -0.008472603, -0.07659241, -1.9214235E-4, -0.038890965, 0.015565643, 0.03674977, 0.050707143, 0.03631333, -0.0023980313, 0.015846549, 0.0062913774, 0.035507556, 0.040233962, 0.027215738, 0.052894138, -0.072212234, 0.03493892, -0.0119132055, -0.028208394, 0.03629985, 0.037255973, 0.02109109, 0.001980027, 0.08640006, -0.060730234, 0.019569334, -9.087665E-4, -0.040536784, 0.011697751, 0.021183597, -0.038466703, 0.06535122, -0.04664083, 0.05308963, -0.045101795, 0.0651383, 0.07228305, 0.056544196, -0.052395172, -0.058077212, -0.015483903, -0.04816113, -0.055094875, -0.036225133, 0.018969815, -0.05470296, 0.051671244, -0.036673736, -0.058696803, 0.04571228, -0.07044756, -0.0015344577, -0.033124488, 0.027731588, 0.021767888, 0.024731899, -0.015987292, 0.030281788, -0.080944456, 0.06031487, 0.01417653, -0.039815277, 0.007976426, 0.029678827, -0.038865734, -0.059541624, -0.031306114, -0.012505967, 0.03978598, -0.04034166, -0.02819772, -0.029853504, 0.027912917, -0.028701566, -0.030670453, -0.020485783, -0.024439748, 0.02735629, 0.003511883, -0.055322766, 0.008483094, 0.06815919, -0.01305756, -0.055422466, 0.062124982, 0.06716812, -0.09042342, 0.019265955, 0.005730419, 0.0014486485, -0.0393589, -0.025530431, 0.04198987, -0.015376349, -0.07858551, -0.0011187487, -0.04645967, 0.009408623, -0.006278171, 0.04017392, -0.002869775, 0.0010203379, 0.054135174, -0.050910804, -0.0040947865, 0.03734853, -0.041129902, 0.08565143, -0.01766521, -0.013411065, 0.007426438, -0.057741128, 0.05150404, 0.015856285, 0.031916782, 0.0012717803, 0.028117277, 0.019539569, -0.02081121, 0.014831327, -0.0768446, 0.06154722, -0.004473965, -0.028200429, -0.026693117, 0.02080502, -0.066344425, -0.037049156, -0.055451546, -0.089718685, -0.034884024, -0.008102132, 0.032858048, 0.026338076, -0.02839753, -0.04111167, -0.026106227, -0.006335065, 0.03147833, 0.005825634, 0.032587886, -0.012025345, 0.051358614, 0.06378533, -0.021982152, 0.046381135, -0.023224814, -0.06808685, 0.064393245, -0.059394438, -0.0072256196, 0.036474925, -0.01451836, 0.06419963, -0.036457844, 0.0347288, -0.05265298, 0.058029152, 0.010985766, 0.05608703, -0.031773973, 0.0498833, 0.022701472, -0.022718383, -0.087237194, -0.0043412726, 0.011156646, -0.015434569, -0.040737193, 0.072377, 0.025501987, 0.027172823, 0.07721508, 0.0074035553, -0.054678217, 0.073337615, 0.04581234, -0.051318895, 0.053442143, 0.08714794, 0.05651693, 0.02016329, 0.056608267, -0.042577375, -0.060973775, 0.0369775, -0.040643424, -0.07695641, 0.048844874, 0.044577196, -0.04233907, 0.021520821, 0.019640485, 0.009200388, -0.029613296, 0.029008586, -0.03188874, -0.020126207, 0.02154414, -0.0017981215, 0.021551069, 0.05731972, 0.025790943, -0.0033790148, 0.040433757, 0.035014935, 0.059972376, 0.013702753, -0.068795614, 0.023124069, 0.03571348, 0.02831491, -0.010776668, -0.012998143, 0.0094410945, -0.0387537, 0.022554971, -0.03813824, -0.03588345, -0.006243256, 0.041790053, 0.048335988, -0.0052891327, 0.059590407, -0.04164842, -0.007948022, 0.04705343, -0.062543154, 0.07410058, 0.0066039455, -0.054762904, -0.0479324, 0.019581351, -0.06495598, -0.039792165, 0.008954701, 0.018733151, -0.036405575, 0.018075317, 0.051237028, 0.02241664, -0.07608357, 0.041922133, -0.06647567, -0.031583026, 0.035596494, 0.006394399, -0.02931773, -0.069438756, -0.01513994, -0.03727969, 0.008706027, -0.051565394, -0.035637364, 0.014356741, -0.06555722, 0.037352476, 0.0055261813, -0.006836925, 0.029393557, -0.08295666, 0.055581894, -0.07250092, -0.003345686, 0.0057547614, -0.009364981, 0.026626108, -0.045825705, -0.048538867, -0.051059034, 0.019686429, -0.05516037, 0.053150997, 0.055781763, 0.0033655746, 0.07659761, 0.031119505, 0.05859292, -0.015418118, 0.07657573, -0.0027007046, 0.02348117, 0.025549274, -0.04502475, 0.004017435, -0.048407536, 0.022160234, -0.058511484, -0.040066194, 0.04591469, -0.03850491, 0.003354743, -0.01898766, -0.005488209, 0.075448535, 0.03566792, -0.07136351, 0.050316233, -0.025685146, 0.008406452, 0.024762355, -0.014829587, -0.042892635, -0.0039192177, 0.017907254, 0.060749058, 0.07671572, 0.013347145, -0.083221786, -0.020618454, 0.0191944, 0.038867295, 0.03392488, -8.498663E-4, 0.06112404, -0.0137092, 0.067271076, 0.04628243, 0.02321177, -0.027439255, -0.0584946, 0.070130065, 0.049961425, 1.42502E-4, 0.047168758, -0.0647238, 0.050250813, 0.03171495, -0.01660093, -0.05275331, 0.015671335, 0.03221479, 0.0023683968, 0.017112827, 0.034415737, -0.027220286, 0.088380784, -0.05883591, 0.078002125, -0.024016859, -0.0040227636, -0.049430892, -0.0016040491, 0.055793125, 0.04864492, -0.0051039434, -0.064631164, 0.047083404, 0.053940553, 0.03942587, -0.028270775, -0.043262728, 0.06462026, 0.0151332645, -0.008730775, 0.039793618, -0.06008453, -0.07941312, -0.041744918, -0.060450688, 0.056077894, -0.029774373, 0.02322567, -0.011218138, -1.9236903E-4, -0.040403742, 0.043747816, -0.030152012, 0.031552415, -0.056056615, 0.012118693, -0.07205683, -0.0015348222, 0.07530721, 0.045283034, -0.050650645, -0.04660015, -0.03195157, 0.01357266, -0.06266882, -0.06843015, -0.035894953, 0.03128567, 0.0363704, 0.046874028, 0.01918627, -0.046104155, 0.0313638, -0.026556848, -0.0339834, 0.007823505, 0.008767712, -0.043765165, 0.05781219, 0.015481512, -0.06663877, 0.042896673, 0.05640055, 0.037624467, 0.06320442, 0.024761727, 0.082286455, 0.0110411905, -0.07953703, 0.034134015, -0.041303344, -0.006693509, -0.027845396, -0.04074285, -0.010429347, -0.035120483, -0.009708929, -0.06380782, -0.07175527, 0.012595026, 0.067620255, 0.038904708, 0.086937785, 0.0064208666, 0.075626805, -0.059556276, -0.013147224, 0.04111629, 0.054616217, -0.019762808, 0.091107234, 0.05275928, -0.03669155, -0.019578384, 0.020832334, -0.027295373, -9.50944E-4, -0.04880036, 0.071278855, -0.020290418, 0.057342753, -0.015218558, 0.07425589, 0.046280608, -0.013800547, -0.08065563, -0.009408649, 0.03072183, 0.026919076, 0.02968054, -0.0832839, 0.06277977, 0.056060623, -0.04219391, 0.0069006956, 0.01865357, -0.060235675, 0.055899616, -0.023665098, -0.0708139, 0.04425569, -0.06562756, -0.08782736, 0.018152092, -0.07405814, 0.011736739, 0.012418206, 0.030683002, -0.013399007, -0.03496906, 0.0791078, -0.0037940403, 0.01646805, -0.010087947, 0.07838689, -0.071502864, -0.0056959367, -0.023046313, 0.020014774, -0.016227754, 0.057261314, -0.06608504, 0.087016396, 0.054447863, -0.0873012, -0.062069546]]]                                                                      |\n",
            "|#loltyler1|2022-05-18T13:17:55.786753|@Aiiliev, ACCOUNTS: BIG TONKA T is currently Master I 113 LP       |fossabot|[[document, 0, 59, @Aiiliev, ACCOUNTS: BIG TONKA T is currently Master I 113 LP, [sentence -> 0], []]]       |[[sentence_embeddings, 0, 59, @Aiiliev, ACCOUNTS: BIG TONKA T is currently Master I 113 LP, [sentence -> 0, token -> @Aiiliev, ACCOUNTS: BIG TONKA T is currently Master I 113 LP, pieceId -> -1, isWordStart -> true], [-0.021389604, 0.060692497, -0.031752992, -0.045086347, -0.034658216, -0.03227904, 0.038921066, 0.009730747, -0.042342924, -0.0039475043, 0.078365, -0.008227294, -0.056722287, 0.0669286, -0.009883342, 0.0610225, -0.02385566, -0.010015058, -0.026263976, -0.08201021, 0.08238014, -0.0015335954, -0.010129866, -0.03309331, -0.08090422, 0.04958355, -0.0733899, -0.02278626, -0.08824032, 0.084848985, -0.07515165, -0.03354494, -0.061058145, -0.0067862724, 0.051293414, 0.08224368, 0.013730659, 0.019839343, 0.02696878, -0.0855936, -0.036489215, -0.07588027, -0.066468984, 0.019214327, 0.022183014, 0.049126122, -0.0137634585, -0.0045829904, 0.04471887, 0.049049675, -0.03147519, -0.06146279, 0.042306937, 0.080210164, 0.057420485, 0.035513833, 0.025854422, -0.07866108, -0.040684722, -0.023202637, 0.054799065, -0.009352434, 0.09027513, 0.0038990753, -9.5070037E-4, -0.049110528, 0.017514372, 0.07060973, -0.06056364, -0.017467082, -0.04965167, -0.029727124, -0.035084095, -0.05805671, 0.045901287, 0.055269856, -0.01376921, 0.03783535, -0.06987253, 0.0138726095, 0.08625535, 0.006235559, 8.8728557E-4, 0.08038871, -0.09853887, -0.0011538431, 0.08107723, -0.038800552, 0.028275084, -0.036396936, 0.036566414, 0.027417848, -0.06414498, -0.051199466, -0.011350903, 0.011873711, -0.070576616, 0.016068462, -0.049681526, 0.0642452, 0.088519335, -0.037228137, -0.042271066, -0.002510904, 0.045268465, 0.018230999, -0.06996025, 0.074022904, 0.05498282, 0.051510543, 0.026285334, -0.032398686, -0.020836065, -0.018414756, -0.024420481, -0.03764329, -0.0010515881, -0.07168591, -0.013956592, 0.0649617, -0.012783843, 0.056716654, 0.023305979, 0.06944724, 0.026191378, -1.9426116E-4, 0.055093996, -0.051618855, -0.05468411, 0.02324874, -0.040061872, -0.0044486956, 0.036959685, 0.020726051, -0.027235566, -0.028556218, 0.05695433, -0.017705342, 0.043460935, -0.008821639, -0.075607024, -0.040507194, -0.054022543, 0.008608605, -0.034004375, 0.06652244, 0.05523218, 0.084710695, 0.001344105, 0.022858074, -0.036989525, -0.036102336, 0.049049273, -0.070846565, -0.012654035, -0.008955526, -0.038996786, -0.03986595, -0.015094142, -0.0021436207, -0.027177805, 0.057400577, -0.00749725, -0.03741944, -0.023797277, 0.052190807, 0.049176633, 0.048752557, -0.006785582, 0.042585943, 0.072304055, -0.019883893, 0.038536083, -0.062370397, 0.04813686, -0.0024864695, -0.030922687, -0.038327195, -0.047172137, 0.04800723, -0.060092736, -0.035965953, 0.034792967, 0.035366528, 0.010026246, 0.030686494, 0.03546184, 0.017138708, 0.015904406, -0.033647995, 0.015808439, -0.024172354, 0.0013497947, -0.048994, 0.026831785, -0.0374793, 0.05869443, 0.020962933, 0.0911725, 0.0729614, -0.06065795, 0.05786909, -0.028002242, 0.048308015, 0.025677374, -0.015505272, -0.0060221227, -0.03114316, 0.020173771, 0.060860246, 0.043930277, -0.048261452, 0.00990487, -0.03609648, 0.047861833, -0.05311435, -0.047256816, 0.020192707, -0.0020859696, 0.045089558, 0.0047448734, 0.045730002, -0.04640397, -0.02890788, 0.016129574, 0.0068465695, 0.0066377395, 0.04200332, -0.018736135, 0.010368286, 0.05309068, -0.02621317, 0.01683687, -0.0039060093, 0.045338396, 0.033382982, -0.025087008, 0.07506752, -0.007852263, 0.0072886124, 0.053474844, -0.00429835, 0.023071188, -0.023423662, -0.05361991, -0.095152006, 0.062002253, 0.04618692, 0.024149887, 0.008982277, -0.02851115, -0.02531315, -0.05358285, -0.034779835, -0.04840269, 0.009851685, 0.0012467027, -0.025827492, -0.06331887, -0.031759616, 0.01754022, 0.05683177, 0.028405279, -0.07889081, 0.014831383, -0.044936296, 0.03031509, 0.0540119, 0.008128373, 0.02288303, -0.057698738, 0.09121351, -0.046402577, 0.008188652, -0.05151639, 0.05292651, 0.028012363, 0.028660528, 0.0032393916, -0.07317614, -0.04597981, -0.0028156294, -0.01019205, -0.012640851, -0.0851427, -0.018908052, -0.07870592, -0.0043213647, 0.032440282, 0.05718509, -0.08983968, -0.04897875, -0.059884366, 0.0014556171, -0.022556452, -0.03916982, 0.037256695, -0.011815339, -0.034195352, 0.03592592, 0.028209152, -0.026321568, -0.049789373, 0.058150828, 0.056330454, -0.073756926, -0.06489586, -0.0022439905, 0.07807442, 0.010790833, 0.05995465, -0.020036127, -0.006920651, 0.03347299, 0.030471863, 0.03220441, 0.025603341, -0.046439428, 0.019298907, -0.041651677, -0.016592203, -0.026288413, -0.0080501195, -0.07600271, 0.031095834, 0.04693326, 0.04761324, 0.010256339, 2.407357E-4, 0.052194394, -0.0065291366, -0.05138306, 0.0033944775, -0.08166278, 0.028014148, -0.025255784, -0.044962745, 0.04869097, -0.003941323, -0.042553518, -0.037820745, -0.040797178, 0.054695845, 0.033547223, 0.07755694, 0.064228304, -0.014849828, 0.020050043, 0.056061056, -0.02538434, 0.027451927, 0.05395603, 0.08667795, 0.0264427, -0.017809557, 0.04753063, 0.03844657, 0.056257892, 0.03635021, -0.027091635, -0.092033975, -0.04883556, -0.01761711, -0.009178321, -0.010101955, -0.060394358, -0.020824436, 0.0448988, 0.02973243, 0.055712063, -0.022667047, 0.040136937, -0.014698785, 0.052227065, 0.06332777, -0.0121444855, -0.0073299548, 0.041903205, -0.063408345, 0.07240662, -0.016543582, -0.0665381, 0.06337341, 0.039633967, 0.015038931, -0.041795317, 0.02544432, 0.014252212, -0.087135606, 0.032904577, 0.01134324, 0.002471489, 0.033663582, -0.01027532, 0.07724483, -0.043749806, -0.029372927, -0.027101777, 0.008097104, -0.025297275, -0.011451083, 0.020848744, -0.077684686, 0.01806095, 0.022620179, -0.06546074, 0.0426577, 0.0075068106, -0.0493777, 0.053914916, 0.042573884, -0.058063503, -0.062259667, -0.063934594, 0.058291927, 0.0029453533, 0.018809566, 0.045864277, 6.5167726E-4, 0.020225547, -0.0019340388, -0.0021726715, 0.068357445, -0.07084606, 0.037584994, 0.019536087, -0.038449746, 0.048886646, 0.011552473, -0.050008014, 0.019061202, -0.040008623, 0.017267898, 0.019136434, 0.0493477, 0.027134575, -0.0020862762, 0.07225519, 0.051333476, 0.041651256, 0.017456885, -0.05532721, -0.016752329, -0.012271765, 0.008886968, 0.034807403, 0.06858019, 0.028122496, 0.05255029, -0.007429969, 0.03313296, 0.047398448, 0.051122267, -0.029205695, 0.01879238, 0.04142733, 0.022704387, 0.07621426, -0.06808942, -0.06599595, -0.036322545, 0.0072971815, -0.05353204, -0.05500099, 0.021803662, 0.010570134, -0.017187696, -0.049856137, -0.04888174, 0.05963071, -0.014813603, -0.07970867, 0.005970406, 0.063067205, 0.08408436, -0.037121933, -0.050456457, -0.0013141403, -0.052513834, 0.023697516, 0.036058675, 0.019547187, 0.017205615, -0.029880483, -0.008803907, 0.012315012, 0.063209854, 0.03540396, -0.052996587, -0.051641352, -0.022851659, 0.006464117, -0.072661534, 0.064687, 0.02351745, 0.008909553, 0.091746, 0.034508385, 0.014078208, 0.0029238681, -0.0061602877, -0.076671466, -0.013269625, 0.035496414, 0.034294024, -0.03024907, 0.007441948, -0.061316352, 0.024667807, 0.05538086, -0.056580447, -0.040099233]]]                                     |\n",
            "|#loltyler1|2022-05-18T13:18:05.612337|@unhing3d, ACCOUNTS: BIG TONKA T is currently Master I 113 LP      |fossabot|[[document, 0, 60, @unhing3d, ACCOUNTS: BIG TONKA T is currently Master I 113 LP, [sentence -> 0], []]]      |[[sentence_embeddings, 0, 60, @unhing3d, ACCOUNTS: BIG TONKA T is currently Master I 113 LP, [sentence -> 0, token -> @unhing3d, ACCOUNTS: BIG TONKA T is currently Master I 113 LP, pieceId -> -1, isWordStart -> true], [-0.008687929, 0.05789157, -0.025227336, -0.028970147, -0.042329572, -0.016681321, 0.014176725, -0.015595533, -0.059940353, 0.024327498, 0.06727054, -0.016612725, -0.071410164, 0.08249114, 0.0047850716, 0.06912975, -0.005174519, -0.016777378, -0.030558871, -0.081740156, 0.083063655, 0.005281313, -0.015883477, -0.048956446, -0.063504875, 0.06065479, -0.065641545, -0.031751357, -0.07346331, 0.07959615, -0.03949114, -0.011953331, -0.03188223, -0.037879813, 0.07359325, 0.07839415, 0.031214483, 0.01630465, 0.046116266, -0.08286896, -0.02641473, -0.04967596, -0.048630808, 0.028040117, 0.009189429, 0.037429266, -0.02551006, 0.017830798, 0.028997459, 0.047173303, -0.015416931, -0.05700888, 0.05606619, 0.046827625, 0.060719527, 0.033112336, 0.013971105, -0.07663169, -0.058204874, -0.03183326, 0.059538666, -0.0146989925, 0.07670312, -0.00211814, -0.0065038735, -0.048203267, 0.008138444, 0.07795387, -0.051202174, 0.0097187385, -0.06967596, -0.044161085, -0.03591361, -0.073170915, 0.06000744, 0.050436202, -0.031763222, 0.034220625, -0.060416922, 0.011837349, 0.07325439, -0.0041388, -0.0183299, 0.06918442, -0.09530723, -0.006861181, 0.07285063, -0.05961851, 0.030146193, -0.047249783, 0.013053381, 0.030571386, -0.06878236, -0.050044455, -0.03041489, 0.027625015, -0.07034495, 0.04193678, -0.036889993, 0.07901632, 0.08451275, -0.050127003, -0.049894422, -0.017478483, 0.05387092, 0.011294317, -0.040776916, 0.07665805, 0.053377442, 0.03199934, 0.008080757, -0.020658908, -0.016464362, -0.012556411, -0.026163803, -0.049886398, 6.3093286E-4, -0.07677124, -0.017175814, 0.042442992, -0.032217335, 0.068457365, 0.029974235, 0.075499095, 0.009405917, -0.012683804, 0.0147869205, -0.029280882, -0.042024292, 0.02585668, -0.05600811, -0.016078778, 0.033429902, 0.0073378044, -0.029629715, -0.025732558, 0.04957742, -0.021164121, 0.053222492, -0.0014126869, -0.069647, -0.035922788, -0.04418987, -0.018904356, -0.029402005, 0.056561306, 0.060021516, 0.077480406, -0.010501285, 0.0029563566, -0.035758466, -0.045941114, 0.037899125, -0.038932495, -0.02918005, -0.0221823, -0.023977073, -0.020578576, -0.0117513845, 0.012586258, -0.0467599, 0.05124454, 0.002827225, -0.044803288, 0.012135396, 0.05764254, 0.050363764, 0.021999905, -0.015238984, 0.052440133, 0.07252496, -0.026593057, 0.055753656, -0.05146088, 0.069750756, -0.008284184, -0.02910505, -0.07054497, -0.044901844, 0.07080003, -0.056705415, -0.012663829, 0.05450832, 0.026639959, 0.035589155, 0.07014362, 0.03414074, 0.02894865, 0.04127349, -0.013313559, -0.011719093, -0.014114068, -0.03493965, -0.05580234, 0.033826414, -0.050405722, 0.06715989, 0.03784405, 0.096095316, 0.07737195, -0.06390171, 0.050510947, -0.028168572, 0.0649683, 0.03255769, -0.006436981, -0.020960053, -0.023390701, 0.027158422, 0.058198366, 0.059650693, -0.014904579, 0.0019180186, -0.022823874, 0.029858861, -0.06437604, -0.030268278, 0.037771523, -0.013150361, 0.049917523, -0.008874029, 0.03383026, -0.046696156, -0.024597814, -0.0035031296, 0.016343145, -0.006720167, 0.029329509, -0.027264118, 0.034715537, 0.016455645, -0.007117809, 0.0016306908, 0.015170794, 0.050329197, 0.040422987, 0.007843196, 0.072564065, -0.026836744, -0.0028130896, 0.06747846, -0.014681261, 0.026095241, -0.018570932, -0.05276933, -0.087523, 0.022196911, 0.023640053, 0.017877618, -0.008947765, -0.011310184, -0.04493279, -0.075327836, -0.007861645, -0.04132089, 0.019278528, 0.008816373, -0.018086316, -0.048794612, -0.042488117, 0.02607176, 0.060813874, 0.026428781, -0.07175049, 0.017030561, -0.056886286, 0.04500288, 0.053415325, 5.3783704E-4, 0.018443367, -0.045636173, 0.09294779, -0.056108467, 0.040442668, -0.06562409, 0.036396652, 0.047438778, 0.004031802, -0.03009923, -0.049075205, -0.04586027, 0.0043065324, -0.014954918, 0.009304205, -0.08929923, -0.02475924, -0.08817362, -0.013552096, 0.02086801, 0.053435963, -0.08635583, -0.042892676, -0.026075935, -0.028744342, -0.016152723, -0.034191784, 0.026359793, 0.0014662882, -0.042841744, 0.05895463, 0.024945406, -0.03786196, -0.03759846, 0.059632774, 0.04803425, -0.07359135, -0.0668752, 0.0020656933, 0.07768762, -0.0019496907, 0.053988557, -0.00746637, -0.007002384, 0.025973659, 0.03823006, 0.039316375, 0.022533309, -0.048076667, -0.0012713827, -0.04135088, 0.0053092525, -0.035369568, -0.014957212, -0.08240823, 0.014218909, 0.021987546, 0.06093537, 0.017162519, -0.008375812, 0.02492662, -0.02058245, -0.046986856, 0.03377069, -0.08672245, 0.03128315, -0.030364776, -0.030010382, 0.044697024, -9.346324E-4, -0.045211405, -0.042536348, -0.049413208, 0.05838429, 0.050408978, 0.07062363, 0.056534436, -0.012109223, 0.030816682, 0.063113526, -0.03236743, 0.013034537, 0.03380384, 0.08168062, 0.0184275, -0.048157398, 0.057533998, 0.033784457, 0.07031324, 0.030905059, -0.05093027, -0.09057389, -0.049431518, -0.016095517, 0.001441452, 0.009098075, -0.07361795, -0.01796374, 0.06010886, 0.022931084, 0.05737164, -0.030567275, 0.03006222, -0.014733633, 0.051675294, 0.050922636, -0.009625109, 0.0027879567, 0.044473704, -0.06302724, 0.06881337, -0.019070035, -0.0591909, 0.03529954, 0.040078353, 0.030359114, -0.03941335, 0.049454384, 0.036167506, -0.08520805, 0.036019564, -0.003919953, -0.0036023466, 0.02621547, -0.0072638877, 0.0734848, -0.045592256, -0.024542881, -0.0015585567, 0.015883837, -0.043765526, -0.002247837, 0.013476619, -0.0697233, 0.00927613, 0.0093921535, -0.07128926, 0.015676154, 0.03292473, -0.03882061, 0.06342224, 0.03409551, -0.022412393, -0.061981488, -0.07810235, 0.049219348, 0.009969971, 0.004471353, 0.05057329, 0.0032009103, 0.029329773, -0.017776376, 0.0043330183, 0.04701785, -0.073266365, 0.040829044, 0.002816827, -0.043005876, 0.023425296, 0.013259432, -0.052441396, 0.01710299, -0.03319477, 0.023805987, 0.0060812742, 0.037055, 0.02679339, -0.008816183, 0.066259235, 0.040128116, 0.027685842, 0.007901185, -0.06998381, -0.021605344, 0.011130763, 0.030585952, 0.015576001, 0.07342058, 0.016225057, 0.06515671, -0.001350823, 0.0509591, 0.04638172, 0.04608641, -0.013235239, 0.022054553, 0.03725995, 0.039989937, 0.0863678, -0.073426686, -0.072660595, -0.02593975, 0.0031946022, -0.04249223, -0.058475856, 0.03840338, -0.025445418, -0.0023104665, -0.047802735, -0.0341784, 0.044574566, 0.03383241, -0.08603281, -0.0120830005, 0.07174608, 0.08284635, -0.031605277, -0.05835246, 0.031249382, -0.06642809, 0.011675714, 0.05168301, -0.0038389252, -0.0032182343, -0.021074612, -0.006176621, -5.151525E-4, 0.049596783, 0.04131189, -0.06851577, -0.039487008, -0.026433757, 0.0038769424, -0.06494495, 0.0670972, 0.021908456, -0.006251388, 0.09173788, -0.0025056286, 0.013193874, 0.013737109, 0.0026852929, -0.08608704, -0.03373514, 0.03448126, 0.028775632, -0.01972549, 0.016277444, -0.068654686, 0.03878641, 0.07142129, -0.07160313, 0.0020432062]]]                                                  |\n",
            "|#asmongold|2022-05-18T13:18:06.751754|@HavenAU, Please stop one-man spamming. [warning]                  |fossabot|[[document, 0, 48, @HavenAU, Please stop one-man spamming. [warning], [sentence -> 0], []]]                  |[[sentence_embeddings, 0, 48, @HavenAU, Please stop one-man spamming. [warning], [sentence -> 0, token -> @HavenAU, Please stop one-man spamming. [warning], pieceId -> -1, isWordStart -> true], [0.010172966, -0.013984455, -0.015103892, 0.015901927, 0.03308713, 0.017057763, -0.046505857, 0.0046144654, -0.059198126, 0.07403321, 0.010154276, 0.012806619, -0.068314224, -0.016366236, 0.013254872, 0.057072975, -0.011375489, -0.0075334474, -0.009642067, -0.059780948, 0.026992958, 0.029496785, -0.017714072, -0.07477821, 0.012655993, -0.0034609558, -0.04639302, -0.08636043, 0.08680991, 0.023234645, 0.04598043, 0.013245107, 0.049075723, -0.031404145, -0.022506552, 0.016636217, 0.06928781, -0.009102327, -0.013726364, -0.026554177, -0.027242322, -0.010373451, 0.06412977, -0.011835197, -0.03366603, 0.037241694, -0.08236258, 0.009528106, 0.040993396, -0.039944395, 0.0051907566, -0.009508481, -0.041395206, 0.050557975, 0.07554997, 0.02320102, -7.5124763E-4, -0.028663913, -0.060138665, 0.014602751, -0.022948263, -0.021266563, -0.060886107, -0.049157035, -0.08233988, -0.05401102, 0.04838769, 0.019615134, 0.029428469, -0.04263517, -0.026720915, -0.070211425, -0.0055804243, -0.057860386, 0.051169988, 0.014147856, -0.030601278, 0.081001714, -0.028200883, -0.03495094, 0.006875011, -0.07055237, -0.0077437307, 0.016245993, 0.043277454, -0.023417123, -0.048691116, -0.077827305, 0.048232794, -0.07832362, 0.058461044, 0.053267036, -0.06981841, -0.031338535, 0.015583836, -0.061305266, 0.0069283457, 0.007618447, -0.00689107, 0.08325967, 0.022527315, -0.045317568, -0.05625394, -0.019751314, 0.06448212, -0.010139131, 0.03600146, 0.020575803, -0.03215109, 0.021129373, 0.04989549, -0.03522557, -0.027310692, 0.0033661146, -7.788958E-4, 0.046356108, 0.020352334, -0.08574821, 0.06979681, -0.058537874, -0.0120441895, -0.010733852, -0.013832773, 0.0013230566, 0.06811609, -0.0777933, -0.025589338, -0.013981668, 0.016510423, 0.027112322, -0.027168453, 0.0577402, -0.04215005, -0.005718672, 0.0041062743, 0.047411613, 0.033470035, -0.011480858, 0.050645135, -0.02716929, -0.064367585, -0.0018154454, -0.0301362, -0.05070041, -0.009724193, -0.007902982, -0.009241851, -0.058580022, -0.014753703, -0.029182319, -0.016105263, -0.085995734, 0.050249472, -0.03041247, 0.0034338674, -0.044332672, 0.029933672, -0.0167668, -0.019327212, -0.016621996, -0.07709567, -0.06442079, -3.7370657E-4, 0.013228502, 0.0014809995, -0.040374786, -0.010056135, -0.06271496, -0.043593008, -0.03021959, -0.038038712, 0.058541212, -0.04237847, 0.049318537, 0.04617367, 0.054919988, 0.018997075, 0.01127795, -0.07959731, 0.049758285, 0.016614692, -0.053387884, 0.0018557352, -0.033239707, 0.012605926, 0.0112092225, -0.03050515, 0.0014595694, -0.065244764, 0.041556384, -0.017551564, 0.034252465, 0.038089804, -0.080627345, -0.012559446, -0.07224319, 0.025722224, 0.043896362, 0.07667693, 0.005111244, -0.021761391, -0.05268486, -0.052342992, 0.08453888, -0.05216502, -0.028160969, 0.06954448, -0.030200323, -0.032219667, -0.033835813, 0.074807756, 0.07603443, 0.010862385, -0.042419154, 0.030879738, -0.07400972, 0.016348632, 0.038943883, -0.053020883, 0.048579693, 0.020422181, -0.0046146894, -0.08422341, -0.046462025, -0.0064197853, -0.019790001, 0.014570306, 0.052485347, 0.03390779, 0.00852272, -0.021255726, -0.015170769, -0.053425573, 0.03371534, 0.06503363, 0.053523857, 0.031719726, -0.018633451, 0.0051933057, -0.05270669, 0.012307671, 0.062487938, 0.005498254, -0.0011597453, -0.039735317, -0.025848573, 0.020813731, 0.038409244, -0.025787938, 0.024959438, 0.0519821, 0.011454835, -0.020650433, -0.060228147, 0.032566022, 0.053643107, 0.007848292, 0.012132433, -0.03470167, 0.045664832, -0.06206394, -0.023542242, 0.03704259, 0.011284862, -0.041138668, 0.009859189, -0.046862297, -0.046645597, -0.049815673, 4.4892455E-4, 0.08321069, 0.04142892, -0.06584149, -0.03539908, -0.08779337, 0.026862059, -0.040554717, 0.056634605, -0.07615662, -0.05295959, 0.028085113, 0.023801027, -0.011391684, -0.057970896, -0.023580149, -0.047170434, -0.03950317, 0.03823655, 0.034177177, -0.08313544, 0.018400637, -0.05711138, -0.046976708, -0.054654654, 0.009546957, -0.04569491, 0.015555641, -0.038290605, -0.04214446, -0.050630514, -0.016749654, -0.032209884, -0.055861667, 0.030532045, 0.06836362, 0.005248641, 0.038943864, 0.040198307, 0.08146746, 0.01723456, 0.014764746, -0.011761331, 0.023295166, -0.0015026106, 0.036453243, 0.025723685, 0.043661207, -0.024349166, -0.0084426, -0.034892943, -0.018472817, -0.030722547, 0.06370502, -0.0360319, -0.02293831, 0.0037893273, 0.015306659, -0.027414456, -0.014735274, -0.03663408, -0.03936318, -0.0058204015, -0.0150102265, 0.009207946, -0.0080258725, 0.024012014, 0.021017889, 0.081659816, -0.008826853, -0.080806196, 0.06112397, -0.0140352985, 0.038456216, 0.030851228, 0.037735287, -0.029377408, 0.0016975247, 0.04882186, -0.02306574, -0.049965747, -0.083152324, -0.062170908, 0.041453097, 0.037316445, 0.002835862, 0.08278514, -0.044412978, -0.0540552, 0.0047543272, -0.01076753, -0.014575813, -0.006675707, 0.06838835, -0.045653116, 0.028177118, -0.009227499, 0.008504439, 0.015786596, -0.030250933, 0.04385155, 0.025247633, -0.06707299, 0.030447507, 0.017743127, -0.0792768, 0.0927014, -0.028817365, -0.05140503, 0.0468859, 0.031262416, -0.06961961, -0.05530827, 0.03468704, -0.047734965, -0.054969992, 0.021279538, 0.046790708, -0.013241166, -0.08094223, -0.0049024834, 0.062270526, 0.0778681, 0.02323133, 0.044790346, 0.04123892, 0.056693397, -0.048976347, 0.084972546, 0.048921444, 0.02946297, -0.008905296, 0.06764194, -0.07041755, -0.028726012, 0.014247686, -0.026361028, -0.04527203, -0.022884784, -0.01251019, -0.021159764, 0.06839614, -0.08471863, -0.004693819, -0.030421613, -0.062171023, -0.07872171, 0.032449342, 0.051968824, 0.09303805, -0.016297264, -0.0036153165, 0.056953207, 0.0010696346, -0.05616777, 0.023380013, 0.031862933, -0.05540392, -0.009131993, 0.0446229, -0.04942751, 0.039276164, 0.03676992, 0.07422011, 0.06447979, -0.07759061, -0.010186818, -0.070971444, 6.806697E-4, -0.027552692, -0.06769777, 0.020853858, -0.067539774, -0.025393423, -0.00535005, 0.06824, -0.02701699, 0.07855023, -0.0060129035, 0.06690609, 0.015874162, 0.013930677, -0.041556977, 0.077847324, 0.056585073, 0.071946554, -0.017564725, 0.08681458, 0.04370987, -0.030732632, 0.03795787, 0.01669608, 0.0605056, -0.037798326, -0.057777923, 0.0138515085, -0.028560448, -0.020310758, 0.0016880477, -0.0022001246, -0.042706843, 0.0069686617, -0.02572489, -0.05791272, 0.015767891, 0.08474434, 0.02786818, -0.08353793, 0.07218465, -0.026838677, -0.028966978, 0.0034026003, 0.01626378, -0.015840814, 0.008100758, -0.05223076, 0.036150064, -0.08060229, -0.011342329, -0.064036764, 0.034015097, 0.03268079, -0.030660298, -0.06712284, -0.060875997, 0.029298443, -0.042832736, 0.04102208, 0.008590083, 0.04922847, 0.042201135, 0.07882926, -0.060487542, -0.076129474, 0.03275137, -0.032171886, -0.07486485, 0.0508861, -0.04475583, 0.07359072, 0.09105431, -0.05789731, 0.06898473]]]                                     |\n",
            "|#loltyler1|2022-05-18T13:18:11.076057|@vojtoslavos, ACCOUNTS: BIG TONKA T is currently Master I 113 LP   |fossabot|[[document, 0, 63, @vojtoslavos, ACCOUNTS: BIG TONKA T is currently Master I 113 LP, [sentence -> 0], []]]   |[[sentence_embeddings, 0, 63, @vojtoslavos, ACCOUNTS: BIG TONKA T is currently Master I 113 LP, [sentence -> 0, token -> @vojtoslavos, ACCOUNTS: BIG TONKA T is currently Master I 113 LP, pieceId -> -1, isWordStart -> true], [-0.030596437, 0.050243083, -0.02570443, -0.044830225, -0.042455543, -0.009217546, 0.022490004, 0.009285372, -0.046165958, 0.020757211, 0.076317064, 0.004965851, -0.06721107, 0.078288205, 0.013910477, 0.064019375, -0.013163496, -0.019893076, -0.0035076074, -0.0765335, 0.09011151, 0.007266294, -0.0010394881, -0.040368147, -0.061049014, 0.057624992, -0.055439394, -0.014879849, -0.076892406, 0.078623325, -0.056239128, -0.025744079, -0.055070784, -0.026960464, 0.065732576, 0.078237675, 0.0124862045, 0.020778328, 0.03879092, -0.090102404, -0.026893469, -0.05169677, -0.057161774, 0.018011129, 0.008042912, 0.048196916, -0.012758111, -0.008037072, 0.033249322, 0.04158069, -0.022546405, -0.07439227, 0.041339524, 0.057869036, 0.05014346, 0.035063103, 0.02612696, -0.06544467, -0.04910162, -0.050351046, 0.056137603, -0.016325142, 0.08388545, -0.011729675, 0.012765966, -0.04131055, 0.0134320175, 0.076001406, -0.042290974, -0.005542292, -0.06740416, -0.034833852, -0.018231977, -0.07068458, 0.0468252, 0.044487394, -0.03545477, 0.038047127, -0.07275084, 0.008414471, 0.07282916, 0.0018002955, -0.005595003, 0.07573656, -0.097315, 0.0034890478, 0.074847504, -0.044747304, 0.026231708, -0.035353508, 0.022963261, 0.03489209, -0.054975152, -0.05541159, -0.0074256817, 0.040081795, -0.07792853, 0.022365492, -0.03499201, 0.076237805, 0.0832628, -0.050209694, -0.052496687, -0.004431881, 0.05209251, 0.0019304492, -0.06785855, 0.06678036, 0.060943443, 0.05540474, 0.019876286, -0.030030988, -0.026518848, -0.0063654976, -0.031135378, -0.042786233, 0.012661995, -0.07109763, -0.044042386, 0.049114805, -0.02373442, 0.07083676, 0.01829704, 0.0805232, 0.0037848756, -0.007276822, 0.04643372, -0.041134033, -0.048658613, 0.028549356, -0.041886423, 0.00344393, 0.04718649, 0.027797597, -0.010903492, -0.030493772, 0.071203835, -0.017330226, 0.047593992, 0.0059546605, -0.06401074, -0.049130786, -0.05384837, -0.0017496117, -0.0401131, 0.066621594, 0.06668447, 0.073431894, -0.011566315, 0.015025263, -0.050163113, -0.046169326, 0.038274482, -0.055643417, -0.006345206, -0.02391374, -0.031204268, -0.03400231, -0.017775806, 0.016198799, -0.033238538, 0.06465762, -0.015557995, -0.025009047, -0.014648909, 0.06650597, 0.06142679, 0.02376103, 6.164495E-4, 0.043039035, 0.0725172, -0.02312789, 0.05201617, -0.06784179, 0.05859567, -0.0058215945, -0.028247017, -0.065714635, -0.044858783, 0.054543834, -0.06498203, -0.018599002, 0.040372055, 0.04431772, 0.041862946, 0.04448105, 0.0534745, 0.009474655, 0.019721517, -0.04318258, 0.008031789, -0.013016064, -0.012145016, -0.05824368, 0.02802902, -0.038168162, 0.05856767, 0.027118491, 0.093212634, 0.064999774, -0.05378945, 0.068184964, -0.038132653, 0.04534906, 0.04230438, 0.0059048217, -0.008806276, -0.010520927, 0.032805588, 0.054625407, 0.04845605, -0.037495855, 0.0056028496, -0.0067178165, 0.039076585, -0.052520912, -0.03486433, 0.022354323, -0.0051938635, 0.04515501, -0.0013329868, 0.02808111, -0.041910518, -0.019982597, 0.012128218, 0.0029740185, 0.009655774, 0.023856856, -0.028675873, 0.019415565, 0.035823587, -0.011727638, 0.020001989, -0.016204163, 0.041420612, 0.041120976, 0.010428545, 0.078467265, -0.006334859, 0.027257118, 0.05952446, -0.02357062, 0.026837451, -0.02459804, -0.05740107, -0.093564875, 0.03875895, 0.046390302, 0.023684576, -0.0072517125, -0.011052321, -0.014415171, -0.054654684, -0.024665399, -0.057152048, 0.005060371, -0.0074898032, -0.0156834, -0.046962216, -0.031000698, 0.0062062778, 0.05334238, 0.039175093, -0.07665123, 0.0018010834, -0.05757227, 0.023121368, 0.06299285, 0.007922656, 0.02699377, -0.061838627, 0.08744984, -0.05999426, 0.034425616, -0.04746502, 0.038822148, 0.023823919, 0.020250099, -0.01786484, -0.06090594, -0.03599342, 0.004903991, -0.009869837, 0.0034913998, -0.08015263, -0.03198354, -0.08422942, -0.0037273706, 0.017299816, 0.047675624, -0.08917325, -0.055797137, -0.040506966, -0.038231567, -0.020467488, -0.050179612, 0.027932432, -0.022487355, -0.031821575, 0.049791515, 0.012613417, -0.040511083, -0.04438539, 0.06755341, 0.040076625, -0.079863615, -0.0686202, -0.0031264946, 0.08273456, 0.019235691, 0.0495521, -0.021201255, -0.009350063, 0.047035377, 0.03827873, 0.044176724, 0.018469134, -0.042249672, -0.0036006868, -0.04051758, -0.0036442939, -0.025680218, -0.027678855, -0.0736629, 0.009098921, 0.03449666, 0.058119517, 0.03221127, -0.010468307, 0.049500506, -0.005883076, -0.05620088, 0.018020194, -0.07665838, 0.043814126, -0.04525473, -0.040914454, 0.041413486, -0.0049692127, -0.046705104, -0.061026532, -0.045688357, 0.073780976, 0.04840594, 0.07843615, 0.06330567, -0.03078729, 0.025309807, 0.06684888, -0.027185895, 0.011155615, 0.035188314, 0.08162438, 0.023115873, -0.045147393, 0.055731222, 0.037537936, 0.06907093, 0.035545163, -0.047757067, -0.09126625, -0.06260418, -0.026625717, -0.0043426543, 0.013760826, -0.055393796, -0.019650638, 0.049993183, 0.018726202, 0.05352758, -0.0140130045, 0.046159215, -0.018967465, 0.06880061, 0.06307578, -0.025823286, -9.496E-4, 0.027810007, -0.061602462, 0.068612106, -0.029970996, -0.053109985, 0.04356741, 0.04650756, 0.024854714, -0.04739594, 0.04115527, 0.025747737, -0.08364512, 0.03948084, 0.008644094, -0.014612891, 0.029473515, -0.012800414, 0.07328447, -0.053374197, -0.011223952, -0.0054295305, 0.0066026393, -0.03286215, -0.010422313, 0.011444501, -0.06784218, 0.023714345, 0.016556546, -0.062129553, 0.02239061, 0.021961551, -0.0328069, 0.063769475, 0.042366832, -0.04160407, -0.062450517, -0.07684061, 0.07100866, -0.0014970831, -9.5562464E-5, 0.053295676, 0.0074647646, 0.01944821, -0.006167627, 0.020689543, 0.047773074, -0.07475244, 0.034966268, 0.025959508, -0.034602433, 0.027741713, 0.0074025, -0.03383285, 0.0076588443, -0.04319886, 0.028605483, 0.016309947, 0.045049477, 0.029699763, -0.008224843, 0.062099237, 0.040904023, 0.031958725, -0.0057454924, -0.0566856, -0.017088976, -0.019351535, -0.0023181671, 0.03890156, 0.073103145, 0.021552531, 0.061050393, 0.0056552975, 0.037044298, 0.02809576, 0.057259932, -0.016056562, 0.014772764, 0.03502347, 0.033055283, 0.07592742, -0.0719903, -0.063834116, -0.03634805, 0.002059179, -0.04926748, -0.05245064, 0.036656246, -0.012686862, -0.009844582, -0.045931328, -0.036743995, 0.042450808, 0.02362851, -0.08359074, -0.013558909, 0.0460154, 0.08305567, -0.033201344, -0.054050304, 2.2750483E-4, -0.056690488, 0.018851258, 0.04506879, 0.016197842, 0.004504603, -0.034336075, -3.7286812E-4, 9.32549E-4, 0.06972714, 0.03565082, -0.058763094, -0.059342884, -0.019915558, 0.020143777, -0.06795226, 0.06103629, 0.03492851, -6.4306863E-4, 0.089579195, 0.029399151, 0.012363287, 0.0010184058, -0.0022241266, -0.0854058, -0.019665297, 0.04036037, 0.040469002, -0.026475878, 0.011424544, -0.068037294, 0.026515178, 0.057969302, -0.05613596, 0.0017169112]]]                        |\n",
            "|#loltyler1|2022-05-18T13:18:24.162024|@Quote_If_PogO, ACCOUNTS: BIG TONKA T is currently Master I 113 LP |fossabot|[[document, 0, 65, @Quote_If_PogO, ACCOUNTS: BIG TONKA T is currently Master I 113 LP, [sentence -> 0], []]] |[[sentence_embeddings, 0, 65, @Quote_If_PogO, ACCOUNTS: BIG TONKA T is currently Master I 113 LP, [sentence -> 0, token -> @Quote_If_PogO, ACCOUNTS: BIG TONKA T is currently Master I 113 LP, pieceId -> -1, isWordStart -> true], [-0.013580991, 0.057921812, -0.030469626, -0.029924588, -0.034255374, -0.020242557, 0.029161964, 0.0043375334, -0.052317794, 0.026466014, 0.07164227, -0.014986411, -0.06754903, 0.07581109, -0.011024172, 0.06375968, -0.01242899, -0.0055190558, -0.011295316, -0.08006128, 0.07937045, 0.01895229, 0.0059281676, -0.045285944, -0.074839905, 0.061051093, -0.064261176, -0.016762214, -0.08211765, 0.08294805, -0.052112576, -0.027681995, -0.039366364, -0.027176673, 0.07814402, 0.07864339, 0.020587197, 0.03700705, 0.027396405, -0.08676906, -0.0136645045, -0.068930395, -0.065760374, 0.029645111, 0.024044733, 0.038668416, -0.009746041, -9.777534E-4, 0.039550994, 0.047631092, -0.02459975, -0.064709134, 0.05890062, 0.064051375, 0.048787713, 0.024406934, 0.015088934, -0.07099392, -0.0534482, -0.02683512, 0.06672508, 0.0027272624, 0.08662923, 0.007856795, -0.014341396, -0.057216395, 0.016737662, 0.07983081, -0.051389802, -4.612299E-4, -0.040480208, -0.0454991, -0.023125924, -0.06146221, 0.052882146, 0.05265598, -0.036400262, 0.038609818, -0.062588766, 0.012142532, 0.07604564, -0.014854797, -0.026311299, 0.07698423, -0.0981279, 0.0020734568, 0.084367365, -0.044569805, 0.029839726, -0.03192989, 0.022954065, 0.020058729, -0.06297174, -0.05085035, -0.0029004782, 0.016690386, -0.07035691, 0.044331286, -0.041042626, 0.079964004, 0.082870774, -0.036238544, -0.059492886, -0.016626973, 0.03873953, 0.011106141, -0.06446315, 0.06846941, 0.05758717, 0.039501052, 0.013313212, -0.03363778, -0.011971232, -0.011417307, -0.019337699, -0.05402867, 0.0041903313, -0.06999905, -0.031341452, 0.055969775, -0.011578275, 0.06469879, 0.004148397, 0.071935445, 0.027422052, -0.0049609523, 0.03848757, -0.049101252, -0.04859568, 0.028536422, -0.049201462, 0.0020690258, 0.032509882, 0.02639261, -0.023114605, -0.033189476, 0.062017612, -0.008817767, 0.046166953, -0.013072345, -0.06665754, -0.03426351, -0.039139535, 0.012525445, -0.03989592, 0.06349501, 0.062617235, 0.0785182, -0.019025749, 8.962681E-4, -0.045931637, -0.039933532, 0.03675188, -0.059329584, -0.02000196, -0.019664066, -0.008438132, -0.0090121655, -0.02316792, 0.02141421, -0.039238874, 0.062075056, 0.001176585, -0.0409242, 0.0050652344, 0.061539087, 0.052414536, 0.034296304, -0.002961663, 0.046473835, 0.07519352, -0.0032114133, 0.034781072, -0.06530323, 0.061732937, -0.0028427043, -0.032132, -0.054325756, -0.041897852, 0.051871013, -0.0651499, -0.024942458, 0.047723375, 0.034222607, 0.03428736, 0.04365533, 0.0478318, 0.025525559, 0.032902572, -0.019454593, 0.017304078, -0.012910109, -0.015438311, -0.058558624, 0.0348907, -0.04899609, 0.05807522, 0.033841502, 0.0904741, 0.07227052, -0.0600948, 0.066744514, -0.031895224, 0.056735992, 0.023993017, -0.0053971875, -0.006460036, -0.029562682, 0.035773154, 0.069990024, 0.051025193, -0.037571043, 0.006930528, -0.026428215, 0.031294134, -0.04887198, -0.058467075, 0.015587688, -0.023185315, 0.06226413, 0.0030966555, 0.03728265, -0.03484401, -0.02291187, -0.0022932887, 0.01599236, 0.006747496, 0.02568213, -0.02295859, 0.010159046, 0.028746974, -0.016890971, -0.002590742, 0.023408024, 0.0478665, 0.038331546, -0.007951324, 0.07135684, -0.012707339, 0.0059472932, 0.07084459, -0.015811747, 0.015294872, -0.021674877, -0.052262712, -0.09712878, 0.03773755, 0.050528113, 0.022215882, -0.02213746, -0.009580271, -0.042662546, -0.05001097, -0.036543973, -0.03504032, 0.018456222, 0.007957102, -0.023520555, -0.062677674, -0.022025209, 0.02556997, 0.06884466, 0.028835954, -0.07031581, 0.005867354, -0.051550165, 0.027950926, 0.048070412, 0.025793796, 0.041974194, -0.04763736, 0.08476355, -0.061917085, 0.02941781, -0.06030866, 0.04173284, 0.042302437, 0.02503226, -0.005851711, -0.06607193, -0.036887452, -0.010099997, -0.016809333, 0.015906647, -0.088697195, -0.025686562, -0.076549366, 0.0047353804, 0.034831878, 0.055227544, -0.08974559, -0.03990719, -0.04980612, -0.014707816, -0.018699512, -0.047756765, 0.034101624, 0.006002467, -0.023231871, 0.045231633, 0.023676448, -0.04488021, -0.05342603, 0.06681136, 0.052811902, -0.06872145, -0.06512105, -0.011924814, 0.07686884, 0.025820674, 0.052174207, -0.01939222, -0.018042129, 0.032050412, 0.021007923, 0.029809529, 0.0217252, -0.04579018, 0.0042226203, -0.039942224, -0.012442146, -0.028921455, -0.018767536, -0.075944684, 0.016388342, 0.044964515, 0.05061933, 0.006288373, 0.0041811545, 0.04031389, -0.014852113, -0.047191758, 0.008685519, -0.08574278, 0.03280145, -0.026670232, -0.04255297, 0.050520614, 0.00289354, -0.03928091, -0.049076777, -0.04123895, 0.038745694, 0.040185146, 0.07235548, 0.06039615, -0.0149288, 0.027355563, 0.07018017, -0.02219904, 0.01704414, 0.044940915, 0.091511585, 0.028344918, -0.03462287, 0.04399106, 0.041061256, 0.060798906, 0.035582934, -0.04853301, -0.0910855, -0.059099134, -0.02026012, -0.0101782475, 0.0067414027, -0.06993464, -0.020605836, 0.053144462, 0.023962762, 0.05431393, -0.026198069, 0.03808856, -0.015922293, 0.05617835, 0.07069033, -0.024560792, -0.013308743, 0.043844935, -0.06536705, 0.07519345, -0.030189252, -0.046767414, 0.04029168, 0.039658148, 0.02024692, -0.047159802, 0.046220455, 0.02732857, -0.08800023, 0.040104643, -0.0026591327, -0.009304543, 0.025507173, 0.007831771, 0.07486402, -0.06076198, -0.024242917, -0.019701634, 0.013381826, -0.025185196, -0.013021067, 0.0068930704, -0.06839056, 0.017844837, 0.005444844, -0.060036484, 0.015524521, 0.019585952, -0.05291983, 0.06927815, 0.031131526, -0.03791592, -0.04299077, -0.070838444, 0.06124355, 0.007898377, 0.01989756, 0.056229595, -0.0022303108, 0.023425698, -0.01353443, 5.613962E-4, 0.05995511, -0.07099736, 0.040397238, 8.5542665E-4, -0.041825417, 0.037719015, 0.027984029, -0.04539701, 0.007934297, -0.038705412, 0.02661966, 0.0157849, 0.044001374, 0.022026455, 0.0028478692, 0.05815352, 0.046122238, 0.029735815, -0.011788709, -0.05678608, -0.02049913, 0.009822901, 0.015410529, 0.03245807, 0.06848758, 0.018151147, 0.06897308, 0.0014537061, 0.035692867, 0.02790547, 0.04919212, -0.019735808, 0.019851917, 0.055506483, 0.02997544, 0.07581666, -0.07017086, -0.06439736, -0.02520472, 0.016146466, -0.039094035, -0.046987228, 0.02654173, 0.01037734, -0.0064163376, -0.046093233, -0.035475716, 0.058588855, 0.025038501, -0.08607245, -0.012138529, 0.06774915, 0.08107881, -0.032887753, -0.056745652, 0.0075276154, -0.0625331, 0.020334346, 0.03571935, -0.0017333156, 0.0058548455, -0.036976963, -0.023612764, 0.015042805, 0.06805248, 0.039931126, -0.062676534, -0.059733678, -0.031869058, 0.014417216, -0.064107046, 0.05810395, 0.03143574, -0.0016910395, 0.09392498, 0.013207401, 0.016212353, 0.005936743, 0.0046175816, -0.08435027, -0.017009938, 0.040298283, 0.029247683, -0.02951264, 0.008080277, -0.0700088, 0.02328878, 0.056022163, -0.066248484, -0.016805122]]]                                                       |\n",
            "|#loltyler1|2022-05-18T13:18:31.662280|@suriiden, ACCOUNTS: BIG TONKA T is currently Master I 113 LP      |fossabot|[[document, 0, 60, @suriiden, ACCOUNTS: BIG TONKA T is currently Master I 113 LP, [sentence -> 0], []]]      |[[sentence_embeddings, 0, 60, @suriiden, ACCOUNTS: BIG TONKA T is currently Master I 113 LP, [sentence -> 0, token -> @suriiden, ACCOUNTS: BIG TONKA T is currently Master I 113 LP, pieceId -> -1, isWordStart -> true], [-0.023770362, 0.047018766, -0.031034263, -0.04671097, -0.037884403, -0.02717556, 0.03492963, 0.007196925, -0.030606847, 0.022032894, 0.079982474, 0.0048988885, -0.074521616, 0.0809171, 0.015071824, 0.060088236, -0.026484737, -0.034559198, 0.005001598, -0.080981724, 0.0859867, -0.01545088, 0.0054924465, -0.047078755, -0.06095657, 0.059209798, -0.062457755, -0.020917548, -0.08483314, 0.0781904, -0.057923112, -0.032211468, -0.05748795, -0.034916293, 0.079026766, 0.07632134, 0.01940309, -0.009225938, 0.030506156, -0.07955514, -0.03537852, -0.047214415, -0.06212719, 0.019802643, 0.013439978, 0.041080594, -5.834783E-4, -0.0023794854, 0.056757994, 0.05874391, -0.015626926, -0.074421205, 0.06096052, 0.06498428, 0.05385695, 0.045061085, 0.025340177, -0.07062283, -0.05907977, -0.020024555, 0.058287043, 0.004903945, 0.0848828, -0.0041228957, 0.0038007584, -0.036618713, 0.010174272, 0.07053681, -0.05843869, -0.0056292955, -0.06372744, -0.0124586, -0.03007165, -0.06554688, 0.053102314, 0.05280568, -0.016780283, 0.038325496, -0.07286233, -0.012628084, 0.06784162, 0.012900761, -0.015416286, 0.069325395, -0.09817689, 0.005897334, 0.07338473, -0.052463647, 0.04219567, -0.047027927, 0.022066526, 0.01927219, -0.06831001, -0.051175777, -0.011177192, 0.017353473, -0.070085235, 0.038919058, -0.038395483, 0.06955364, 0.08475793, -0.04506404, -0.055152874, -0.011178816, 0.036471043, 0.014671782, -0.06712566, 0.08500642, 0.06261511, 0.051188648, 0.02014031, -0.051907852, -0.004743615, -0.027176391, -0.021322088, -0.04985443, 0.015302517, -0.06565147, -0.040041495, 0.049813412, -0.020769386, 0.068391755, 0.027253324, 0.069016494, -0.0057776542, -0.0035274813, 0.05009833, -0.024679476, -0.041787274, 0.036612127, -0.04716822, -0.013443079, 0.031128997, 0.009273006, -0.03006136, -0.031553727, 0.058250137, -0.021063473, 0.04156399, 0.0240948, -0.06767171, -0.033707518, -0.055707727, -0.043388996, -0.026230821, 0.06060114, 0.05961257, 0.0880277, 0.0019489094, 0.016851516, -0.030890128, -0.0356036, 0.043065514, -0.06455725, -0.021947067, -0.01046756, -0.024640143, -0.042325307, -0.006171475, 0.0056356476, -0.033637956, 0.06437777, -0.0074130367, -0.025556305, -0.01200978, 0.04664132, 0.05478674, 0.028561434, -0.020737791, 0.04537137, 0.06892025, -0.033416968, 0.046370905, -0.06706639, 0.054631304, 0.0059753116, -0.013073398, -0.07107093, -0.04560417, 0.05871395, -0.048849177, -0.018840946, 0.03146621, 0.03908974, 0.04009576, 0.042023536, 0.037953243, 0.0064542564, 0.025562879, -0.046084657, -0.0037251886, -0.019099405, -0.009816502, -0.055727288, 0.034737993, -0.041778613, 0.047030687, 0.017150223, 0.09188511, 0.06395087, -0.05238521, 0.066632584, -0.029253485, 0.052308384, 0.020346351, -0.017257864, -0.00666633, -0.0101860855, 0.024134045, 0.04907349, 0.04621361, -0.02531751, -0.002472921, -0.025919542, 0.026882308, -0.056671716, -0.025945507, 0.038154107, 0.007616535, 0.024186276, 0.005163168, 0.039376885, -0.063888736, -0.026625063, 0.012072342, 0.005338754, -0.016737571, 0.010267154, -0.061932057, 0.00213373, 0.040811144, -0.014770023, -0.006583107, -7.3768233E-4, 0.039335392, 0.03013497, -0.0053487583, 0.07141384, -0.020442115, -0.004263233, 0.066912055, -4.101805E-4, 0.020368913, -0.035426747, -0.060528908, -0.09103745, 0.059922382, 0.03722722, 0.019113095, -0.014773683, -0.02306571, -0.031601153, -0.08861906, -0.03254894, -0.03960206, -0.016573561, 0.003894665, -0.024211401, -0.03927714, -0.05034624, 0.020088011, 0.05327749, 0.027869157, -0.07597139, 0.012002436, -0.06072184, 0.03296274, 0.061426967, 9.784588E-4, 0.0047228527, -0.059177805, 0.09383384, -0.05185004, 0.026911726, -0.06207356, 0.02832537, 0.024743764, 0.030056648, -0.035840962, -0.05233449, -0.044579912, 0.0042946865, -0.0022659888, 0.019340787, -0.08150946, -0.03336717, -0.0929522, -0.0132661695, 0.0017193564, 0.064381644, -0.093012884, -0.03556401, -0.035952374, -0.019405767, -0.035786413, -0.039875615, 0.017734151, -0.0029081209, -0.033797756, 0.040941637, 0.014332279, -0.056278814, -0.034343317, 0.052970294, 0.05224459, -0.07571192, -0.06752895, -0.0063976534, 0.07489481, 0.033448882, 0.067309596, -0.011312341, -0.02653089, 0.019505432, 0.03343985, 0.05230041, 0.019534197, -0.05498395, -0.006994906, -0.04123078, 0.003968628, -0.033482, -0.009185062, -0.077833295, 0.009761214, 0.030025195, 0.04600293, 0.013366198, -0.013019048, 0.042018756, 0.0016579595, -0.046111073, 0.018333592, -0.08181015, 0.03545825, -0.030130235, -0.03392989, 0.045854185, 0.0073293066, -0.05435849, -0.039266497, -0.034269515, 0.04541575, 0.042230733, 0.07265978, 0.034230676, -0.006706065, 0.021826513, 0.059305865, -0.04269192, 0.022286182, 0.036616597, 0.07851236, 0.02141895, -0.035144653, 0.038165618, 0.038673367, 0.0638869, 0.039334413, -0.045465954, -0.09056985, -0.06529369, -0.013603171, -0.0016330724, -0.014226962, -0.057091422, -0.03180943, 0.0522094, 0.01814949, 0.050090503, -0.012445998, 0.050098047, -0.02097945, 0.057224773, 0.054172885, -0.021371555, 0.009449893, 0.057689793, -0.04955435, 0.06923112, 5.4724654E-4, -0.055715937, 0.06782533, 0.02859036, 0.017845428, -0.048837543, 0.05792413, 0.030197725, -0.084898956, 0.024388669, 0.0062687295, 0.020490577, 0.04304732, -0.029386481, 0.08695414, -0.034813073, -0.030020505, -0.014587966, 0.014908434, -0.044026863, 3.7852017E-4, 0.013239895, -0.057314936, -0.0010972376, 1.00986406E-4, -0.07035249, 0.02156598, 0.024906503, -0.045754462, 0.042850114, 0.048114225, -0.03983388, -0.06546887, -0.072646774, 0.06863028, 0.011759579, 0.00831022, 0.03513627, 0.009108945, 0.033984825, 0.0012201278, 0.0058126715, 0.061217133, -0.07243772, 0.0414173, 0.005113807, -0.029545648, 0.026701836, -1.9895131E-4, -0.06386098, 0.014618383, -0.048499905, 0.010690485, 0.0028150117, 0.050057307, 0.034904934, -0.009773934, 0.074174695, 0.043163836, 0.050171338, -0.0034127778, -0.0552216, -0.0060670404, 0.0023350238, 0.0025625261, 0.01705159, 0.056136966, 0.025759922, 0.057460025, -0.0016672317, 0.03839102, 0.04826163, 0.041107498, -0.04391376, 0.0057317703, 0.04824254, 0.015656669, 0.07793913, -0.068396606, -0.060470473, -0.013627284, -0.00415076, -0.034929935, -0.050808534, 0.025975674, -0.004789876, -0.0069817123, -0.052140262, -0.042011596, 0.049648475, 0.009923739, -0.085464686, -0.02519057, 0.06321727, 0.08817505, -0.050686076, -0.0507983, 0.016246602, -0.05649652, 0.024010554, 0.055277348, 0.005324113, 0.01966468, -0.016331278, 0.0026713198, -0.0076970356, 0.06881566, 0.038884405, -0.0506786, -0.043914005, -0.029881801, 0.016321003, -0.084503025, 0.0660061, 0.026852297, 0.008646293, 0.08667353, 0.0042181476, -0.003480103, 0.012357354, 4.890234E-4, -0.078121655, -0.014989527, 0.043953296, 0.0265325, -0.026165685, -0.0036813254, -0.06795577, 0.02912141, 0.064608015, -0.05372244, -0.026654515]]]                                   |\n",
            "|#loltyler1|2022-05-18T13:18:33.943143|@Maxtadas https://www.op.gg/summoners/kr/BIG%20TONKA%20T           |fossabot|[[document, 0, 55, @Maxtadas https://www.op.gg/summoners/kr/BIG%20TONKA%20T, [sentence -> 0], []]]           |[[sentence_embeddings, 0, 55, @Maxtadas https://www.op.gg/summoners/kr/BIG%20TONKA%20T, [sentence -> 0, token -> @Maxtadas https://www.op.gg/summoners/kr/BIG%20TONKA%20T, pieceId -> -1, isWordStart -> true], [0.038609494, 0.05750958, -0.060460016, 0.051889367, 0.05324495, 0.05693875, -0.06284998, -0.0573843, -0.07497827, 0.0627916, 0.01013771, -0.044978697, -0.06140233, 0.018800914, -0.03310466, -0.013027155, -0.03202213, 0.009767867, 5.228429E-4, -0.0080242185, -0.061449457, 0.041237272, -0.044498403, -0.06922363, -0.040426143, 0.06587503, -0.018778838, -0.08298702, -0.06056534, 0.015787894, -0.049969748, -0.022242995, -0.074972585, -0.029953377, -0.023747155, 0.009193374, 0.029831944, 0.030394636, 0.05768801, -0.012503909, 0.04792587, 0.0035250962, 0.054097548, 0.035349358, 0.039455615, 0.020293321, -0.064664535, 0.04557993, -0.01999288, -0.02794305, 0.043248523, 0.017270291, 0.018378934, -0.043730527, 0.08125089, -0.07528129, -1.3585856E-4, -0.0135348765, -0.047752775, 0.016236091, 0.018281586, -0.040469944, 0.046130985, -0.058495756, 0.02147027, -0.058857102, 0.046821237, 0.054915998, 0.05442549, -0.03783792, -0.07141834, -0.018418439, -0.015103514, -0.059266433, -0.041510638, 0.02545965, -0.036048956, 0.013658279, -0.01432605, -0.05306957, 0.045593727, -0.07106707, 0.044531535, 0.012264415, 0.020100052, 0.03890221, 0.056016132, -0.012493554, 0.049379706, -0.07627428, 0.064004615, 0.024056206, -0.046232745, -0.030076819, 0.014375663, -0.033068232, -0.04467894, -0.008749602, -0.02624277, 0.06123004, 0.0035386335, -0.05581098, -0.05742398, 0.042179957, 0.008073625, -0.011804387, -0.015466939, 0.0056041535, 0.05624441, 0.02716302, -0.06361644, -0.0047478615, 0.050298255, -0.008206383, -0.048845842, 0.057451427, 0.05979728, -0.08317891, 0.056439303, -0.0088149095, -0.012839339, -0.032592267, -0.020597875, -0.02672908, -0.035679553, -0.07064051, -0.021103706, -0.045720585, 0.01170323, -0.009323841, 0.020208888, 0.035082307, 0.00909917, 0.04890835, -0.04300359, -0.022449657, 0.032264497, -0.03674152, 0.08221048, -0.033110674, -0.046862293, -0.0028774377, -0.06570616, 0.033188984, -0.019790187, 0.028441569, -0.0075106923, 0.031155668, 0.025819099, -0.049099892, 0.025240354, -0.08035575, 0.068583064, -0.038786463, -0.009802685, 0.0016713013, 0.013734864, -0.060963854, -0.03746795, -0.062105346, -0.082532935, -0.016243666, -0.014199247, 0.027302982, 0.022764735, -0.049491454, -0.036920007, -0.063670985, -0.008177816, 0.005416232, -0.0036973588, 0.010700527, -0.034260277, 0.034659177, 0.057065967, -0.02315781, 0.01893394, -0.0064113108, -0.07829629, 0.054359905, -0.05665067, -7.732295E-4, 0.040973347, -0.038138703, 0.05921227, -0.026345821, 0.04579437, -0.036786884, 0.04930763, 0.031672668, 0.011942599, -0.020174267, 0.027282452, -0.006117871, -0.017425392, -0.08279627, -0.030590754, 1.8300586E-4, -0.033597324, -0.025494855, 0.06479977, -0.02127761, 0.049460877, 0.06279606, -0.03709555, -0.0159076, 0.041617606, 0.05620321, -0.070655294, 0.039936572, 0.079995275, 0.066445306, 0.006072323, 0.059880752, -0.03665481, -0.03783135, 0.03965074, -0.05157761, -0.074875735, 0.0718588, 0.02940382, -0.028789872, 0.027279213, 0.022329066, -0.021122323, -0.018656587, 0.022532031, -0.028016055, -0.02864777, 0.037999578, -0.008500702, 0.0542635, 0.036152937, -0.019338518, 0.04666693, 0.045346525, 0.042567376, 0.058945376, 0.016569603, -0.05392482, 0.05651166, 0.022949118, 0.016034316, 0.022246031, -0.016884064, 0.03941463, -0.036142122, 0.038690124, -0.03979492, -0.02930976, -0.03776515, 0.018926429, 0.06466925, 0.01605543, 0.0595853, -0.035291746, 0.016932718, 0.059193194, -0.030208465, 0.055017084, 0.017992178, -0.03738014, -0.025945816, -0.014678248, -0.061842993, -0.05403493, 0.038735975, 0.037398897, -0.040583517, -1.5726604E-4, 0.057481714, 0.036556605, -0.07209968, 0.042478714, -0.07405206, -0.04803428, 0.05326335, 0.005948895, 0.008183897, -0.067359954, 0.013190404, -0.023243051, 0.005848715, -0.045537885, -0.06537675, -0.0010567552, -0.049555127, 0.031711202, 0.049994536, 0.0014036705, 0.05709916, -0.074974425, 0.05777523, -0.056353774, 0.0366046, -9.1138884E-4, -0.01136574, 0.020686924, -0.03493264, -0.019887032, -0.04125201, 0.0011434379, -0.045805257, 0.05492345, 0.037914935, -0.0068866694, 0.0700586, 0.019576827, 0.06328458, -0.02877804, 0.06815523, 0.026109615, 0.0053200303, 0.040597327, -0.04499323, 0.02028409, -0.052499976, 0.0058556153, -0.046615005, -0.050731596, 0.028909273, -0.0528901, 0.012064104, -0.021634607, -0.004823345, 0.0724464, 0.009034885, -0.059636984, 0.068795815, -0.042186692, -0.022796022, -0.013488048, -0.0065384167, -0.04857853, -0.005158813, 0.033236913, 0.06599587, 0.07829201, -0.0065758633, -0.079956666, -0.054056156, 0.007258575, -0.034734804, 0.016141474, 0.03640651, 0.068799645, -0.03186516, 0.067519315, 0.05989338, 0.022413785, -0.046525646, -0.039506234, 0.06958366, 0.04812492, -0.023925385, 0.067590185, -0.028885553, 0.040711008, 0.0021810567, -0.05374632, -0.04258714, 0.01816574, 0.014504662, -0.005177665, 0.011532399, 0.034898117, -0.028613826, 0.08201626, -0.062060867, 0.069242515, -0.04092269, -0.045337677, -0.018270545, 0.029586855, 1.2361804E-4, 0.05270713, -0.01733818, -0.062087953, 0.020911552, 0.04738667, 0.018445086, -0.04160204, -0.003966555, 0.06002211, 0.022653481, -0.02764452, 0.037684936, -0.06068153, -0.06917968, -0.046271186, -0.059772726, 0.06957759, -0.023644436, 0.020520458, -0.03821156, -0.020779949, -0.026383137, 0.049292937, -0.026254958, 0.03851247, -0.034047987, 0.021095434, -0.0699296, 0.014922992, 0.059938475, 0.057175398, -0.04349056, -0.064686395, -0.022337345, 0.017856244, -0.061104137, -0.06706235, -0.065362416, 0.022969855, 0.04146133, 0.0329102, 0.019364387, -0.033914283, -0.021117598, -0.03416202, -0.02375292, 0.020205628, 0.04724901, -0.048155405, 0.06300523, 0.013961362, -0.060581114, 0.062222913, 0.044537112, 0.008681333, 0.075337134, 0.062766865, 0.0693928, 0.019071871, -0.06911596, 0.032384045, -0.03991352, -0.010271653, -0.0070281546, -0.037073895, 0.0077965804, -0.07103153, -0.01426085, -0.044647694, -0.06254522, -0.011203259, 0.031102123, 0.02723312, 0.08264296, 0.0012837201, 0.065281674, -0.06519812, -0.03542286, 0.05948864, 0.067158915, -0.0395151, 0.08316632, 0.05960862, -0.027676957, -0.005886133, 0.02903593, -0.036520645, -0.0064423587, -0.030974308, 0.06171122, -0.021839924, 0.043872762, -0.01851387, 0.08074017, 0.05351517, 0.012799096, -0.07053844, 0.009415163, 0.042568035, 0.05859629, 0.065400444, -0.08040576, 0.067364976, 0.05444414, -0.03549483, 0.014568661, 0.023428673, -0.069013566, 0.04734027, -0.04987248, -0.058074336, 0.04448761, -0.07236713, -0.08308846, 0.048034064, -0.03416137, -0.0022346587, 0.05945348, 0.024278466, 0.0016940334, -0.030313503, 0.06945564, -0.017016914, 0.049727384, -0.015881976, 0.07249661, -0.073361754, -0.04144363, -0.03234163, 0.0050954893, -0.0054664677, 0.06051161, -0.06755618, 0.081802346, 0.038708415, -0.0831351, -0.059680764]]]                                                         |\n",
            "|#asmongold|2022-05-18T13:18:40.384981|@jordan_rehbock, Please stop one-man spamming. [warning]           |fossabot|[[document, 0, 55, @jordan_rehbock, Please stop one-man spamming. [warning], [sentence -> 0], []]]           |[[sentence_embeddings, 0, 55, @jordan_rehbock, Please stop one-man spamming. [warning], [sentence -> 0, token -> @jordan_rehbock, Please stop one-man spamming. [warning], pieceId -> -1, isWordStart -> true], [-0.014630289, -0.011535926, -0.017588696, 0.02498317, 0.02855247, -0.0032618977, -0.023719354, 0.03355789, -0.048916187, 0.07749563, 0.034122843, 0.049508717, -0.0629589, 0.0071840324, 0.040472873, 0.053054728, -0.023886962, -9.727025E-5, -0.009268307, -0.060293756, 0.040542718, -0.014442633, -0.012559537, -0.079470456, 0.0074377144, 0.008743392, -0.05069401, -0.08638365, 0.0864605, 0.031426877, 0.036985397, 0.020332498, 0.029232817, -0.0506739, -0.024726626, 0.02064713, 0.061022375, -0.016906409, -0.031669952, -0.03023047, -0.052675284, -0.009966875, 0.060522683, -0.008192882, -0.036823608, 0.04372271, -0.08501919, -7.239269E-4, 0.042395048, -0.032733932, 0.02056565, 4.1997817E-4, -0.051081885, 0.06895353, 0.07370873, 0.032231648, 0.011181125, -0.056869693, -0.06824578, -0.015796153, -0.010889842, -0.023962745, -0.03740517, -0.048326828, -0.088042825, -0.04784385, 0.050802868, 0.026042022, 0.052053954, -0.045479625, -0.0695397, -0.0720736, -0.0188515, -0.056907024, 0.046027638, 0.010117704, -0.014501281, 0.08170528, -0.002787735, -0.02802053, 0.0251723, -0.05772349, 0.011061007, 0.03138267, 0.02624223, -0.05472197, -0.053147625, -0.0797872, 0.03510711, -0.07177331, 0.061857983, 0.057896268, -0.07983513, 0.015459184, 0.01154423, -0.0561072, -0.002802252, 0.0016664066, -0.014282425, 0.07500592, 0.028239006, -0.038772065, -0.046236258, -0.010137377, 0.040473644, -0.012216055, 0.023730416, 0.033530857, -0.048038542, 0.034044113, 0.04401431, -0.02518408, -0.03907892, 0.032309975, 0.0045398837, 0.061648704, 0.036941234, -0.0846948, 0.05889891, -0.053023044, -0.02815185, 0.008321598, -0.0075713517, 0.021081993, 0.06794226, -0.072834365, -0.010952377, -0.018297195, 0.010951896, 0.0454785, -0.026551478, 0.04628649, -0.042696245, -0.0037402252, 0.0011937665, 0.054032315, 0.029226694, -0.01365589, 0.03589475, -0.032483313, -0.0703259, 0.00970443, -0.01963762, -0.050214197, 0.009935745, -0.0239005, -0.023090456, -0.04927123, -0.01557869, -0.011799988, -0.028304853, -0.08319302, 0.047322303, -0.013869553, 0.011387007, -0.036402855, 0.009046832, -0.041701414, -0.01889979, -0.011541314, -0.06611225, -0.071083665, 0.007253923, -0.017837947, -0.0046680253, -0.033107877, -0.035608675, -0.06335893, -0.03147084, 0.004745291, -0.04494846, 0.049140736, -0.044087358, 0.04266516, 0.04744684, 0.059360933, 0.0360154, 0.025441516, -0.06804542, 0.06971622, 0.0033459445, -0.05454002, 0.0034147908, -0.01502469, 0.012249497, -0.006665313, -0.014117062, -0.0083278045, -0.0708541, 0.024092918, -0.04343811, 0.016500648, 0.023784943, -0.07488343, -0.018545972, -0.05810117, 0.020191772, 0.03299428, 0.08432215, 0.016232206, -0.03420139, -0.058775168, -0.057579562, 0.08557661, -0.06301889, -0.0068702293, 0.0652095, -0.029169854, -0.008961074, -0.010742935, 0.062517226, 0.07264172, 0.01050948, -0.030053942, 0.029691521, -0.06896884, 0.02896776, 0.03224172, -0.00992301, 0.06359167, 0.013788808, -2.4847905E-4, -0.08559994, -0.056332737, -0.026013395, -0.0058671185, 0.021062866, 0.05135333, 0.0121902665, -0.0027691978, -0.020015847, -0.02305625, -0.040471166, -0.0014788241, 0.069675475, 0.020958304, 0.030483533, -0.02144492, -0.012532034, -0.046462487, -0.012660563, 0.0585043, 0.02982864, -0.032104198, -0.040827315, -0.029421138, 0.03405462, 0.035531197, -0.026870742, 0.018415015, 0.043414194, 0.005329947, -0.056014296, -0.04070744, 0.03891761, 0.06956123, 0.028399745, 0.0029357271, -0.011651472, 0.041740198, -0.05997223, -0.023903001, 0.034784175, -0.0011833106, -0.05289725, -0.009796553, -0.036950003, -0.037713777, -0.0365186, -0.0013374377, 0.0806632, 0.05917419, -0.06448588, -0.04492202, -0.08407785, 0.029743033, -0.046429522, 0.06996732, -0.079648376, -0.03407588, 0.042733654, 0.030949054, 0.0063997637, -0.057334702, -0.03028313, -0.04931225, -0.07147447, 0.055440336, 0.03042727, -0.08497919, 0.0052480195, -0.05754763, -0.062901646, -0.06890692, 0.016602527, -0.04832769, 0.0095096845, -0.04412637, -0.036374345, -0.038504533, 0.0026836328, -0.0339657, -0.069914445, 0.02112854, 0.07015262, 0.010510849, 0.023591425, 0.03916806, 0.07775688, 0.019255012, 0.02509688, -0.007829569, 0.010186455, 0.021797907, 0.027554207, 0.040491443, 0.034263812, -0.0254601, -0.0051469984, -0.018248707, -0.03047053, -0.0038315135, 0.06167074, -0.026596222, -0.025161246, 0.013484411, 0.0413889, -0.034435906, -0.029614436, -0.027648628, -0.025205852, -0.0013965641, -0.018638246, 0.024454795, 0.0147416545, 0.015106283, 0.0017067926, 0.074851416, 0.0032943657, -0.07915634, 0.054452114, -0.0059459666, 0.06317079, 0.037491716, 0.05216654, -0.034666367, 0.008246624, 0.041823804, -0.026053939, -0.05505446, -0.08086402, -0.04446217, 0.02587046, 0.027921095, 0.014734464, 0.08138738, -0.04783103, -0.04916659, 0.014522846, -9.072174E-4, -0.037863098, -0.029448263, 0.05786114, -0.032783326, 0.014072248, 8.143439E-4, 0.0070262277, 0.010784364, -0.02009739, 0.052155163, 0.024445297, -0.049740974, 0.03526065, 0.013771744, -0.06870175, 0.0906741, -0.04146507, -0.0522479, 0.04926877, 0.055757526, -0.04395007, -0.04550406, 0.02678168, -0.045911565, -0.04131593, 0.016576342, 0.031739082, -0.033137105, -0.07934273, -0.010464136, 0.07634872, 0.08540821, 0.02293298, 0.055489626, 0.040482845, 0.060347665, -0.050418798, 0.08451543, 0.037756767, 0.021987746, -7.758007E-4, 0.052231688, -0.07369368, -0.023273725, -0.0066045807, -0.048747562, -0.03931757, -0.009398912, -0.015810573, -0.02062717, 0.06530757, -0.08804551, -0.028586473, -0.025676802, -0.05096603, -0.07811071, 0.015319551, 0.045998998, 0.092748165, -0.035021313, 0.0060192444, 0.046646528, 0.02664082, -0.07111762, 0.043826077, 0.041026853, -0.047712766, -0.03217563, 0.036713514, -0.05049352, 0.04757789, 0.031346112, 0.076608926, 0.06295296, -0.050985515, 0.0012280702, -0.05898379, 0.018555287, -0.021883814, -0.063063204, 0.0043866453, -0.06457835, -0.0066242786, -0.017242692, 0.07704911, -0.009272283, 0.08395684, 0.0028516161, 0.06410071, 0.018634425, 0.01219827, -0.009523834, 0.07432728, 0.05371952, 0.066630505, -0.025074521, 0.082239814, 0.035719108, -0.035786677, 0.031447276, 3.120988E-4, 0.05674902, -0.032744512, -0.04897699, 0.019101871, -0.034823056, -0.020979645, -0.013988306, -0.022401296, -0.036226656, -0.026499584, -0.023436267, -0.04412052, 0.04020612, 0.088312015, 0.036591973, -0.08454821, 0.076344006, -0.03273148, -0.011346627, 0.014470104, 0.0012656043, -0.039675854, 0.017134132, -0.063035116, 0.035348173, -0.07838156, 0.007231788, -0.05573083, 0.017486436, 0.032136988, -0.034732923, -0.08620972, -0.047426052, 0.03397821, -0.03656747, 0.05096689, 0.020448487, 0.037910134, 0.04644213, 0.07884817, -0.06678423, -0.07639552, 0.043420725, -0.03107485, -0.075557254, 0.039066214, -0.04383094, 0.06586912, 0.0938019, -0.049410995, 0.07131237]]]                                                                |\n",
            "|#loltyler1|2022-05-18T13:18:47.414958|@QC369, ACCOUNTS: BIG TONKA T is currently Master I 113 LP         |fossabot|[[document, 0, 57, @QC369, ACCOUNTS: BIG TONKA T is currently Master I 113 LP, [sentence -> 0], []]]         |[[sentence_embeddings, 0, 57, @QC369, ACCOUNTS: BIG TONKA T is currently Master I 113 LP, [sentence -> 0, token -> @QC369, ACCOUNTS: BIG TONKA T is currently Master I 113 LP, pieceId -> -1, isWordStart -> true], [-0.021635737, 0.04956822, -0.02257954, -0.042729117, -0.05042515, -0.0016660261, 0.031274322, -4.98071E-5, -0.052456442, 0.01403451, 0.078137085, -0.025319405, -0.06352197, 0.074963234, 0.01159859, 0.0657473, -0.031942546, -0.017655969, -0.020178402, -0.07535496, 0.08378866, 0.009350503, -0.00902402, -0.036968995, -0.07092825, 0.051633272, -0.06549271, -0.022241114, -0.084491745, 0.08378631, -0.06506273, -0.032375585, -0.045435786, -0.03145386, 0.07794498, 0.076897845, 0.014408785, 0.03127086, 0.023930162, -0.08422196, -0.005397768, -0.060387745, -0.055439033, 0.035636727, 0.019523198, 0.040575013, -0.005753056, -5.991938E-4, 0.057575293, 0.06415099, -0.032626085, -0.07016411, 0.053477183, 0.07349758, 0.05287444, 0.023768982, 0.025028676, -0.0616735, -0.052784078, -0.024553148, 0.060771253, -0.0075389654, 0.08451826, 0.01447031, -0.0063668876, -0.05462164, 0.013398013, 0.076859005, -0.05165094, -0.010537992, -0.05305631, -0.038231175, -0.019126508, -0.0662198, 0.055271752, 0.052816283, -0.03446286, 0.03587501, -0.06880881, 0.014759871, 0.077238984, -0.016834993, -0.009366663, 0.074079834, -0.099596925, -0.017207677, 0.079273775, -0.038722243, 0.04303223, -0.03970356, 0.021239212, 0.028260015, -0.060643114, -0.048231553, -0.029985433, 0.024301883, -0.07282394, 0.023525005, -0.04321653, 0.07180343, 0.0867577, -0.050446313, -0.049737595, -0.007326143, 0.04500734, -0.0067075663, -0.062144298, 0.0692391, 0.06633353, 0.030863088, 0.0102032805, -0.024634486, -0.025421327, -0.01784151, -0.013558111, -0.047877133, 0.01099101, -0.07708889, -0.030823965, 0.057132773, -0.01620614, 0.07257482, 0.023750057, 0.069573626, 0.0069817672, -0.0011287156, 0.03134909, -0.056723174, -0.049801238, 0.03435575, -0.054347616, 4.593129E-4, 0.033977635, 0.010871092, -0.012905546, -0.021887911, 0.06513619, -0.005902518, 0.044828646, -0.0031399997, -0.0623075, -0.03830966, -0.053011302, -0.0036221985, -0.040702846, 0.063223556, 0.064555995, 0.07511812, -0.0015639397, 0.005756361, -0.046431325, -0.044671785, 0.033269394, -0.058880817, -0.019136056, -0.013617622, -0.020342251, -0.009856643, -0.024879482, 0.001720299, -0.04442559, 0.051965877, -0.005313079, -0.03142441, -0.0077440026, 0.052774746, 0.051379234, 0.026462581, -0.011773539, 0.03396448, 0.071389735, -0.019224476, 0.04462308, -0.06508114, 0.059180494, 0.01204454, -0.033482376, -0.055209707, -0.04443428, 0.059495524, -0.05586137, -0.030472921, 0.04303163, 0.028609011, 0.04108024, 0.048363484, 0.054089114, 0.011370243, 0.021145001, -0.021306252, 0.006742502, -0.017155664, -0.012042698, -0.047803186, 0.028455269, -0.04656521, 0.058446933, 0.026501706, 0.08548211, 0.075288594, -0.07022377, 0.07367106, -0.03177719, 0.052920587, 0.022227574, -0.004617504, -0.0028009736, -0.017441394, 0.023367694, 0.05103219, 0.04901204, -0.029549306, -0.0020404921, -0.039242074, 0.037517656, -0.04079141, -0.04025204, 0.029593764, -0.015181121, 0.046169046, -0.0026394485, 0.03882306, -0.038479846, -0.0032323264, 0.009687619, -0.012965815, 0.0049098623, 0.038246956, -0.03536339, 0.016807482, 0.03470978, -0.004527623, -3.621117E-4, -0.0045679524, 0.048142616, 0.03822144, 0.013921892, 0.07726686, -0.029088316, -0.0031952076, 0.066671595, -0.0066363364, 0.017446391, -0.037309464, -0.05368913, -0.09350319, 0.03065217, 0.03951193, 0.030254753, -0.031702902, -0.010502859, -0.036991972, -0.06365527, -0.030947505, -0.037694186, 0.027549027, -0.010216888, -0.018305553, -0.05473083, -0.032397997, 0.0010448373, 0.058517676, 0.03289426, -0.07372349, -0.0012914803, -0.04540777, 0.03586289, 0.06393511, 0.015780227, 0.028484989, -0.05609458, 0.08376367, -0.05950115, 0.020713273, -0.056853782, 0.057803717, 0.048687242, 0.024730865, -7.531985E-4, -0.05583713, -0.048886918, -0.0056334594, -0.006958675, 0.014849032, -0.09018655, -0.019890755, -0.07921727, 0.00919595, 0.0069706747, 0.05492897, -0.090646565, -0.03891863, -0.047556445, -0.023304468, -0.04193357, -0.050819658, 0.034528416, 0.0011917057, -0.031122563, 0.047533777, 0.02387776, -0.039796863, -0.05368351, 0.07041365, 0.043794814, -0.07024608, -0.06975485, -0.01674931, 0.072024934, -0.0021316358, 0.06606277, -0.014332324, -0.014542767, 0.024158757, 0.030158132, 0.035978213, 0.010460238, -0.04839719, 0.0048248717, -0.04795737, 0.0015571417, -0.030471187, -0.01522401, -0.070142426, 0.01712232, 0.046905365, 0.05668336, 0.012263439, -0.0083635, 0.042362493, 0.007933175, -0.032381885, 0.02011048, -0.081291, 0.03638895, -0.04414989, -0.046080314, 0.0448421, -0.005493515, -0.036755193, -0.049214154, -0.043245517, 0.054536693, 0.037676167, 0.07563368, 0.05808527, -0.020578677, 0.027459584, 0.06417841, -0.0155606605, 0.015277273, 0.04408789, 0.09012454, 0.030911937, -0.03436996, 0.042515658, 0.044308744, 0.06823714, 0.03171578, -0.055504516, -0.09110634, -0.04772297, -0.017647833, -0.0013536263, 0.0063237487, -0.060414672, -0.03235153, 0.056121454, 0.018991724, 0.05103804, -0.02896223, 0.044492304, -0.025580663, 0.06262975, 0.06043527, 0.001927195, -0.011640524, 0.04947896, -0.06978142, 0.07103296, -0.022747813, -0.05301428, 0.036883526, 0.03916188, 0.028318832, -0.038397513, 0.04789511, 0.03061123, -0.08765238, 0.03612536, 0.0046812645, -0.017107327, 0.021900902, -0.0018671566, 0.07797712, -0.05606641, -0.005896076, -0.010797801, 0.0067420737, -0.029659325, -0.008721846, 0.019974476, -0.07546004, 0.03033554, 0.021329729, -0.05899064, 0.034901954, 0.023367582, -0.042115517, 0.060268022, 0.026457448, -0.0227384, -0.040643483, -0.07373063, 0.06549553, 0.0010685584, 0.018388022, 0.0446779, -0.0041501843, 0.025451142, -0.0054965974, 4.3233897E-4, 0.05608615, -0.07932305, 0.044140775, 0.019917589, -0.04577519, 0.04341709, 0.010040433, -0.04652188, 0.016859153, -0.04496482, 0.022368433, 0.019180663, 0.05875818, 0.022252217, -0.009884075, 0.0729411, 0.053753335, 0.035474762, 0.014568654, -0.06008743, -0.0099857915, 0.0010097643, -3.9202176E-4, 0.019021587, 0.06752126, 0.020577827, 0.06662194, 0.00426348, 0.029985163, 0.047055356, 0.053894863, -0.03643755, 0.0035268022, 0.042966887, 0.033819295, 0.07854805, -0.07146333, -0.06430845, -0.02568922, 0.005838032, -0.03685017, -0.055321462, 0.023540687, -9.911788E-4, 0.0013602035, -0.040242292, -0.03133739, 0.04473671, 0.012200601, -0.07934065, -0.014894849, 0.07130766, 0.07879299, -0.028606875, -0.052283484, -0.0030086276, -0.06395232, 0.007746811, 0.053468004, 0.011635708, -0.0047921846, -0.03157967, -0.013280931, -0.0014369814, 0.06048167, 0.03807706, -0.056693792, -0.048019566, -0.01773807, 0.027233327, -0.06718251, 0.061885998, 0.026484046, 1.2280651E-4, 0.08874755, 0.015248209, 0.0069515225, 0.0120989755, 0.0027860315, -0.086185664, -0.029804014, 0.03408073, 0.03754737, -0.031789172, -5.4017786E-4, -0.06884041, 0.019279167, 0.052010547, -0.06299221, -0.03560669]]]                                           |\n",
            "|#loltyler1|2022-05-18T13:18:54.555684|@ggbrabinho, ACCOUNTS: BIG TONKA T is currently Master I 113 LP    |fossabot|[[document, 0, 62, @ggbrabinho, ACCOUNTS: BIG TONKA T is currently Master I 113 LP, [sentence -> 0], []]]    |[[sentence_embeddings, 0, 62, @ggbrabinho, ACCOUNTS: BIG TONKA T is currently Master I 113 LP, [sentence -> 0, token -> @ggbrabinho, ACCOUNTS: BIG TONKA T is currently Master I 113 LP, pieceId -> -1, isWordStart -> true], [-0.03865007, 0.060594086, -0.022494668, -0.03229725, -0.050137963, -0.02853211, 0.024229642, -0.006848208, -0.04844938, 0.028125014, 0.07200636, -0.02515152, -0.07809005, 0.08029744, 0.010940198, 0.05902711, -0.037936993, -0.0046293736, -0.002040536, -0.085484095, 0.07859298, 0.025798053, 0.0065223486, -0.034510773, -0.069095135, 0.05076032, -0.06697968, -0.025104854, -0.07725681, 0.085613206, -0.044985007, -0.018454898, -0.050935682, -0.05586751, 0.08209546, 0.07221675, 0.024802085, 0.026665505, 0.029668745, -0.07628613, -0.014323114, -0.038609967, -0.05419357, 0.05067727, 0.02649095, 0.038916413, -0.008716677, 0.0074003497, 0.044384323, 0.062206164, -0.0143859675, -0.064768374, 0.054632045, 0.055323005, 0.051489826, 0.025646275, 0.0025184802, -0.062413704, -0.06166913, -0.037204545, 0.06231346, -0.010442145, 0.0799579, 0.010861978, -0.013126419, -0.052246567, 0.024720032, 0.08139973, -0.06615461, -0.011261125, -0.06723013, -0.03548065, -0.025237286, -0.062998265, 0.058582153, 0.043656997, -0.0071016555, 0.03995959, -0.060282536, 0.028336937, 0.0694963, -0.013294045, -9.233608E-4, 0.073014215, -0.09528794, -0.01207196, 0.07862592, -0.05463972, 0.03408902, -0.040326115, 0.0067438604, 0.034368493, -0.059457846, -0.03747081, -0.008211987, 0.034784522, -0.06992074, 0.043959353, -0.03295178, 0.07337185, 0.083319455, -0.053838056, -0.047944997, -0.007718526, 0.045042124, -0.005251119, -0.055834305, 0.06700437, 0.0478256, 0.034112845, 0.024743808, -0.039397392, -0.006671032, -0.00616719, -0.02871937, -0.06698141, 0.004727574, -0.069472305, -0.04312918, 0.053049643, -0.008675373, 0.059612583, 0.027017651, 0.06788166, 0.026385121, -0.010332767, 0.027373573, -0.050602917, -0.05658065, 0.042698894, -0.043959454, -0.03533054, 0.021057509, 0.01364215, -0.030201219, -0.024071965, 0.054917008, -0.023235016, 0.054221258, -0.0025554798, -0.07194771, -0.04142947, -0.049021438, -0.030897709, -0.03765228, 0.058966216, 0.058996893, 0.07331079, -0.014407999, -0.016570901, -0.03571901, -0.045337863, 0.039756145, -0.046571176, -0.016782649, -0.009224784, -0.017561745, -0.014593022, -0.029089788, 0.0070018345, -0.042575352, 0.049777254, 0.0034025647, -0.04031802, 0.012712247, 0.049663354, 0.06058505, 0.030954044, -0.019982709, 0.056538973, 0.06626469, -0.011785092, 0.055569768, -0.0682133, 0.07522656, -0.0031737145, -0.032809645, -0.060938932, -0.0487601, 0.074851625, -0.0534429, -0.023970982, 0.046155892, 0.028241832, 0.043707773, 0.057738032, 0.04452802, 0.034984235, 0.0439671, -0.024957273, 0.009346059, -0.029531578, -0.02311778, -0.057455886, 0.025571128, -0.055375308, 0.05738002, 0.037468433, 0.09035182, 0.07882689, -0.06711146, 0.069362335, -0.014929237, 0.06005362, 0.012812586, 1.8711052E-4, -0.017563114, -0.011394986, 0.038313348, 0.049794238, 0.057326138, -0.02103451, 0.0116423825, -0.034652583, 0.025181543, -0.054630477, -0.03753152, 0.014724825, -0.018124316, 0.05517522, -0.01065358, 0.02564028, -0.04583608, -3.8923608E-4, 0.0021641667, 0.0030399263, -0.005298548, 0.011251787, -0.05828792, 0.035746545, 0.018827487, -0.01795059, 0.0065293335, 0.021482872, 0.041911956, 0.041099545, 1.6620557E-4, 0.06999896, -0.03682026, 0.0011019406, 0.0778372, -0.029881679, 0.03104027, -0.04748422, -0.04806148, -0.087804936, 0.011081415, 0.034587774, 0.023948727, -0.030791888, -0.010482877, -0.039619826, -0.0631253, -0.01008497, -0.020136522, 0.018995726, 0.0031511267, -0.0014918556, -0.06544445, -0.0338665, 0.021956105, 0.073788546, 0.037103828, -0.06963534, 0.003717483, -0.05485451, 0.03964414, 0.045814548, 0.007759442, 0.019348033, -0.04914326, 0.090783596, -0.055556975, 0.03317759, -0.05471408, 0.052302312, 0.039258324, 0.029162006, -0.0105019575, -0.04361584, -0.03077711, -0.0052101375, -3.8379696E-4, 0.006446197, -0.08366259, -0.009390924, -0.0830164, -0.018195393, 0.03554019, 0.057663374, -0.08756951, -0.028594917, -0.048121266, -0.027972909, -0.027764989, -0.029672943, 0.023343801, -0.010908094, -0.023327148, 0.05425154, 0.032769736, -0.045201648, -0.04540534, 0.058236416, 0.05954891, -0.06585305, -0.055324588, -0.009992804, 0.07893883, 0.009025734, 0.065380305, -0.025036221, -0.027633676, 0.040407762, 0.024769785, 0.045211717, 0.012466153, -0.054554775, -0.0033652913, -0.040485453, 0.011990297, -0.04398618, -0.023500606, -0.0735231, 0.015287548, 0.023486633, 0.054093737, -0.011537731, -0.013023408, 0.03280981, -0.016210908, -0.053699333, 0.042031378, -0.08712023, 0.041181024, -0.039885517, -0.041499395, 0.0444509, 0.01366843, -0.03238073, -0.04120901, -0.036853485, 0.04052351, 0.03994103, 0.07155426, 0.05508758, -0.0366769, 0.03233969, 0.05350395, -0.010470201, 0.024129035, 0.033859633, 0.0828936, 0.029186664, -0.046129443, 0.044641048, 0.032810308, 0.068131715, 0.01555176, -0.054899234, -0.0912289, -0.06700966, -0.035023104, 0.011318718, 0.0037175815, -0.065096356, -0.026856696, 0.063344926, 0.015468939, 0.051238857, -0.030747151, 0.040874183, -0.019341705, 0.061001528, 0.06266092, -0.0010119239, -0.008082037, 0.034670442, -0.060674835, 0.064705916, -0.030058092, -0.0505497, 0.03248832, 0.021210773, 0.017876958, -0.03559541, 0.048032537, 0.024280403, -0.08510101, 0.043843787, 0.019391887, -0.0011755138, 0.018243352, -0.0066773226, 0.06282889, -0.050144903, -0.022979228, -0.00898768, 0.005607092, -0.037083626, -0.0044893036, -0.0012644324, -0.06799143, 0.0040185456, -0.009225306, -0.06177568, 0.031032268, 0.025435302, -0.045748096, 0.06592447, 0.030309835, -0.02322827, -0.031808745, -0.07481561, 0.056117665, -0.00838301, -0.0029040917, 0.05597781, -0.010638422, 0.03485537, -0.014461277, 0.0010994809, 0.0545338, -0.08477017, 0.04863412, 0.007225862, -0.034156498, 0.029358607, 0.02720017, -0.04106352, 0.014739474, -0.045982316, 0.032622367, 7.82551E-4, 0.05652459, 0.030427521, 9.767599E-4, 0.07386457, 0.048688337, 0.019968364, -0.0040050796, -0.040299207, -0.011206195, 0.0041750143, 0.011315769, 0.033920944, 0.052447185, 0.017641563, 0.069232255, 0.0038922145, 0.04249654, 0.048572585, 0.050456338, -0.03827175, 0.020224761, 0.046290167, 0.040290155, 0.080716066, -0.07132178, -0.0617744, 0.003740195, 3.8052636E-4, -0.03179709, -0.031386543, 0.034394506, -0.016430467, -0.0027927302, -0.045615908, -0.03163706, 0.030746887, 0.011229005, -0.07997374, -0.014262785, 0.07621606, 0.078257926, -0.024115637, -0.051981233, 0.02214225, -0.06401132, 0.029730894, 0.06261359, -0.01051422, -0.0014546177, -0.024299996, -0.005853799, -0.01045071, 0.061753385, 0.025136646, -0.062305775, -0.04186592, -0.029069511, 0.021542614, -0.07037432, 0.06805553, 0.030601813, 0.0023905654, 0.09177659, 0.005870211, 0.018153062, 0.02495189, 0.020843904, -0.080423, -0.013549988, 0.010975106, 0.033434868, -0.035323992, -4.437323E-4, -0.07056382, 0.032921176, 0.07282835, -0.06404899, -0.029345175]]]                                   |\n",
            "+----------+--------------------------+-------------------------------------------------------------------+--------+-------------------------------------------------------------------------------------------------------------+---------------------------------------------------------------------------------------------------------------------------------------------------------------------------------------------------------------------------------------------------------------------------------------------------------------------------------------------------------------------------------------------------------------------------------------------------------------------------------------------------------------------------------------------------------------------------------------------------------------------------------------------------------------------------------------------------------------------------------------------------------------------------------------------------------------------------------------------------------------------------------------------------------------------------------------------------------------------------------------------------------------------------------------------------------------------------------------------------------------------------------------------------------------------------------------------------------------------------------------------------------------------------------------------------------------------------------------------------------------------------------------------------------------------------------------------------------------------------------------------------------------------------------------------------------------------------------------------------------------------------------------------------------------------------------------------------------------------------------------------------------------------------------------------------------------------------------------------------------------------------------------------------------------------------------------------------------------------------------------------------------------------------------------------------------------------------------------------------------------------------------------------------------------------------------------------------------------------------------------------------------------------------------------------------------------------------------------------------------------------------------------------------------------------------------------------------------------------------------------------------------------------------------------------------------------------------------------------------------------------------------------------------------------------------------------------------------------------------------------------------------------------------------------------------------------------------------------------------------------------------------------------------------------------------------------------------------------------------------------------------------------------------------------------------------------------------------------------------------------------------------------------------------------------------------------------------------------------------------------------------------------------------------------------------------------------------------------------------------------------------------------------------------------------------------------------------------------------------------------------------------------------------------------------------------------------------------------------------------------------------------------------------------------------------------------------------------------------------------------------------------------------------------------------------------------------------------------------------------------------------------------------------------------------------------------------------------------------------------------------------------------------------------------------------------------------------------------------------------------------------------------------------------------------------------------------------------------------------------------------------------------------------------------------------------------------------------------------------------------------------------------------------------------------------------------------------------------------------------------------------------------------------------------------------------------------------------------------------------------------------------------------------------------------------------------------------------------------------------------------------------------------------------------------------------------------------------------------------------------------------------------------------------------------------------------------------------------------------------------------------------------------------------------------------------------------------------------------------------------------------------------------------------------------------------------------------------------------------------------------------------------------------------------------------------------------------------------------------------------------------------------------------------------------------------------------------------------------------------------------------------------------------------------------------------------------------------------------------------------------------------------------------------------------------------------------------------------------------------------------------------------------------------------------------------------------------------------------------------------------------------------------------------------------------------------------------------------------------------------------------------------------------------------------------------------------------------------------------------------------------------------------------------------------------------------------------------------------------------------------------------------------------------------------------------------------------------------------------------------------------------------------------------------------------------------------------------------------------------------------------------------------------------------------------------------------------------------------------------------------------------------------------------------------------------------------------------------------------------------------------------------------------------------------------------------------------------------------------------------------------------------------------------------------------------------------------------------------------------------------------------------------------------------------------------------------------------------------------------------------------------------------------------------------------------------------------------------------------------------------------------------------------------------------------------------+\n",
            "only showing top 20 rows\n",
            "\n"
          ]
        }
      ]
    },
    {
      "cell_type": "code",
      "source": [
        "df_nobot=df[df.username!= \"fossabot\"]\n",
        "trainDataset2, valDataset2, testDataset2 = df_nobot.randomSplit([0.6, 0.2, 0.2])"
      ],
      "metadata": {
        "id": "-3atTrQFmE9I"
      },
      "execution_count": 152,
      "outputs": []
    },
    {
      "cell_type": "code",
      "source": [
        "tokenizer = Tokenizer(inputCol=\"message\", outputCol=\"words\")\n",
        "wordsData = tokenizer.transform(df[df.username=='fossabot'])\n",
        "words=wordsData.toPandas\n",
        "wordsData.words.str[0]\n",
        "#words.groupby(['words']).count()"
      ],
      "metadata": {
        "colab": {
          "base_uri": "https://localhost:8080/"
        },
        "id": "cc582SMNqsIj",
        "outputId": "30ddb889-f027-4466-f83e-80736ab80f63"
      },
      "execution_count": 67,
      "outputs": [
        {
          "output_type": "execute_result",
          "data": {
            "text/plain": [
              "Column<b'words[str][0]'>"
            ]
          },
          "metadata": {},
          "execution_count": 67
        }
      ]
    },
    {
      "cell_type": "code",
      "source": [
        "use_pipelineModel = use_clf_pipeline.fit(trainDataset)"
      ],
      "metadata": {
        "id": "HYnUSUK__cnf"
      },
      "execution_count": 162,
      "outputs": []
    },
    {
      "cell_type": "code",
      "source": [
        "!cd ~/annotator_logs && ls -l"
      ],
      "metadata": {
        "id": "QclFvctsAvca",
        "colab": {
          "base_uri": "https://localhost:8080/"
        },
        "outputId": "0837e9cd-b10c-432b-d874-3773c8e86d72"
      },
      "execution_count": 93,
      "outputs": [
        {
          "output_type": "stream",
          "name": "stdout",
          "text": [
            "total 4\n",
            "-rw-r--r-- 1 root root 451 May 29 15:18 ClassifierDLApproach_60604633014e.log\n"
          ]
        }
      ]
    },
    {
      "cell_type": "code",
      "source": [
        "!cat ~/annotator_logs/ClassifierDLApproach_a1f443bd0f1f.log"
      ],
      "metadata": {
        "colab": {
          "base_uri": "https://localhost:8080/"
        },
        "id": "NjIEC1-RA970",
        "outputId": "0430f055-aef6-489a-b132-2811db440fc1"
      },
      "execution_count": 94,
      "outputs": [
        {
          "output_type": "stream",
          "name": "stdout",
          "text": [
            "cat: /root/annotator_logs/ClassifierDLApproach_a1f443bd0f1f.log: No such file or directory\n"
          ]
        }
      ]
    },
    {
      "cell_type": "code",
      "source": [
        "preds = use_pipelineModel.transform(valDataset)\n",
        "preds.show()"
      ],
      "metadata": {
        "colab": {
          "base_uri": "https://localhost:8080/"
        },
        "id": "hKuX3KwGAF6e",
        "outputId": "753e4729-2b47-402c-a446-5322b867bf63"
      },
      "execution_count": 163,
      "outputs": [
        {
          "output_type": "stream",
          "name": "stdout",
          "text": [
            "+----------+--------------------+--------------------+---------------+--------------------+--------------------+--------------------+\n",
            "|   channel|            datetime|             message|       username|            document| sentence_embeddings|               class|\n",
            "+----------+--------------------+--------------------+---------------+--------------------+--------------------+--------------------+\n",
            "|#asmongold|2022-05-18T13:16:...|there's actually ...|  hotchocolate_|[[document, 0, 64...|[[sentence_embedd...|[[category, 0, 64...|\n",
            "|#asmongold|2022-05-18T13:16:...|         Magnum pint|        reset_3|[[document, 0, 10...|[[sentence_embedd...|[[category, 0, 10...|\n",
            "|#asmongold|2022-05-18T13:16:...|            MEGAPINT|     reaver2828|[[document, 0, 7,...|[[sentence_embedd...|[[category, 0, 7,...|\n",
            "|#asmongold|2022-05-18T13:16:...|The picture of th...|      takykardi|[[document, 0, 45...|[[sentence_embedd...|[[category, 0, 45...|\n",
            "|#asmongold|2022-05-18T13:16:...|            Asmun :D| good_playlists|[[document, 0, 7,...|[[sentence_embedd...|[[category, 0, 7,...|\n",
            "|#asmongold|2022-05-18T13:16:...|             AUUGHHH|johnnyodbytolog|[[document, 0, 6,...|[[sentence_embedd...|[[category, 0, 6,...|\n",
            "|#asmongold|2022-05-18T13:16:...|          MEGA glass|inconsistence44|[[document, 0, 9,...|[[sentence_embedd...|[[category, 0, 9,...|\n",
            "|#asmongold|2022-05-18T13:16:...|           GIGA PINT|      acolina87|[[document, 0, 8,...|[[sentence_embedd...|[[category, 0, 8,...|\n",
            "|#asmongold|2022-05-18T13:16:...|'Would've' 'Don't...|  savagepringle|[[document, 0, 44...|[[sentence_embedd...|[[category, 0, 44...|\n",
            "|#asmongold|2022-05-18T13:16:...|    MEGA BOTTLE KEKW|     razorwire8|[[document, 0, 15...|[[sentence_embedd...|[[category, 0, 15...|\n",
            "|#asmongold|2022-05-18T13:16:...|           MEGA PINT|          04x15|[[document, 0, 8,...|[[sentence_embedd...|[[category, 0, 8,...|\n",
            "|#asmongold|2022-05-18T13:16:...|Did your lawn end...|    pongegaming|[[document, 0, 35...|[[sentence_embedd...|[[category, 0, 35...|\n",
            "|#asmongold|2022-05-18T13:16:...|         UUH POOGERS|        teffogs|[[document, 0, 10...|[[sentence_embedd...|[[category, 0, 10...|\n",
            "|#asmongold|2022-05-18T13:16:...|Why is Camille an...|     reallyrick|[[document, 0, 34...|[[sentence_embedd...|[[category, 0, 34...|\n",
            "|#asmongold|2022-05-18T13:16:...|Dies  Dies  Dies ...|        impzoka|[[document, 0, 87...|[[sentence_embedd...|[[category, 0, 87...|\n",
            "|#asmongold|2022-05-18T13:16:...|            MEGAPINT|       okfallen|[[document, 0, 7,...|[[sentence_embedd...|[[category, 0, 7,...|\n",
            "|#asmongold|2022-05-18T13:16:...|Lol why is she so...|   carnivalslug|[[document, 0, 27...|[[sentence_embedd...|[[category, 0, 27...|\n",
            "|#asmongold|2022-05-18T13:16:...|          PauseChamp|        frag2me|[[document, 0, 9,...|[[sentence_embedd...|[[category, 0, 9,...|\n",
            "|#asmongold|2022-05-18T13:16:...|                 #AD| camefromnuttin|[[document, 0, 2,...|[[sentence_embedd...|[[category, 0, 2,...|\n",
            "|#asmongold|2022-05-18T13:16:...|          KEKL JONNY|        c9spawn|[[document, 0, 9,...|[[sentence_embedd...|[[category, 0, 9,...|\n",
            "+----------+--------------------+--------------------+---------------+--------------------+--------------------+--------------------+\n",
            "only showing top 20 rows\n",
            "\n"
          ]
        }
      ]
    },
    {
      "cell_type": "code",
      "source": [
        "from pyspark.sql.functions import col\n",
        "preds.take(1)[0][6]"
      ],
      "metadata": {
        "colab": {
          "base_uri": "https://localhost:8080/"
        },
        "id": "sAu1q8WgjuUm",
        "outputId": "878107a7-03ab-4f6d-8afe-558367b6f47a"
      },
      "execution_count": 96,
      "outputs": [
        {
          "output_type": "execute_result",
          "data": {
            "text/plain": [
              "[Row(annotatorType='category', begin=0, end=64, result='#asmongold', metadata={'sentence': '0', '#asmongold': '1.0', '#loltyler1': '1.0592332E-29'}, embeddings=[])]"
            ]
          },
          "metadata": {},
          "execution_count": 96
        }
      ]
    },
    {
      "cell_type": "code",
      "source": [
        "from sklearn.metrics import classification_report, accuracy_score\n",
        "\n",
        "finDf = preds.select('class.metadata.#asmongold').toPandas()"
      ],
      "metadata": {
        "id": "lcsh__5xAyOR",
        "colab": {
          "base_uri": "https://localhost:8080/",
          "height": 1000
        },
        "outputId": "75e903ae-71f7-47fa-8d96-3b8801a5e7ed"
      },
      "execution_count": 97,
      "outputs": [
        {
          "output_type": "error",
          "ename": "AnalysisException",
          "evalue": "ignored",
          "traceback": [
            "\u001b[0;31m---------------------------------------------------------------------------\u001b[0m",
            "\u001b[0;31mAnalysisException\u001b[0m                         Traceback (most recent call last)",
            "\u001b[0;32m<ipython-input-97-165932cba75c>\u001b[0m in \u001b[0;36m<module>\u001b[0;34m()\u001b[0m\n\u001b[1;32m      1\u001b[0m \u001b[0;32mfrom\u001b[0m \u001b[0msklearn\u001b[0m\u001b[0;34m.\u001b[0m\u001b[0mmetrics\u001b[0m \u001b[0;32mimport\u001b[0m \u001b[0mclassification_report\u001b[0m\u001b[0;34m,\u001b[0m \u001b[0maccuracy_score\u001b[0m\u001b[0;34m\u001b[0m\u001b[0;34m\u001b[0m\u001b[0m\n\u001b[1;32m      2\u001b[0m \u001b[0;34m\u001b[0m\u001b[0m\n\u001b[0;32m----> 3\u001b[0;31m \u001b[0mfinDf\u001b[0m \u001b[0;34m=\u001b[0m \u001b[0mpreds\u001b[0m\u001b[0;34m.\u001b[0m\u001b[0mselect\u001b[0m\u001b[0;34m(\u001b[0m\u001b[0;34m'class.metadata.#asmongold'\u001b[0m\u001b[0;34m)\u001b[0m\u001b[0;34m.\u001b[0m\u001b[0mtoPandas\u001b[0m\u001b[0;34m(\u001b[0m\u001b[0;34m)\u001b[0m\u001b[0;34m\u001b[0m\u001b[0;34m\u001b[0m\u001b[0m\n\u001b[0m",
            "\u001b[0;32m/usr/local/lib/python3.7/dist-packages/pyspark/sql/dataframe.py\u001b[0m in \u001b[0;36mselect\u001b[0;34m(self, *cols)\u001b[0m\n\u001b[1;32m   1419\u001b[0m         \u001b[0;34m[\u001b[0m\u001b[0mRow\u001b[0m\u001b[0;34m(\u001b[0m\u001b[0mname\u001b[0m\u001b[0;34m=\u001b[0m\u001b[0;34mu'Alice'\u001b[0m\u001b[0;34m,\u001b[0m \u001b[0mage\u001b[0m\u001b[0;34m=\u001b[0m\u001b[0;36m12\u001b[0m\u001b[0;34m)\u001b[0m\u001b[0;34m,\u001b[0m \u001b[0mRow\u001b[0m\u001b[0;34m(\u001b[0m\u001b[0mname\u001b[0m\u001b[0;34m=\u001b[0m\u001b[0;34mu'Bob'\u001b[0m\u001b[0;34m,\u001b[0m \u001b[0mage\u001b[0m\u001b[0;34m=\u001b[0m\u001b[0;36m15\u001b[0m\u001b[0;34m)\u001b[0m\u001b[0;34m]\u001b[0m\u001b[0;34m\u001b[0m\u001b[0;34m\u001b[0m\u001b[0m\n\u001b[1;32m   1420\u001b[0m         \"\"\"\n\u001b[0;32m-> 1421\u001b[0;31m         \u001b[0mjdf\u001b[0m \u001b[0;34m=\u001b[0m \u001b[0mself\u001b[0m\u001b[0;34m.\u001b[0m\u001b[0m_jdf\u001b[0m\u001b[0;34m.\u001b[0m\u001b[0mselect\u001b[0m\u001b[0;34m(\u001b[0m\u001b[0mself\u001b[0m\u001b[0;34m.\u001b[0m\u001b[0m_jcols\u001b[0m\u001b[0;34m(\u001b[0m\u001b[0;34m*\u001b[0m\u001b[0mcols\u001b[0m\u001b[0;34m)\u001b[0m\u001b[0;34m)\u001b[0m\u001b[0;34m\u001b[0m\u001b[0;34m\u001b[0m\u001b[0m\n\u001b[0m\u001b[1;32m   1422\u001b[0m         \u001b[0;32mreturn\u001b[0m \u001b[0mDataFrame\u001b[0m\u001b[0;34m(\u001b[0m\u001b[0mjdf\u001b[0m\u001b[0;34m,\u001b[0m \u001b[0mself\u001b[0m\u001b[0;34m.\u001b[0m\u001b[0msql_ctx\u001b[0m\u001b[0;34m)\u001b[0m\u001b[0;34m\u001b[0m\u001b[0;34m\u001b[0m\u001b[0m\n\u001b[1;32m   1423\u001b[0m \u001b[0;34m\u001b[0m\u001b[0m\n",
            "\u001b[0;32m/usr/local/lib/python3.7/dist-packages/py4j/java_gateway.py\u001b[0m in \u001b[0;36m__call__\u001b[0;34m(self, *args)\u001b[0m\n\u001b[1;32m   1303\u001b[0m         \u001b[0manswer\u001b[0m \u001b[0;34m=\u001b[0m \u001b[0mself\u001b[0m\u001b[0;34m.\u001b[0m\u001b[0mgateway_client\u001b[0m\u001b[0;34m.\u001b[0m\u001b[0msend_command\u001b[0m\u001b[0;34m(\u001b[0m\u001b[0mcommand\u001b[0m\u001b[0;34m)\u001b[0m\u001b[0;34m\u001b[0m\u001b[0;34m\u001b[0m\u001b[0m\n\u001b[1;32m   1304\u001b[0m         return_value = get_return_value(\n\u001b[0;32m-> 1305\u001b[0;31m             answer, self.gateway_client, self.target_id, self.name)\n\u001b[0m\u001b[1;32m   1306\u001b[0m \u001b[0;34m\u001b[0m\u001b[0m\n\u001b[1;32m   1307\u001b[0m         \u001b[0;32mfor\u001b[0m \u001b[0mtemp_arg\u001b[0m \u001b[0;32min\u001b[0m \u001b[0mtemp_args\u001b[0m\u001b[0;34m:\u001b[0m\u001b[0;34m\u001b[0m\u001b[0;34m\u001b[0m\u001b[0m\n",
            "\u001b[0;32m/usr/local/lib/python3.7/dist-packages/pyspark/sql/utils.py\u001b[0m in \u001b[0;36mdeco\u001b[0;34m(*a, **kw)\u001b[0m\n\u001b[1;32m    132\u001b[0m                 \u001b[0;31m# Hide where the exception came from that shows a non-Pythonic\u001b[0m\u001b[0;34m\u001b[0m\u001b[0;34m\u001b[0m\u001b[0;34m\u001b[0m\u001b[0m\n\u001b[1;32m    133\u001b[0m                 \u001b[0;31m# JVM exception message.\u001b[0m\u001b[0;34m\u001b[0m\u001b[0;34m\u001b[0m\u001b[0;34m\u001b[0m\u001b[0m\n\u001b[0;32m--> 134\u001b[0;31m                 \u001b[0mraise_from\u001b[0m\u001b[0;34m(\u001b[0m\u001b[0mconverted\u001b[0m\u001b[0;34m)\u001b[0m\u001b[0;34m\u001b[0m\u001b[0;34m\u001b[0m\u001b[0m\n\u001b[0m\u001b[1;32m    135\u001b[0m             \u001b[0;32melse\u001b[0m\u001b[0;34m:\u001b[0m\u001b[0;34m\u001b[0m\u001b[0;34m\u001b[0m\u001b[0m\n\u001b[1;32m    136\u001b[0m                 \u001b[0;32mraise\u001b[0m\u001b[0;34m\u001b[0m\u001b[0;34m\u001b[0m\u001b[0m\n",
            "\u001b[0;32m/usr/local/lib/python3.7/dist-packages/pyspark/sql/utils.py\u001b[0m in \u001b[0;36mraise_from\u001b[0;34m(e)\u001b[0m\n",
            "\u001b[0;31mAnalysisException\u001b[0m: cannot resolve '`class`.`metadata`['#asmongold']' due to data type mismatch: argument 2 requires integral type, however, ''#asmongold'' is of string type.;;\n'Project [class#301.metadata[#asmongold] AS #asmongold#346]\n+- Project [channel#244, datetime#252, message#260, username#268, document#276, sentence_embeddings#292, UDF(array(sentence_embeddings#292)) AS class#301]\n   +- Project [channel#244, datetime#252, message#260, username#268, document#276, sentence_embeddings#284 AS sentence_embeddings#292]\n      +- Project [channel#244, datetime#252, message#260, username#268, document#276, sentence_embeddings#242 AS sentence_embeddings#284]\n         +- Project [channel#244, datetime#252, message#260, username#268, document#241 AS document#276, sentence_embeddings#242]\n            +- Project [channel#244, datetime#252, message#260, username#240 AS username#268, document#241, sentence_embeddings#242]\n               +- Project [channel#244, datetime#252, message#239 AS message#260, username#240, document#241, sentence_embeddings#242]\n                  +- Project [channel#244, datetime#238 AS datetime#252, message#239, username#240, document#241, sentence_embeddings#242]\n                     +- Project [channel#237 AS channel#244, datetime#238, message#239, username#240, document#241, sentence_embeddings#242]\n                        +- SerializeFromObject [if (assertnotnull(input[0, org.apache.spark.sql.Row, true]).isNullAt) null else staticinvoke(class org.apache.spark.unsafe.types.UTF8String, StringType, fromString, validateexternaltype(getexternalrowfield(assertnotnull(input[0, org.apache.spark.sql.Row, true]), 0, channel), StringType), true, false) AS channel#237, if (assertnotnull(input[0, org.apache.spark.sql.Row, true]).isNullAt) null else staticinvoke(class org.apache.spark.unsafe.types.UTF8String, StringType, fromString, validateexternaltype(getexternalrowfield(assertnotnull(input[0, org.apache.spark.sql.Row, true]), 1, datetime), StringType), true, false) AS datetime#238, if (assertnotnull(input[0, org.apache.spark.sql.Row, true]).isNullAt) null else staticinvoke(class org.apache.spark.unsafe.types.UTF8String, StringType, fromString, validateexternaltype(getexternalrowfield(assertnotnull(input[0, org.apache.spark.sql.Row, true]), 2, message), StringType), true, false) AS message#239, if (assertnotnull(input[0, org.apache.spark.sql.Row, true]).isNullAt) null else staticinvoke(class org.apache.spark.unsafe.types.UTF8String, StringType, fromString, validateexternaltype(getexternalrowfield(assertnotnull(input[0, org.apache.spark.sql.Row, true]), 3, username), StringType), true, false) AS username#240, if (assertnotnull(input[0, org.apache.spark.sql.Row, true]).isNullAt) null else mapobjects(lambdavariable(MapObject, ObjectType(class java.lang.Object), true, 145), if (isnu...\n                           +- MapPartitions com.johnsnowlabs.nlp.AnnotatorModel$$Lambda$3215/0x00000008414ac040@49f84ee, obj#236: org.apache.spark.sql.Row\n                              +- DeserializeToObject createexternalrow(channel#45.toString, datetime#46.toString, message#47.toString, username#48.toString, staticinvoke(class scala.collection.mutable.WrappedArray$, ObjectType(interface scala.collection.Seq), make, mapobjects(lambdavariable(MapObject, StructField(annotatorType,StringType,true), StructField(begin,IntegerType,false), StructField(end,IntegerType,false), StructField(result,StringType,true), StructField(metadata,MapType(StringType,StringType,true),true), StructField(embeddings,ArrayType(FloatType,false),true), true, 141), if (isnull(lambdavariable(MapObject, StructField(annotatorType,StringType,true), StructField(begin,IntegerType,false), StructField(end,IntegerType,false), StructField(result,StringType,true), StructField(metadata,MapType(StringType,StringType,true),true), StructField(embeddings,ArrayType(FloatType,false),true), true, 141))) null else createexternalrow(if (lambdavariable(MapObject, StructField(annotatorType,StringType,true), StructField(begin,IntegerType,false), StructField(end,IntegerType,false), StructField(result,StringType,true), StructField(metadata,MapType(StringType,StringType,true),true), StructField(embeddings,ArrayType(FloatType,false),true), true, 141).isNullAt) null else lambdavariable(MapObject, StructField(annotatorType,StringType,true), StructField(begin,IntegerType,false), StructField(end,IntegerType,false), StructField(result,StringType,true), StructField(metadata,MapType(Strin...\n                                 +- Project [channel#45, datetime#46, message#47, username#48, UDF(message#47) AS document#223]\n                                    +- Sample 0.6, 0.8, false, 4444680319359989619\n                                       +- Sort [channel#45 ASC NULLS FIRST, datetime#46 ASC NULLS FIRST, message#47 ASC NULLS FIRST, username#48 ASC NULLS FIRST], false\n                                          +- Project [_c0#16 AS channel#45, _c1#17 AS datetime#46, _c2#18 AS message#47, _c3#19 AS username#48]\n                                             +- Relation[_c0#16,_c1#17,_c2#18,_c3#19] csv\n"
          ]
        }
      ]
    },
    {
      "cell_type": "code",
      "source": [
        "finDf = preds.select('channel', 'message', 'class.result').toPandas()"
      ],
      "metadata": {
        "id": "E-Q_mpBlBvwL"
      },
      "execution_count": 164,
      "outputs": []
    },
    {
      "cell_type": "code",
      "source": [
        "finDf"
      ],
      "metadata": {
        "id": "tDIG5C7Nk8c5",
        "colab": {
          "base_uri": "https://localhost:8080/",
          "height": 423
        },
        "outputId": "50dee755-eb67-4f06-d61b-5f34569d6577"
      },
      "execution_count": 165,
      "outputs": [
        {
          "output_type": "execute_result",
          "data": {
            "text/plain": [
              "         channel                                            message  \\\n",
              "0     #asmongold  there's actually a bunch of weird ass names fo...   \n",
              "1     #asmongold                                        Magnum pint   \n",
              "2     #asmongold                                           MEGAPINT   \n",
              "3     #asmongold     The picture of the bed did not have glass on??   \n",
              "4     #asmongold                                           Asmun :D   \n",
              "...          ...                                                ...   \n",
              "8441  #loltyler1                                         BigBrother   \n",
              "8442  #loltyler1                                    NICE FLASH KEKW   \n",
              "8443  #loltyler1                   ㅋㅋㅋㅋㅋㅋㅋㅋㅋㅋㅋㅋㅋㅋㅋㅋㅋㅋㅋㅋㅋㅋㅋㅋㅋㅋㅋㅋㅋㅋㅋㅋ   \n",
              "8444  #loltyler1                                     IDC BigBrother   \n",
              "8445  #loltyler1                                              GAMBA   \n",
              "\n",
              "            result  \n",
              "0     [#asmongold]  \n",
              "1     [#asmongold]  \n",
              "2     [#asmongold]  \n",
              "3     [#asmongold]  \n",
              "4     [#loltyler1]  \n",
              "...            ...  \n",
              "8441  [#loltyler1]  \n",
              "8442  [#loltyler1]  \n",
              "8443  [#asmongold]  \n",
              "8444  [#loltyler1]  \n",
              "8445  [#loltyler1]  \n",
              "\n",
              "[8446 rows x 3 columns]"
            ],
            "text/html": [
              "\n",
              "  <div id=\"df-1ade8191-76db-4f69-8c2b-c092a81307b5\">\n",
              "    <div class=\"colab-df-container\">\n",
              "      <div>\n",
              "<style scoped>\n",
              "    .dataframe tbody tr th:only-of-type {\n",
              "        vertical-align: middle;\n",
              "    }\n",
              "\n",
              "    .dataframe tbody tr th {\n",
              "        vertical-align: top;\n",
              "    }\n",
              "\n",
              "    .dataframe thead th {\n",
              "        text-align: right;\n",
              "    }\n",
              "</style>\n",
              "<table border=\"1\" class=\"dataframe\">\n",
              "  <thead>\n",
              "    <tr style=\"text-align: right;\">\n",
              "      <th></th>\n",
              "      <th>channel</th>\n",
              "      <th>message</th>\n",
              "      <th>result</th>\n",
              "    </tr>\n",
              "  </thead>\n",
              "  <tbody>\n",
              "    <tr>\n",
              "      <th>0</th>\n",
              "      <td>#asmongold</td>\n",
              "      <td>there's actually a bunch of weird ass names fo...</td>\n",
              "      <td>[#asmongold]</td>\n",
              "    </tr>\n",
              "    <tr>\n",
              "      <th>1</th>\n",
              "      <td>#asmongold</td>\n",
              "      <td>Magnum pint</td>\n",
              "      <td>[#asmongold]</td>\n",
              "    </tr>\n",
              "    <tr>\n",
              "      <th>2</th>\n",
              "      <td>#asmongold</td>\n",
              "      <td>MEGAPINT</td>\n",
              "      <td>[#asmongold]</td>\n",
              "    </tr>\n",
              "    <tr>\n",
              "      <th>3</th>\n",
              "      <td>#asmongold</td>\n",
              "      <td>The picture of the bed did not have glass on??</td>\n",
              "      <td>[#asmongold]</td>\n",
              "    </tr>\n",
              "    <tr>\n",
              "      <th>4</th>\n",
              "      <td>#asmongold</td>\n",
              "      <td>Asmun :D</td>\n",
              "      <td>[#loltyler1]</td>\n",
              "    </tr>\n",
              "    <tr>\n",
              "      <th>...</th>\n",
              "      <td>...</td>\n",
              "      <td>...</td>\n",
              "      <td>...</td>\n",
              "    </tr>\n",
              "    <tr>\n",
              "      <th>8441</th>\n",
              "      <td>#loltyler1</td>\n",
              "      <td>BigBrother</td>\n",
              "      <td>[#loltyler1]</td>\n",
              "    </tr>\n",
              "    <tr>\n",
              "      <th>8442</th>\n",
              "      <td>#loltyler1</td>\n",
              "      <td>NICE FLASH KEKW</td>\n",
              "      <td>[#loltyler1]</td>\n",
              "    </tr>\n",
              "    <tr>\n",
              "      <th>8443</th>\n",
              "      <td>#loltyler1</td>\n",
              "      <td>ㅋㅋㅋㅋㅋㅋㅋㅋㅋㅋㅋㅋㅋㅋㅋㅋㅋㅋㅋㅋㅋㅋㅋㅋㅋㅋㅋㅋㅋㅋㅋㅋ</td>\n",
              "      <td>[#asmongold]</td>\n",
              "    </tr>\n",
              "    <tr>\n",
              "      <th>8444</th>\n",
              "      <td>#loltyler1</td>\n",
              "      <td>IDC BigBrother</td>\n",
              "      <td>[#loltyler1]</td>\n",
              "    </tr>\n",
              "    <tr>\n",
              "      <th>8445</th>\n",
              "      <td>#loltyler1</td>\n",
              "      <td>GAMBA</td>\n",
              "      <td>[#loltyler1]</td>\n",
              "    </tr>\n",
              "  </tbody>\n",
              "</table>\n",
              "<p>8446 rows × 3 columns</p>\n",
              "</div>\n",
              "      <button class=\"colab-df-convert\" onclick=\"convertToInteractive('df-1ade8191-76db-4f69-8c2b-c092a81307b5')\"\n",
              "              title=\"Convert this dataframe to an interactive table.\"\n",
              "              style=\"display:none;\">\n",
              "        \n",
              "  <svg xmlns=\"http://www.w3.org/2000/svg\" height=\"24px\"viewBox=\"0 0 24 24\"\n",
              "       width=\"24px\">\n",
              "    <path d=\"M0 0h24v24H0V0z\" fill=\"none\"/>\n",
              "    <path d=\"M18.56 5.44l.94 2.06.94-2.06 2.06-.94-2.06-.94-.94-2.06-.94 2.06-2.06.94zm-11 1L8.5 8.5l.94-2.06 2.06-.94-2.06-.94L8.5 2.5l-.94 2.06-2.06.94zm10 10l.94 2.06.94-2.06 2.06-.94-2.06-.94-.94-2.06-.94 2.06-2.06.94z\"/><path d=\"M17.41 7.96l-1.37-1.37c-.4-.4-.92-.59-1.43-.59-.52 0-1.04.2-1.43.59L10.3 9.45l-7.72 7.72c-.78.78-.78 2.05 0 2.83L4 21.41c.39.39.9.59 1.41.59.51 0 1.02-.2 1.41-.59l7.78-7.78 2.81-2.81c.8-.78.8-2.07 0-2.86zM5.41 20L4 18.59l7.72-7.72 1.47 1.35L5.41 20z\"/>\n",
              "  </svg>\n",
              "      </button>\n",
              "      \n",
              "  <style>\n",
              "    .colab-df-container {\n",
              "      display:flex;\n",
              "      flex-wrap:wrap;\n",
              "      gap: 12px;\n",
              "    }\n",
              "\n",
              "    .colab-df-convert {\n",
              "      background-color: #E8F0FE;\n",
              "      border: none;\n",
              "      border-radius: 50%;\n",
              "      cursor: pointer;\n",
              "      display: none;\n",
              "      fill: #1967D2;\n",
              "      height: 32px;\n",
              "      padding: 0 0 0 0;\n",
              "      width: 32px;\n",
              "    }\n",
              "\n",
              "    .colab-df-convert:hover {\n",
              "      background-color: #E2EBFA;\n",
              "      box-shadow: 0px 1px 2px rgba(60, 64, 67, 0.3), 0px 1px 3px 1px rgba(60, 64, 67, 0.15);\n",
              "      fill: #174EA6;\n",
              "    }\n",
              "\n",
              "    [theme=dark] .colab-df-convert {\n",
              "      background-color: #3B4455;\n",
              "      fill: #D2E3FC;\n",
              "    }\n",
              "\n",
              "    [theme=dark] .colab-df-convert:hover {\n",
              "      background-color: #434B5C;\n",
              "      box-shadow: 0px 1px 3px 1px rgba(0, 0, 0, 0.15);\n",
              "      filter: drop-shadow(0px 1px 2px rgba(0, 0, 0, 0.3));\n",
              "      fill: #FFFFFF;\n",
              "    }\n",
              "  </style>\n",
              "\n",
              "      <script>\n",
              "        const buttonEl =\n",
              "          document.querySelector('#df-1ade8191-76db-4f69-8c2b-c092a81307b5 button.colab-df-convert');\n",
              "        buttonEl.style.display =\n",
              "          google.colab.kernel.accessAllowed ? 'block' : 'none';\n",
              "\n",
              "        async function convertToInteractive(key) {\n",
              "          const element = document.querySelector('#df-1ade8191-76db-4f69-8c2b-c092a81307b5');\n",
              "          const dataTable =\n",
              "            await google.colab.kernel.invokeFunction('convertToInteractive',\n",
              "                                                     [key], {});\n",
              "          if (!dataTable) return;\n",
              "\n",
              "          const docLinkHtml = 'Like what you see? Visit the ' +\n",
              "            '<a target=\"_blank\" href=https://colab.research.google.com/notebooks/data_table.ipynb>data table notebook</a>'\n",
              "            + ' to learn more about interactive tables.';\n",
              "          element.innerHTML = '';\n",
              "          dataTable['output_type'] = 'display_data';\n",
              "          await google.colab.output.renderOutput(dataTable, element);\n",
              "          const docLink = document.createElement('div');\n",
              "          docLink.innerHTML = docLinkHtml;\n",
              "          element.appendChild(docLink);\n",
              "        }\n",
              "      </script>\n",
              "    </div>\n",
              "  </div>\n",
              "  "
            ]
          },
          "metadata": {},
          "execution_count": 165
        }
      ]
    },
    {
      "cell_type": "code",
      "source": [
        "finDf['result'] = finDf.result.str[0]\n",
        "finDf['result'].unique()"
      ],
      "metadata": {
        "id": "gIQmR4wrCB0_",
        "colab": {
          "base_uri": "https://localhost:8080/"
        },
        "outputId": "9cc2efd7-f458-4eff-a6e1-7c5a80e55005"
      },
      "execution_count": 166,
      "outputs": [
        {
          "output_type": "execute_result",
          "data": {
            "text/plain": [
              "array(['#asmongold', '#loltyler1', nan], dtype=object)"
            ]
          },
          "metadata": {},
          "execution_count": 166
        }
      ]
    },
    {
      "cell_type": "code",
      "source": [
        "finDf"
      ],
      "metadata": {
        "colab": {
          "base_uri": "https://localhost:8080/",
          "height": 423
        },
        "id": "hyyzq0oflKpb",
        "outputId": "8f281f47-debc-48a4-af76-79cf524ebf02"
      },
      "execution_count": 167,
      "outputs": [
        {
          "output_type": "execute_result",
          "data": {
            "text/plain": [
              "         channel                                            message  \\\n",
              "0     #asmongold  there's actually a bunch of weird ass names fo...   \n",
              "1     #asmongold                                        Magnum pint   \n",
              "2     #asmongold                                           MEGAPINT   \n",
              "3     #asmongold     The picture of the bed did not have glass on??   \n",
              "4     #asmongold                                           Asmun :D   \n",
              "...          ...                                                ...   \n",
              "8441  #loltyler1                                         BigBrother   \n",
              "8442  #loltyler1                                    NICE FLASH KEKW   \n",
              "8443  #loltyler1                   ㅋㅋㅋㅋㅋㅋㅋㅋㅋㅋㅋㅋㅋㅋㅋㅋㅋㅋㅋㅋㅋㅋㅋㅋㅋㅋㅋㅋㅋㅋㅋㅋ   \n",
              "8444  #loltyler1                                     IDC BigBrother   \n",
              "8445  #loltyler1                                              GAMBA   \n",
              "\n",
              "          result  \n",
              "0     #asmongold  \n",
              "1     #asmongold  \n",
              "2     #asmongold  \n",
              "3     #asmongold  \n",
              "4     #loltyler1  \n",
              "...          ...  \n",
              "8441  #loltyler1  \n",
              "8442  #loltyler1  \n",
              "8443  #asmongold  \n",
              "8444  #loltyler1  \n",
              "8445  #loltyler1  \n",
              "\n",
              "[8446 rows x 3 columns]"
            ],
            "text/html": [
              "\n",
              "  <div id=\"df-15323081-6def-4d52-8da5-70388040dda1\">\n",
              "    <div class=\"colab-df-container\">\n",
              "      <div>\n",
              "<style scoped>\n",
              "    .dataframe tbody tr th:only-of-type {\n",
              "        vertical-align: middle;\n",
              "    }\n",
              "\n",
              "    .dataframe tbody tr th {\n",
              "        vertical-align: top;\n",
              "    }\n",
              "\n",
              "    .dataframe thead th {\n",
              "        text-align: right;\n",
              "    }\n",
              "</style>\n",
              "<table border=\"1\" class=\"dataframe\">\n",
              "  <thead>\n",
              "    <tr style=\"text-align: right;\">\n",
              "      <th></th>\n",
              "      <th>channel</th>\n",
              "      <th>message</th>\n",
              "      <th>result</th>\n",
              "    </tr>\n",
              "  </thead>\n",
              "  <tbody>\n",
              "    <tr>\n",
              "      <th>0</th>\n",
              "      <td>#asmongold</td>\n",
              "      <td>there's actually a bunch of weird ass names fo...</td>\n",
              "      <td>#asmongold</td>\n",
              "    </tr>\n",
              "    <tr>\n",
              "      <th>1</th>\n",
              "      <td>#asmongold</td>\n",
              "      <td>Magnum pint</td>\n",
              "      <td>#asmongold</td>\n",
              "    </tr>\n",
              "    <tr>\n",
              "      <th>2</th>\n",
              "      <td>#asmongold</td>\n",
              "      <td>MEGAPINT</td>\n",
              "      <td>#asmongold</td>\n",
              "    </tr>\n",
              "    <tr>\n",
              "      <th>3</th>\n",
              "      <td>#asmongold</td>\n",
              "      <td>The picture of the bed did not have glass on??</td>\n",
              "      <td>#asmongold</td>\n",
              "    </tr>\n",
              "    <tr>\n",
              "      <th>4</th>\n",
              "      <td>#asmongold</td>\n",
              "      <td>Asmun :D</td>\n",
              "      <td>#loltyler1</td>\n",
              "    </tr>\n",
              "    <tr>\n",
              "      <th>...</th>\n",
              "      <td>...</td>\n",
              "      <td>...</td>\n",
              "      <td>...</td>\n",
              "    </tr>\n",
              "    <tr>\n",
              "      <th>8441</th>\n",
              "      <td>#loltyler1</td>\n",
              "      <td>BigBrother</td>\n",
              "      <td>#loltyler1</td>\n",
              "    </tr>\n",
              "    <tr>\n",
              "      <th>8442</th>\n",
              "      <td>#loltyler1</td>\n",
              "      <td>NICE FLASH KEKW</td>\n",
              "      <td>#loltyler1</td>\n",
              "    </tr>\n",
              "    <tr>\n",
              "      <th>8443</th>\n",
              "      <td>#loltyler1</td>\n",
              "      <td>ㅋㅋㅋㅋㅋㅋㅋㅋㅋㅋㅋㅋㅋㅋㅋㅋㅋㅋㅋㅋㅋㅋㅋㅋㅋㅋㅋㅋㅋㅋㅋㅋ</td>\n",
              "      <td>#asmongold</td>\n",
              "    </tr>\n",
              "    <tr>\n",
              "      <th>8444</th>\n",
              "      <td>#loltyler1</td>\n",
              "      <td>IDC BigBrother</td>\n",
              "      <td>#loltyler1</td>\n",
              "    </tr>\n",
              "    <tr>\n",
              "      <th>8445</th>\n",
              "      <td>#loltyler1</td>\n",
              "      <td>GAMBA</td>\n",
              "      <td>#loltyler1</td>\n",
              "    </tr>\n",
              "  </tbody>\n",
              "</table>\n",
              "<p>8446 rows × 3 columns</p>\n",
              "</div>\n",
              "      <button class=\"colab-df-convert\" onclick=\"convertToInteractive('df-15323081-6def-4d52-8da5-70388040dda1')\"\n",
              "              title=\"Convert this dataframe to an interactive table.\"\n",
              "              style=\"display:none;\">\n",
              "        \n",
              "  <svg xmlns=\"http://www.w3.org/2000/svg\" height=\"24px\"viewBox=\"0 0 24 24\"\n",
              "       width=\"24px\">\n",
              "    <path d=\"M0 0h24v24H0V0z\" fill=\"none\"/>\n",
              "    <path d=\"M18.56 5.44l.94 2.06.94-2.06 2.06-.94-2.06-.94-.94-2.06-.94 2.06-2.06.94zm-11 1L8.5 8.5l.94-2.06 2.06-.94-2.06-.94L8.5 2.5l-.94 2.06-2.06.94zm10 10l.94 2.06.94-2.06 2.06-.94-2.06-.94-.94-2.06-.94 2.06-2.06.94z\"/><path d=\"M17.41 7.96l-1.37-1.37c-.4-.4-.92-.59-1.43-.59-.52 0-1.04.2-1.43.59L10.3 9.45l-7.72 7.72c-.78.78-.78 2.05 0 2.83L4 21.41c.39.39.9.59 1.41.59.51 0 1.02-.2 1.41-.59l7.78-7.78 2.81-2.81c.8-.78.8-2.07 0-2.86zM5.41 20L4 18.59l7.72-7.72 1.47 1.35L5.41 20z\"/>\n",
              "  </svg>\n",
              "      </button>\n",
              "      \n",
              "  <style>\n",
              "    .colab-df-container {\n",
              "      display:flex;\n",
              "      flex-wrap:wrap;\n",
              "      gap: 12px;\n",
              "    }\n",
              "\n",
              "    .colab-df-convert {\n",
              "      background-color: #E8F0FE;\n",
              "      border: none;\n",
              "      border-radius: 50%;\n",
              "      cursor: pointer;\n",
              "      display: none;\n",
              "      fill: #1967D2;\n",
              "      height: 32px;\n",
              "      padding: 0 0 0 0;\n",
              "      width: 32px;\n",
              "    }\n",
              "\n",
              "    .colab-df-convert:hover {\n",
              "      background-color: #E2EBFA;\n",
              "      box-shadow: 0px 1px 2px rgba(60, 64, 67, 0.3), 0px 1px 3px 1px rgba(60, 64, 67, 0.15);\n",
              "      fill: #174EA6;\n",
              "    }\n",
              "\n",
              "    [theme=dark] .colab-df-convert {\n",
              "      background-color: #3B4455;\n",
              "      fill: #D2E3FC;\n",
              "    }\n",
              "\n",
              "    [theme=dark] .colab-df-convert:hover {\n",
              "      background-color: #434B5C;\n",
              "      box-shadow: 0px 1px 3px 1px rgba(0, 0, 0, 0.15);\n",
              "      filter: drop-shadow(0px 1px 2px rgba(0, 0, 0, 0.3));\n",
              "      fill: #FFFFFF;\n",
              "    }\n",
              "  </style>\n",
              "\n",
              "      <script>\n",
              "        const buttonEl =\n",
              "          document.querySelector('#df-15323081-6def-4d52-8da5-70388040dda1 button.colab-df-convert');\n",
              "        buttonEl.style.display =\n",
              "          google.colab.kernel.accessAllowed ? 'block' : 'none';\n",
              "\n",
              "        async function convertToInteractive(key) {\n",
              "          const element = document.querySelector('#df-15323081-6def-4d52-8da5-70388040dda1');\n",
              "          const dataTable =\n",
              "            await google.colab.kernel.invokeFunction('convertToInteractive',\n",
              "                                                     [key], {});\n",
              "          if (!dataTable) return;\n",
              "\n",
              "          const docLinkHtml = 'Like what you see? Visit the ' +\n",
              "            '<a target=\"_blank\" href=https://colab.research.google.com/notebooks/data_table.ipynb>data table notebook</a>'\n",
              "            + ' to learn more about interactive tables.';\n",
              "          element.innerHTML = '';\n",
              "          dataTable['output_type'] = 'display_data';\n",
              "          await google.colab.output.renderOutput(dataTable, element);\n",
              "          const docLink = document.createElement('div');\n",
              "          docLink.innerHTML = docLinkHtml;\n",
              "          element.appendChild(docLink);\n",
              "        }\n",
              "      </script>\n",
              "    </div>\n",
              "  </div>\n",
              "  "
            ]
          },
          "metadata": {},
          "execution_count": 167
        }
      ]
    },
    {
      "cell_type": "code",
      "source": [
        "from sklearn.preprocessing import LabelEncoder\n",
        "\n",
        "le = LabelEncoder()\n",
        "chanSeries = le.fit_transform(finDf['channel'])\n",
        "resSeries = le.fit_transform(finDf['result'])"
      ],
      "metadata": {
        "id": "_9-zM6MkXzpb"
      },
      "execution_count": 168,
      "outputs": []
    },
    {
      "cell_type": "code",
      "source": [
        "resSeries"
      ],
      "metadata": {
        "colab": {
          "base_uri": "https://localhost:8080/"
        },
        "id": "73DByIccZ8z_",
        "outputId": "1b5dce3a-bd1e-453a-8619-c6888f4f7191"
      },
      "execution_count": 108,
      "outputs": [
        {
          "output_type": "execute_result",
          "data": {
            "text/plain": [
              "array([0, 0, 0, ..., 0, 1, 1])"
            ]
          },
          "metadata": {},
          "execution_count": 108
        }
      ]
    },
    {
      "cell_type": "code",
      "source": [
        "from sklearn.metrics import classification_report\n",
        "\n",
        "print(classification_report(chanSeries, resSeries))"
      ],
      "metadata": {
        "id": "2vS9lVd2CNF8",
        "colab": {
          "base_uri": "https://localhost:8080/"
        },
        "outputId": "8dcb37d5-024c-4f92-80f4-089cc6eef548"
      },
      "execution_count": 169,
      "outputs": [
        {
          "output_type": "stream",
          "name": "stdout",
          "text": [
            "              precision    recall  f1-score   support\n",
            "\n",
            "           0       0.87      0.96      0.91      6298\n",
            "           1       0.84      0.58      0.69      2148\n",
            "           2       0.00      0.00      0.00         0\n",
            "\n",
            "    accuracy                           0.86      8446\n",
            "   macro avg       0.57      0.51      0.53      8446\n",
            "weighted avg       0.86      0.86      0.86      8446\n",
            "\n"
          ]
        },
        {
          "output_type": "stream",
          "name": "stderr",
          "text": [
            "/usr/local/lib/python3.7/dist-packages/sklearn/metrics/_classification.py:1318: UndefinedMetricWarning: Recall and F-score are ill-defined and being set to 0.0 in labels with no true samples. Use `zero_division` parameter to control this behavior.\n",
            "  _warn_prf(average, modifier, msg_start, len(result))\n",
            "/usr/local/lib/python3.7/dist-packages/sklearn/metrics/_classification.py:1318: UndefinedMetricWarning: Recall and F-score are ill-defined and being set to 0.0 in labels with no true samples. Use `zero_division` parameter to control this behavior.\n",
            "  _warn_prf(average, modifier, msg_start, len(result))\n",
            "/usr/local/lib/python3.7/dist-packages/sklearn/metrics/_classification.py:1318: UndefinedMetricWarning: Recall and F-score are ill-defined and being set to 0.0 in labels with no true samples. Use `zero_division` parameter to control this behavior.\n",
            "  _warn_prf(average, modifier, msg_start, len(result))\n"
          ]
        }
      ]
    },
    {
      "cell_type": "code",
      "source": [
        "from sklearn.metrics import confusion_matrix\n",
        "\n",
        "print(confusion_matrix(chanSeries, resSeries))"
      ],
      "metadata": {
        "id": "JeLN_4M0Dzdf",
        "colab": {
          "base_uri": "https://localhost:8080/"
        },
        "outputId": "ac2ddc3f-db90-46c7-ce37-46f58f1cdf88"
      },
      "execution_count": 170,
      "outputs": [
        {
          "output_type": "stream",
          "name": "stdout",
          "text": [
            "[[6046  237   15]\n",
            " [ 896 1252    0]\n",
            " [   0    0    0]]\n"
          ]
        }
      ]
    },
    {
      "cell_type": "code",
      "source": [
        "from google.colab import drive\n",
        "drive.mount('/content/gdrive')"
      ],
      "metadata": {
        "colab": {
          "base_uri": "https://localhost:8080/"
        },
        "id": "xQupvQMhe114",
        "outputId": "a3d9dacc-85a0-4138-964d-372accbb8d4e"
      },
      "execution_count": null,
      "outputs": [
        {
          "output_type": "stream",
          "name": "stdout",
          "text": [
            "Mounted at /content/gdrive\n"
          ]
        }
      ]
    },
    {
      "cell_type": "code",
      "source": [
        ""
      ],
      "metadata": {
        "id": "DSwztITeh_1H"
      },
      "execution_count": null,
      "outputs": []
    },
    {
      "cell_type": "code",
      "source": [
        "# save best model to specified path\n",
        "mPath =  \"/content/gdrive/MyDrive/AA/\"\n",
        "use_clf_pipeline.write().overwrite().save(mPath)"
      ],
      "metadata": {
        "id": "xG7DAlleEBZd"
      },
      "execution_count": null,
      "outputs": []
    },
    {
      "cell_type": "code",
      "source": [
        "!zip -r /content/drive/MyDrive/ /content/Folder_To_Zip"
      ],
      "metadata": {
        "colab": {
          "base_uri": "https://localhost:8080/"
        },
        "id": "deYdOi1MgZrW",
        "outputId": "d3efc2d4-47a8-411b-c6a1-3837ad8e06a3"
      },
      "execution_count": null,
      "outputs": [
        {
          "output_type": "stream",
          "name": "stdout",
          "text": [
            "shell-init: error retrieving current directory: getcwd: cannot access parent directories: No such file or directory\n",
            "\tzip warning: name not matched: /content/Folder_To_Zip\n",
            "\n",
            "zip error: Nothing to do! (try: zip -r /content/drive/MyDrive/ . -i /content/Folder_To_Zip)\n"
          ]
        }
      ]
    },
    {
      "cell_type": "code",
      "source": [
        "\n",
        "# read pickled model via pipeline api\n",
        "from pyspark.ml.pipeline import PipelineModel\n",
        "persistedModel = PipelineModel.load(mPath)\n",
        "\n",
        "# predict\n",
        "predictionsDF = persistedModel.transform(test_df)"
      ],
      "metadata": {
        "id": "p8-reXk7fx1f"
      },
      "execution_count": null,
      "outputs": []
    },
    {
      "cell_type": "code",
      "source": [
        "# actual content is inside description column\n",
        "document = DocumentAssembler()\\\n",
        "    .setInputCol(\"message\")\\\n",
        "    .setOutputCol(\"document\")\n",
        "    \n",
        "# we can also use sentence detector here \n",
        "# if we want to train on and get predictions for each sentence\n",
        "# downloading pretrained embeddings\n",
        "use = UniversalSentenceEncoder.pretrained()\\\n",
        " .setInputCols([\"document\"])\\\n",
        " .setOutputCol(\"sentence_embeddings\")  \n",
        "\n",
        "tokenizer = Tokenizer(inputCol=\"username\", outputCol=\"user\")\n",
        "# wordsData = tokenizer.transform(dfSmall)\n",
        "\n",
        "hashingTF = HashingTF(inputCol=tokenizer.getOutputCol(), outputCol=\"rawFeatures\")\n",
        "# featurizedData = hashingTF.transform(wordsData)\n",
        "# alternatively, CountVectorizer can also be used to get term frequency vectors\n",
        "\n",
        "idf = IDF(inputCol=hashingTF.getOutputCol(), outputCol=\"features\")\n",
        "\n",
        "#idfModel = idf.fit(featurizedData)\n",
        "#rescaledData = idfModel.transform(featurizedData)\n",
        "\n",
        "# the classes/labels/categories are in category column\n",
        "classsifierdl = ClassifierDLApproach()\\\n",
        "  .setInputCols([\"sentence_embeddings\"])\\\n",
        "  .setOutputCol(\"class\")\\\n",
        "  .setLabelColumn(\"channel\")\\\n",
        "  .setMaxEpochs(5)\\\n",
        "  .setEnableOutputLogs(True)\n",
        "\n",
        "indexer = StringIndexer(inputCol=\"channel\", outputCol=\"channelIndex\")\n",
        "\n",
        "assembler = VectorAssembler(inputCols=[\"features\"],outputCol = \"finFeatures\")\n",
        "\n",
        "lr = LogisticRegression(maxIter=10, regParam=0.3, elasticNetParam=0.8, labelCol='channelIndex', featuresCol='finFeatures')\n",
        "\n",
        "use_clf_pipeline = Pipeline(\n",
        "    stages = [\n",
        "        document,\n",
        "        use,\n",
        "        tokenizer,\n",
        "        hashingTF,\n",
        "        idf,\n",
        "        classsifierdl,\n",
        "        indexer,\n",
        "        assembler,\n",
        "        lr\n",
        "    ])"
      ],
      "metadata": {
        "id": "mOQrR4c3wc35",
        "colab": {
          "base_uri": "https://localhost:8080/"
        },
        "outputId": "977686ff-a9fd-4e21-e51a-439a06acbe58"
      },
      "execution_count": null,
      "outputs": [
        {
          "output_type": "stream",
          "name": "stdout",
          "text": [
            "tfhub_use download started this may take some time.\n",
            "Approximate size to download 923.7 MB\n",
            "[OK!]\n"
          ]
        }
      ]
    },
    {
      "cell_type": "code",
      "source": [
        "use_pipelineModel = use_clf_pipeline.fit(trainDataset)"
      ],
      "metadata": {
        "id": "MVVsRfSHwdFP"
      },
      "execution_count": null,
      "outputs": []
    },
    {
      "cell_type": "code",
      "source": [
        "preds = use_pipelineModel.transform(valDataset)\n",
        "preds.show()"
      ],
      "metadata": {
        "id": "sj046qZXwmJh",
        "colab": {
          "base_uri": "https://localhost:8080/"
        },
        "outputId": "7b4a4588-6381-4194-b8db-849a8dd1a4a8"
      },
      "execution_count": null,
      "outputs": [
        {
          "output_type": "stream",
          "name": "stdout",
          "text": [
            "+----------+--------------------+--------------------+---------------+--------------------+--------------------+-----------------+--------------------+--------------------+--------------------+------------+--------------------+--------------------+--------------------+----------+\n",
            "|   channel|            datetime|             message|       username|            document| sentence_embeddings|             user|         rawFeatures|            features|               class|channelIndex|         finFeatures|       rawPrediction|         probability|prediction|\n",
            "+----------+--------------------+--------------------+---------------+--------------------+--------------------+-----------------+--------------------+--------------------+--------------------+------------+--------------------+--------------------+--------------------+----------+\n",
            "|#asmongold|2022-05-18T13:16:...|there's actually ...|  hotchocolate_|[[document, 0, 64...|[[sentence_embedd...|  [hotchocolate_]|(262144,[239999],...|(262144,[239999],...|[[category, 0, 64...|         0.0|(262144,[239999],...|[1.05245145922380...|[0.74124536871041...|       0.0|\n",
            "|#asmongold|2022-05-18T13:16:...|            MEGAPINT|     reaver2828|[[document, 0, 7,...|[[sentence_embedd...|     [reaver2828]|(262144,[94026],[...|(262144,[94026],[...|[[category, 0, 7,...|         0.0|(262144,[94026],[...|[1.05245145922380...|[0.74124536871041...|       0.0|\n",
            "|#asmongold|2022-05-18T13:16:...|why do these peop...|    moochiebone|[[document, 0, 56...|[[sentence_embedd...|    [moochiebone]|(262144,[223252],...|(262144,[223252],...|[[category, 0, 56...|         0.0|(262144,[223252],...|[1.05245145922380...|[0.74124536871041...|       0.0|\n",
            "|#asmongold|2022-05-18T13:16:...|RED RED WIIIIIIII...|     voodoo2408|[[document, 0, 26...|[[sentence_embedd...|     [voodoo2408]|(262144,[66774],[...|(262144,[66774],[...|[[category, 0, 26...|         0.0|(262144,[66774],[...|[1.05245145922380...|[0.74124536871041...|       0.0|\n",
            "|#asmongold|2022-05-18T13:16:...| It was a mega pint?|      yorozuman|[[document, 0, 18...|[[sentence_embedd...|      [yorozuman]|(262144,[252237],...|(262144,[252237],...|[[category, 0, 18...|         0.0|(262144,[252237],...|[1.05245145922380...|[0.74124536871041...|       0.0|\n",
            "|#asmongold|2022-05-18T13:16:...|MEGAPINT a megabo...|     hustlerr23|[[document, 0, 21...|[[sentence_embedd...|     [hustlerr23]|(262144,[171701],...|(262144,[171701],...|[[category, 0, 21...|         0.0|(262144,[171701],...|[1.05245145922380...|[0.74124536871041...|       0.0|\n",
            "|#asmongold|2022-05-18T13:16:...|           GIGA PINT|      acolina87|[[document, 0, 8,...|[[sentence_embedd...|      [acolina87]|(262144,[139462],...|(262144,[139462],...|[[category, 0, 8,...|         0.0|(262144,[139462],...|[1.05245145922380...|[0.74124536871041...|       0.0|\n",
            "|#asmongold|2022-05-18T13:16:...|        GOT HER KEKW|      katzkatzz|[[document, 0, 11...|[[sentence_embedd...|      [katzkatzz]|(262144,[173820],...|(262144,[173820],...|[[category, 0, 11...|         0.0|(262144,[173820],...|[1.05245145922380...|[0.74124536871041...|       0.0|\n",
            "|#asmongold|2022-05-18T13:16:...|            OMEGALUL|     cobrasxp21|[[document, 0, 7,...|[[sentence_embedd...|     [cobrasxp21]|(262144,[125515],...|(262144,[125515],...|[[category, 0, 7,...|         0.0|(262144,[125515],...|[1.05245145922380...|[0.74124536871041...|       0.0|\n",
            "|#asmongold|2022-05-18T13:16:...|Did your lawn end...|    pongegaming|[[document, 0, 35...|[[sentence_embedd...|    [pongegaming]|(262144,[184683],...|(262144,[184683],...|[[category, 0, 35...|         0.0|(262144,[184683],...|[1.05245145922380...|[0.74124536871041...|       0.0|\n",
            "|#asmongold|2022-05-18T13:16:...|       a jar of wine|       dcmp1234|[[document, 0, 12...|[[sentence_embedd...|       [dcmp1234]|(262144,[60387],[...|(262144,[60387],[...|[[category, 0, 12...|         0.0|(262144,[60387],[...|[1.05245145922380...|[0.74124536871041...|       0.0|\n",
            "|#asmongold|2022-05-18T13:16:...|                lmao|       bradeeno|[[document, 0, 3,...|[[sentence_embedd...|       [bradeeno]|(262144,[152479],...|(262144,[152479],...|[[category, 0, 3,...|         0.0|(262144,[152479],...|[1.05245145922380...|[0.74124536871041...|       0.0|\n",
            "|#asmongold|2022-05-18T13:16:...|            MEGAPINT|      sjowsduck|[[document, 0, 7,...|[[sentence_embedd...|      [sjowsduck]|(262144,[216696],...|(262144,[216696],...|[[category, 0, 7,...|         0.0|(262144,[216696],...|[1.05245145922380...|[0.74124536871041...|       0.0|\n",
            "|#asmongold|2022-05-18T13:16:...|         Cra Cra Cra|      snikeys40|[[document, 0, 10...|[[sentence_embedd...|      [snikeys40]|(262144,[67198],[...|(262144,[67198],[...|[[category, 0, 10...|         0.0|(262144,[67198],[...|[1.05245145922380...|[0.74124536871041...|       0.0|\n",
            "|#asmongold|2022-05-18T13:16:...|shes going more a...|darkkakashi2701|[[document, 0, 45...|[[sentence_embedd...|[darkkakashi2701]|(262144,[158060],...|(262144,[158060],...|[[category, 0, 45...|         0.0|(262144,[158060],...|[1.05245145922380...|[0.74124536871041...|       0.0|\n",
            "|#asmongold|2022-05-18T13:16:...|  great witness KEKW|       taker259|[[document, 0, 17...|[[sentence_embedd...|       [taker259]|(262144,[52399],[...|(262144,[52399],[...|[[category, 0, 17...|         0.0|(262144,[52399],[...|[1.05245145922380...|[0.74124536871041...|       0.0|\n",
            "|#asmongold|2022-05-18T13:16:...|          PauseChamp|        frag2me|[[document, 0, 9,...|[[sentence_embedd...|        [frag2me]|(262144,[201430],...|(262144,[201430],...|[[category, 0, 9,...|         0.0|(262144,[201430],...|[1.05245145922380...|[0.74124536871041...|       0.0|\n",
            "|#asmongold|2022-05-18T13:16:...|        KEKW  Johnny|        cid2013|[[document, 0, 11...|[[sentence_embedd...|        [cid2013]|(262144,[30022],[...|(262144,[30022],[...|[[category, 0, 11...|         0.0|(262144,[30022],[...|[1.05245145922380...|[0.74124536871041...|       0.0|\n",
            "|#asmongold|2022-05-18T13:16:...|          KEKL JONNY|        c9spawn|[[document, 0, 9,...|[[sentence_embedd...|        [c9spawn]|(262144,[68098],[...|(262144,[68098],[...|[[category, 0, 9,...|         0.0|(262144,[68098],[...|[1.05245145922380...|[0.74124536871041...|       0.0|\n",
            "|#asmongold|2022-05-18T13:16:...|Why is she not lo...|  whytewidow518|[[document, 0, 40...|[[sentence_embedd...|  [whytewidow518]|(262144,[120970],...|(262144,[120970],...|[[category, 0, 40...|         0.0|(262144,[120970],...|[1.05245145922380...|[0.74124536871041...|       0.0|\n",
            "+----------+--------------------+--------------------+---------------+--------------------+--------------------+-----------------+--------------------+--------------------+--------------------+------------+--------------------+--------------------+--------------------+----------+\n",
            "only showing top 20 rows\n",
            "\n"
          ]
        }
      ]
    },
    {
      "cell_type": "code",
      "source": [
        "finDf = preds.select('channel', 'message', 'prediction').toPandas()"
      ],
      "metadata": {
        "id": "7nw1U_t8CTrs"
      },
      "execution_count": null,
      "outputs": []
    },
    {
      "cell_type": "code",
      "source": [
        "#finDf['result'] = finDf['prediction'].str[0]\n",
        "finDf['prediction'].nunique()"
      ],
      "metadata": {
        "colab": {
          "base_uri": "https://localhost:8080/"
        },
        "id": "8y4sAhsfWvdL",
        "outputId": "caa2880a-1d1f-4ef3-95af-c434700d157b"
      },
      "execution_count": null,
      "outputs": [
        {
          "output_type": "execute_result",
          "data": {
            "text/plain": [
              "1"
            ]
          },
          "metadata": {},
          "execution_count": 15
        }
      ]
    },
    {
      "cell_type": "code",
      "source": [
        ""
      ],
      "metadata": {
        "id": "oSxND0I0W1K_"
      },
      "execution_count": null,
      "outputs": []
    }
  ]
}