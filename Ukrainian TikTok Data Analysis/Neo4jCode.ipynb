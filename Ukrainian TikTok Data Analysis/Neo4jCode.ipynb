{
  "cells": [
    {
      "cell_type": "markdown",
      "metadata": {},
      "source": [
        "This script contains cypher chunks of code used for the TikTok graph analysis. \n",
        "All the produced graphs are later exported to Gephi to be further visualized.\n",
        "The cypher code is not adapted to be run in Python. Instead, paste the chunks directly into neo4j."
      ]
    },
    {
      "cell_type": "markdown",
      "metadata": {},
      "source": [
        "Exporting users talking about Ukraine and Russia, such that we get a deep look into the network:"
      ]
    },
    {
      "cell_type": "code",
      "execution_count": null,
      "metadata": {},
      "outputs": [],
      "source": [
        "call apoc.export.graphml.query(\"MATCH (a:user)-[r1:recommends]-(b:user), (a:user)--(v:video)--(t:tag), (b:user)--(w:video)--(s:tag) \n",
        "                                WHERE (v.desc=~\".*putin.*\" OR v.desc=~\".*zelensky.*\") AND \n",
        "                                      (w.desc=~\".*putin.*\" OR w.desc=~\".*zelensky.*\") AND \n",
        "                                      v.commentCount > 1000 AND  t.title IN ['ukraine','russia','ukrainewar', 'ukrainerussiaconflict', 'ukrainewarrussia', 'supportukraine', 'ukrainevsrussia', 'prayforukraine', 'russianarmy'] and \n",
        "                                      s.title IN ['ukraine','russia','ukrainewar', 'ukrainerussiaconflict', 'ukrainewarrussia', 'supportukraine', 'ukrainevsrussia', 'prayforukraine', 'russianarmy']\n",
        "                                RETURN a, b, r1 \", \n",
        "                               \"usersTalkingUkraine.graphml\", \n",
        "                               {useTypes: true, storeNodeIds:true, readLabels:true})"
      ]
    },
    {
      "cell_type": "markdown",
      "metadata": {},
      "source": [
        "Calculating the shortest path between #ukrainewar and #kardashians:"
      ]
    },
    {
      "cell_type": "code",
      "execution_count": null,
      "metadata": {},
      "outputs": [],
      "source": [
        "MATCH (t1:tag {title: 'ukrainewar'}), (t2:tag {title: 'kardashians'}),\n",
        "      p = shortestPath((t1)-[:has*]-(t2))\n",
        "RETURN p"
      ]
    },
    {
      "cell_type": "markdown",
      "metadata": {},
      "source": [
        "Adding tag occurence frequencies as a tag node property:"
      ]
    },
    {
      "cell_type": "code",
      "execution_count": null,
      "metadata": {},
      "outputs": [],
      "source": [
        "MATCH (:user)--(:video)--(t:tag) \n",
        "WITH t, count(t) AS freq \n",
        "SET t.freq = freq \n",
        "RETURN t.title, freq ORDER BY freq desc LIMIT 100 "
      ]
    },
    {
      "cell_type": "markdown",
      "metadata": {},
      "source": [
        "Creating tag_connected relationship, so we can extract tags that are connected to #ukraine:"
      ]
    },
    {
      "cell_type": "code",
      "execution_count": null,
      "metadata": {},
      "outputs": [],
      "source": [
        "MATCH (a:tag)-[:has*1..2]-(b:tag) \n",
        "WHERE a.title = 'ukraine'\n",
        "MERGE (a)-[e:tag_connected_ukraine]-(b) \n",
        "RETURN a, e, b LIMIT 50"
      ]
    },
    {
      "cell_type": "markdown",
      "metadata": {},
      "source": [
        "Tags connected to #ukraine with frequency greater that 100:"
      ]
    },
    {
      "cell_type": "code",
      "execution_count": null,
      "metadata": {},
      "outputs": [],
      "source": [
        "MATCH (a:tag)-[e:tag_connected_ukraine]-(b:tag) \n",
        "WHERE b.freq > 100 \n",
        "RETURN a, e, b LIMIT 200"
      ]
    },
    {
      "cell_type": "markdown",
      "metadata": {},
      "source": [
        "We also ran Page Rank in cypher, but ended up not using it in the further analysis. "
      ]
    },
    {
      "cell_type": "code",
      "execution_count": null,
      "metadata": {},
      "outputs": [],
      "source": [
        "// Projecting ukraineTags\n",
        "call gds.graph.project.cypher('ukraineTags',\n",
        "                            \"MATCH (u:user)-[]->(:video)-[]->(t:tag) \n",
        "                            WHERE t.title IN ['ukraine', 'russia', 'ukrainewar', 'ukrainerussiaconflict', 'ukrainewarrussia', 'supportukraine', 'ukrainevsrussia', 'prayforukraine', 'russianarmy'] \n",
        "                            RETURN id(u) AS id\",\n",
        "                            \"MATCH (u1:user)-[:recommends]->(u2:user) \n",
        "                            RETURN id(u1) as source, id(u2) as target, count(*) as weight\",\n",
        "                            {validateRelationships:FALSE})"
      ]
    },
    {
      "cell_type": "code",
      "execution_count": null,
      "metadata": {},
      "outputs": [],
      "source": [
        "// PageRank on ukraineTags\n",
        "CALL gds.pageRank.stream('ukraineTags')\n",
        "YIELD nodeId, score\n",
        "RETURN gds.util.asNode(nodeId) AS name, score\n",
        "ORDER BY score DESC, name ASC"
      ]
    },
    {
      "cell_type": "code",
      "execution_count": null,
      "metadata": {},
      "outputs": [],
      "source": [
        "// Write pageRank result as a node property\n",
        "CALL gds.pageRank.write('ukraineTags', {writeProperty: 'pageRank'})"
      ]
    }
  ],
  "metadata": {
    "kernelspec": {
      "display_name": "Pyolite",
      "language": "python",
      "name": "python"
    },
    "language_info": {
      "codemirror_mode": {
        "name": "python",
        "version": 3
      },
      "file_extension": ".py",
      "mimetype": "text/x-python",
      "name": "python",
      "nbconvert_exporter": "python",
      "pygments_lexer": "ipython3",
      "version": "3.8"
    }
  },
  "nbformat": 4,
  "nbformat_minor": 4
}
